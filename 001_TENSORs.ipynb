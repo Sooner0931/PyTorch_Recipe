{
  "nbformat": 4,
  "nbformat_minor": 0,
  "metadata": {
    "colab": {
      "name": "001_TENSORs.ipynb",
      "provenance": [],
      "collapsed_sections": []
    },
    "kernelspec": {
      "name": "python3",
      "display_name": "Python 3"
    },
    "accelerator": "GPU"
  },
  "cells": [
    {
      "cell_type": "code",
      "metadata": {
        "id": "l9ZL3qIJRWDQ",
        "colab_type": "code",
        "colab": {}
      },
      "source": [
        "import torch"
      ],
      "execution_count": 0,
      "outputs": []
    },
    {
      "cell_type": "code",
      "metadata": {
        "id": "mYwDn8OCRsvL",
        "colab_type": "code",
        "outputId": "11ca7a02-77ed-4100-92ad-5cc09a574a04",
        "colab": {
          "base_uri": "https://localhost:8080/",
          "height": 35
        }
      },
      "source": [
        "torch.__version__"
      ],
      "execution_count": 0,
      "outputs": [
        {
          "output_type": "execute_result",
          "data": {
            "text/plain": [
              "'1.5.0+cu101'"
            ]
          },
          "metadata": {
            "tags": []
          },
          "execution_count": 8
        }
      ]
    },
    {
      "cell_type": "code",
      "metadata": {
        "id": "EfrPd7qORwrx",
        "colab_type": "code",
        "colab": {}
      },
      "source": [
        "import numpy as np\n",
        "import pandas as pd"
      ],
      "execution_count": 0,
      "outputs": []
    },
    {
      "cell_type": "code",
      "metadata": {
        "id": "qGBxK7OuA0g6",
        "colab_type": "code",
        "outputId": "5f365bcd-4a4c-4e12-ee61-40ea5f66b3a5",
        "colab": {
          "base_uri": "https://localhost:8080/",
          "height": 35
        }
      },
      "source": [
        "np.__version__"
      ],
      "execution_count": 0,
      "outputs": [
        {
          "output_type": "execute_result",
          "data": {
            "text/plain": [
              "'1.18.4'"
            ]
          },
          "metadata": {
            "tags": []
          },
          "execution_count": 10
        }
      ]
    },
    {
      "cell_type": "code",
      "metadata": {
        "id": "aLL9fLmg8cnn",
        "colab_type": "code",
        "outputId": "183c4583-d593-4097-ad1f-4260eb3d0e66",
        "colab": {
          "base_uri": "https://localhost:8080/",
          "height": 35
        }
      },
      "source": [
        "pd.__version__"
      ],
      "execution_count": 0,
      "outputs": [
        {
          "output_type": "execute_result",
          "data": {
            "text/plain": [
              "'1.0.3'"
            ]
          },
          "metadata": {
            "tags": []
          },
          "execution_count": 25
        }
      ]
    },
    {
      "cell_type": "code",
      "metadata": {
        "id": "vc66IqgJA95-",
        "colab_type": "code",
        "colab": {}
      },
      "source": [
        ""
      ],
      "execution_count": 0,
      "outputs": []
    },
    {
      "cell_type": "code",
      "metadata": {
        "id": "DtQtnhxy8c_W",
        "colab_type": "code",
        "colab": {}
      },
      "source": [
        ""
      ],
      "execution_count": 0,
      "outputs": []
    },
    {
      "cell_type": "code",
      "metadata": {
        "id": "EY4PirDBi7ay",
        "colab_type": "code",
        "colab": {}
      },
      "source": [
        ""
      ],
      "execution_count": 0,
      "outputs": []
    },
    {
      "cell_type": "markdown",
      "metadata": {
        "id": "HbgOiNW7J0RM",
        "colab_type": "text"
      },
      "source": [
        "# **TORCH TENSORs**"
      ]
    },
    {
      "cell_type": "code",
      "metadata": {
        "id": "vFVP3mTk8dCe",
        "colab_type": "code",
        "outputId": "35e2319c-0209-4c54-ee64-c3ab1bd2bf1f",
        "colab": {
          "base_uri": "https://localhost:8080/",
          "height": 35
        }
      },
      "source": [
        "A = torch.tensor(2)\n",
        "A"
      ],
      "execution_count": 0,
      "outputs": [
        {
          "output_type": "execute_result",
          "data": {
            "text/plain": [
              "tensor(2)"
            ]
          },
          "metadata": {
            "tags": []
          },
          "execution_count": 11
        }
      ]
    },
    {
      "cell_type": "code",
      "metadata": {
        "id": "oQAlqaNF8ruR",
        "colab_type": "code",
        "outputId": "28ef4903-d8b9-4929-c4ef-3fda027a7849",
        "colab": {
          "base_uri": "https://localhost:8080/",
          "height": 35
        }
      },
      "source": [
        "A = torch.tensor([1, 2, 3])\n",
        "A"
      ],
      "execution_count": 0,
      "outputs": [
        {
          "output_type": "execute_result",
          "data": {
            "text/plain": [
              "tensor([1, 2, 3])"
            ]
          },
          "metadata": {
            "tags": []
          },
          "execution_count": 12
        }
      ]
    },
    {
      "cell_type": "code",
      "metadata": {
        "id": "d0BXIspA88bt",
        "colab_type": "code",
        "outputId": "3f69ec96-2fc9-45cc-8bd7-a9475f872b12",
        "colab": {
          "base_uri": "https://localhost:8080/",
          "height": 88
        }
      },
      "source": [
        "A = torch.tensor([[1, 2, 3, 4],\n",
        "                  [5, 6, 7, 8]])\n",
        "print(A)\n",
        "print(A.dim())\n",
        "print(A.shape)"
      ],
      "execution_count": 0,
      "outputs": [
        {
          "output_type": "stream",
          "text": [
            "tensor([[1, 2, 3, 4],\n",
            "        [5, 6, 7, 8]])\n",
            "2\n",
            "torch.Size([2, 4])\n"
          ],
          "name": "stdout"
        }
      ]
    },
    {
      "cell_type": "code",
      "metadata": {
        "id": "YEyToaQV9POa",
        "colab_type": "code",
        "outputId": "9815757f-f68a-4ea6-f084-080eb01b8c8e",
        "colab": {
          "base_uri": "https://localhost:8080/",
          "height": 159
        }
      },
      "source": [
        "A = torch.tensor([[[1, 2, 3, 4],\n",
        "                  [5, 6, 7, 8]],\n",
        "                  [[1, 2, 3, 4],\n",
        "                  [5, 6, 7, 8]],\n",
        "                 ])\n",
        "print(A)\n",
        "print(A.dim())\n",
        "print(A.size())\n",
        "print(A.shape)"
      ],
      "execution_count": 0,
      "outputs": [
        {
          "output_type": "stream",
          "text": [
            "tensor([[[1, 2, 3, 4],\n",
            "         [5, 6, 7, 8]],\n",
            "\n",
            "        [[1, 2, 3, 4],\n",
            "         [5, 6, 7, 8]]])\n",
            "3\n",
            "torch.Size([2, 2, 4])\n",
            "torch.Size([2, 2, 4])\n"
          ],
          "name": "stdout"
        }
      ]
    },
    {
      "cell_type": "code",
      "metadata": {
        "id": "17pcBY1l9rpr",
        "colab_type": "code",
        "outputId": "4ac6057e-a0f6-40dc-f09e-af5e7464ce75",
        "colab": {
          "base_uri": "https://localhost:8080/",
          "height": 70
        }
      },
      "source": [
        "A = torch.tensor(np.random.randn(3, 4))                                # build tensors from NumPy array \n",
        "A"
      ],
      "execution_count": 0,
      "outputs": [
        {
          "output_type": "execute_result",
          "data": {
            "text/plain": [
              "tensor([[-0.6524, -0.3294,  0.0683,  0.4443],\n",
              "        [-0.7984, -0.2185,  1.8715,  0.0384],\n",
              "        [-1.3385,  0.5763, -0.5874,  0.3036]], dtype=torch.float64)"
            ]
          },
          "metadata": {
            "tags": []
          },
          "execution_count": 17
        }
      ]
    },
    {
      "cell_type": "code",
      "metadata": {
        "id": "lrDBOTqgBOID",
        "colab_type": "code",
        "outputId": "c156e4e6-b502-4fec-d704-84750b6c44a9",
        "colab": {
          "base_uri": "https://localhost:8080/",
          "height": 35
        }
      },
      "source": [
        "A = torch.tensor(range(1, 11))                                         # range( ) function\n",
        "A"
      ],
      "execution_count": 0,
      "outputs": [
        {
          "output_type": "execute_result",
          "data": {
            "text/plain": [
              "tensor([ 1,  2,  3,  4,  5,  6,  7,  8,  9, 10])"
            ]
          },
          "metadata": {
            "tags": []
          },
          "execution_count": 16
        }
      ]
    },
    {
      "cell_type": "code",
      "metadata": {
        "id": "gm2honS9BcUE",
        "colab_type": "code",
        "colab": {}
      },
      "source": [
        ""
      ],
      "execution_count": 0,
      "outputs": []
    },
    {
      "cell_type": "markdown",
      "metadata": {
        "id": "Exwj33LxjAyR",
        "colab_type": "text"
      },
      "source": [
        "**Comparison table b/w NumPy arrays & Torch tensors:**"
      ]
    },
    {
      "cell_type": "code",
      "metadata": {
        "id": "9vNlGfj_iiyT",
        "colab_type": "code",
        "colab": {}
      },
      "source": [
        "index = ['numpy.uint8', 'numpy.int16', 'numpy.int32',\n",
        "         'numpy.int', 'numpy.int64', 'numpy.float32',\n",
        "         'numpy.float', 'numpy.float64']\n",
        "\n",
        "values = ['torch.ByteTensor', 'torch.ShortTensor', 'torch.IntTensor',\n",
        "          'torch.LongTensor', 'torch.LongTensor', 'torch.FloatTensor',\n",
        "          'torch.DoubleTensor', 'torch.DoubleTensor']"
      ],
      "execution_count": 0,
      "outputs": []
    },
    {
      "cell_type": "code",
      "metadata": {
        "id": "5YSnlqw3iyvw",
        "colab_type": "code",
        "outputId": "4fc8d419-3ae4-4c4b-df25-02906c5b986e",
        "colab": {
          "base_uri": "https://localhost:8080/",
          "height": 282
        }
      },
      "source": [
        "NumPy_PyTorch = pd.DataFrame(values, index = index, columns = ['Tensor data type'])\n",
        "\n",
        "NumPy_PyTorch"
      ],
      "execution_count": 0,
      "outputs": [
        {
          "output_type": "execute_result",
          "data": {
            "text/html": [
              "<div>\n",
              "<style scoped>\n",
              "    .dataframe tbody tr th:only-of-type {\n",
              "        vertical-align: middle;\n",
              "    }\n",
              "\n",
              "    .dataframe tbody tr th {\n",
              "        vertical-align: top;\n",
              "    }\n",
              "\n",
              "    .dataframe thead th {\n",
              "        text-align: right;\n",
              "    }\n",
              "</style>\n",
              "<table border=\"1\" class=\"dataframe\">\n",
              "  <thead>\n",
              "    <tr style=\"text-align: right;\">\n",
              "      <th></th>\n",
              "      <th>Tensor data type</th>\n",
              "    </tr>\n",
              "  </thead>\n",
              "  <tbody>\n",
              "    <tr>\n",
              "      <th>numpy.uint8</th>\n",
              "      <td>torch.ByteTensor</td>\n",
              "    </tr>\n",
              "    <tr>\n",
              "      <th>numpy.int16</th>\n",
              "      <td>torch.ShortTensor</td>\n",
              "    </tr>\n",
              "    <tr>\n",
              "      <th>numpy.int32</th>\n",
              "      <td>torch.IntTensor</td>\n",
              "    </tr>\n",
              "    <tr>\n",
              "      <th>numpy.int</th>\n",
              "      <td>torch.LongTensor</td>\n",
              "    </tr>\n",
              "    <tr>\n",
              "      <th>numpy.int64</th>\n",
              "      <td>torch.LongTensor</td>\n",
              "    </tr>\n",
              "    <tr>\n",
              "      <th>numpy.float32</th>\n",
              "      <td>torch.FloatTensor</td>\n",
              "    </tr>\n",
              "    <tr>\n",
              "      <th>numpy.float</th>\n",
              "      <td>torch.DoubleTensor</td>\n",
              "    </tr>\n",
              "    <tr>\n",
              "      <th>numpy.float64</th>\n",
              "      <td>torch.DoubleTensor</td>\n",
              "    </tr>\n",
              "  </tbody>\n",
              "</table>\n",
              "</div>"
            ],
            "text/plain": [
              "                 Tensor data type\n",
              "numpy.uint8      torch.ByteTensor\n",
              "numpy.int16     torch.ShortTensor\n",
              "numpy.int32       torch.IntTensor\n",
              "numpy.int        torch.LongTensor\n",
              "numpy.int64      torch.LongTensor\n",
              "numpy.float32   torch.FloatTensor\n",
              "numpy.float    torch.DoubleTensor\n",
              "numpy.float64  torch.DoubleTensor"
            ]
          },
          "metadata": {
            "tags": []
          },
          "execution_count": 26
        }
      ]
    },
    {
      "cell_type": "code",
      "metadata": {
        "id": "Ua7on-VnBtEp",
        "colab_type": "code",
        "outputId": "36a68129-1fab-4831-c1ad-5624e5dc1649",
        "colab": {
          "base_uri": "https://localhost:8080/",
          "height": 52
        }
      },
      "source": [
        "A = torch.zeros(2, 3, dtype=torch.long)\n",
        "A"
      ],
      "execution_count": 0,
      "outputs": [
        {
          "output_type": "execute_result",
          "data": {
            "text/plain": [
              "tensor([[0, 0, 0],\n",
              "        [0, 0, 0]])"
            ]
          },
          "metadata": {
            "tags": []
          },
          "execution_count": 27
        }
      ]
    },
    {
      "cell_type": "code",
      "metadata": {
        "id": "9P9OJCvIB831",
        "colab_type": "code",
        "outputId": "ee409ee4-0d8c-4402-916e-188f2c24077d",
        "colab": {
          "base_uri": "https://localhost:8080/",
          "height": 52
        }
      },
      "source": [
        "A = torch.zeros(2, 3)\n",
        "A"
      ],
      "execution_count": 0,
      "outputs": [
        {
          "output_type": "execute_result",
          "data": {
            "text/plain": [
              "tensor([[0., 0., 0.],\n",
              "        [0., 0., 0.]])"
            ]
          },
          "metadata": {
            "tags": []
          },
          "execution_count": 28
        }
      ]
    },
    {
      "cell_type": "code",
      "metadata": {
        "id": "qJq6Q05ECA1U",
        "colab_type": "code",
        "outputId": "a417b968-7ea1-420f-a9bd-4123f55a36ed",
        "colab": {
          "base_uri": "https://localhost:8080/",
          "height": 52
        }
      },
      "source": [
        "A = torch.ones(2, 3)\n",
        "A"
      ],
      "execution_count": 0,
      "outputs": [
        {
          "output_type": "execute_result",
          "data": {
            "text/plain": [
              "tensor([[1., 1., 1.],\n",
              "        [1., 1., 1.]])"
            ]
          },
          "metadata": {
            "tags": []
          },
          "execution_count": 29
        }
      ]
    },
    {
      "cell_type": "code",
      "metadata": {
        "id": "LHJ6ji-_CN9T",
        "colab_type": "code",
        "outputId": "32e2ef79-5eae-44fa-d3c2-0d45aca22180",
        "colab": {
          "base_uri": "https://localhost:8080/",
          "height": 70
        }
      },
      "source": [
        "A = torch.eye(3, dtype=torch.long)\n",
        "A"
      ],
      "execution_count": 0,
      "outputs": [
        {
          "output_type": "execute_result",
          "data": {
            "text/plain": [
              "tensor([[1, 0, 0],\n",
              "        [0, 1, 0],\n",
              "        [0, 0, 1]])"
            ]
          },
          "metadata": {
            "tags": []
          },
          "execution_count": 30
        }
      ]
    },
    {
      "cell_type": "code",
      "metadata": {
        "id": "Z8UreBimCOpn",
        "colab_type": "code",
        "outputId": "d92eda3f-cff0-4072-e242-98e1f0408743",
        "colab": {
          "base_uri": "https://localhost:8080/",
          "height": 52
        }
      },
      "source": [
        "A = torch.eye(2, 3, dtype=torch.short)\n",
        "A"
      ],
      "execution_count": 0,
      "outputs": [
        {
          "output_type": "execute_result",
          "data": {
            "text/plain": [
              "tensor([[1, 0, 0],\n",
              "        [0, 1, 0]], dtype=torch.int16)"
            ]
          },
          "metadata": {
            "tags": []
          },
          "execution_count": 31
        }
      ]
    },
    {
      "cell_type": "code",
      "metadata": {
        "id": "6l3vWn3ICOsY",
        "colab_type": "code",
        "colab": {}
      },
      "source": [
        ""
      ],
      "execution_count": 0,
      "outputs": []
    },
    {
      "cell_type": "code",
      "metadata": {
        "id": "CmMxKt12COvJ",
        "colab_type": "code",
        "outputId": "9375bf64-5fd0-45bd-a6a5-970c3b56fab6",
        "colab": {
          "base_uri": "https://localhost:8080/",
          "height": 52
        }
      },
      "source": [
        "A = torch.rand(2, 3)\n",
        "A"
      ],
      "execution_count": 0,
      "outputs": [
        {
          "output_type": "execute_result",
          "data": {
            "text/plain": [
              "tensor([[0.9841, 0.3227, 0.2623],\n",
              "        [0.3840, 0.0031, 0.1386]])"
            ]
          },
          "metadata": {
            "tags": []
          },
          "execution_count": 32
        }
      ]
    },
    {
      "cell_type": "code",
      "metadata": {
        "id": "DFiK6hJUDLhI",
        "colab_type": "code",
        "outputId": "78a761bf-d7c6-401a-c457-6c23cedcadfe",
        "colab": {
          "base_uri": "https://localhost:8080/",
          "height": 52
        }
      },
      "source": [
        "A = torch.randn(2, 3)\n",
        "A"
      ],
      "execution_count": 0,
      "outputs": [
        {
          "output_type": "execute_result",
          "data": {
            "text/plain": [
              "tensor([[-1.0237,  0.2839, -0.5131],\n",
              "        [-0.9632, -2.7408,  1.1649]])"
            ]
          },
          "metadata": {
            "tags": []
          },
          "execution_count": 33
        }
      ]
    },
    {
      "cell_type": "code",
      "metadata": {
        "id": "u5xk7UgeDSgS",
        "colab_type": "code",
        "outputId": "0707f66a-8f86-4573-de65-a3c9d09b07da",
        "colab": {
          "base_uri": "https://localhost:8080/",
          "height": 52
        }
      },
      "source": [
        "A = torch.randint(7, 10, (2, 3))\n",
        "A"
      ],
      "execution_count": 0,
      "outputs": [
        {
          "output_type": "execute_result",
          "data": {
            "text/plain": [
              "tensor([[7, 9, 8],\n",
              "        [8, 7, 8]])"
            ]
          },
          "metadata": {
            "tags": []
          },
          "execution_count": 34
        }
      ]
    },
    {
      "cell_type": "code",
      "metadata": {
        "id": "RcRRqgY1C9Rm",
        "colab_type": "code",
        "outputId": "02105b58-8e73-4049-c760-fb3b85d0de72",
        "colab": {
          "base_uri": "https://localhost:8080/",
          "height": 52
        }
      },
      "source": [
        "B = torch.ones_like(A)                                   # build tensors maintain previous tensor's properties such as dim\n",
        "B"
      ],
      "execution_count": 0,
      "outputs": [
        {
          "output_type": "execute_result",
          "data": {
            "text/plain": [
              "tensor([[1, 1, 1],\n",
              "        [1, 1, 1]])"
            ]
          },
          "metadata": {
            "tags": []
          },
          "execution_count": 35
        }
      ]
    },
    {
      "cell_type": "code",
      "metadata": {
        "id": "PAJa-zxvDGmk",
        "colab_type": "code",
        "outputId": "01ea1201-b9ce-48ca-c1b9-45a50d793ca4",
        "colab": {
          "base_uri": "https://localhost:8080/",
          "height": 34
        }
      },
      "source": [
        "A = torch.linspace(1, 10, 4)                             # linspace( )\n",
        "A"
      ],
      "execution_count": 0,
      "outputs": [
        {
          "output_type": "execute_result",
          "data": {
            "text/plain": [
              "tensor([ 1.,  4.,  7., 10.])"
            ]
          },
          "metadata": {
            "tags": []
          },
          "execution_count": 20
        }
      ]
    },
    {
      "cell_type": "code",
      "metadata": {
        "id": "3sh1tADdDp1c",
        "colab_type": "code",
        "outputId": "761893c7-907e-4818-bc71-65d5079fad74",
        "colab": {
          "base_uri": "https://localhost:8080/",
          "height": 35
        }
      },
      "source": [
        "A = torch.linspace(1, 10, 10)\n",
        "A"
      ],
      "execution_count": 0,
      "outputs": [
        {
          "output_type": "execute_result",
          "data": {
            "text/plain": [
              "tensor([ 1.,  2.,  3.,  4.,  5.,  6.,  7.,  8.,  9., 10.])"
            ]
          },
          "metadata": {
            "tags": []
          },
          "execution_count": 36
        }
      ]
    },
    {
      "cell_type": "code",
      "metadata": {
        "id": "zDol-Qe6Enwj",
        "colab_type": "code",
        "colab": {}
      },
      "source": [
        ""
      ],
      "execution_count": 0,
      "outputs": []
    },
    {
      "cell_type": "code",
      "metadata": {
        "id": "02fWgRExEyyJ",
        "colab_type": "code",
        "outputId": "800ac5de-626d-412e-97d5-4b2979523ba4",
        "colab": {
          "base_uri": "https://localhost:8080/",
          "height": 106
        }
      },
      "source": [
        "A = torch.randn(2, 3, dtype = torch.float32)\n",
        "print(type(A))\n",
        "print(A.type())\n",
        "print(A.size())\n",
        "print(A.dim())\n",
        "print(A.shape)"
      ],
      "execution_count": 0,
      "outputs": [
        {
          "output_type": "stream",
          "text": [
            "<class 'torch.Tensor'>\n",
            "torch.FloatTensor\n",
            "torch.Size([2, 3])\n",
            "2\n",
            "torch.Size([2, 3])\n"
          ],
          "name": "stdout"
        }
      ]
    },
    {
      "cell_type": "code",
      "metadata": {
        "id": "8bl370NIFAXM",
        "colab_type": "code",
        "colab": {}
      },
      "source": [
        ""
      ],
      "execution_count": 0,
      "outputs": []
    },
    {
      "cell_type": "code",
      "metadata": {
        "id": "zRcXnk4LFkpN",
        "colab_type": "code",
        "outputId": "77d3c4d7-ef7d-47e7-a201-22e3e5f025c0",
        "colab": {
          "base_uri": "https://localhost:8080/",
          "height": 106
        }
      },
      "source": [
        "A = torch.eye(5)\n",
        "A"
      ],
      "execution_count": 0,
      "outputs": [
        {
          "output_type": "execute_result",
          "data": {
            "text/plain": [
              "tensor([[1., 0., 0., 0., 0.],\n",
              "        [0., 1., 0., 0., 0.],\n",
              "        [0., 0., 1., 0., 0.],\n",
              "        [0., 0., 0., 1., 0.],\n",
              "        [0., 0., 0., 0., 1.]])"
            ]
          },
          "metadata": {
            "tags": []
          },
          "execution_count": 38
        }
      ]
    },
    {
      "cell_type": "code",
      "metadata": {
        "id": "oHnZYNXlFktg",
        "colab_type": "code",
        "outputId": "3be184d7-b62a-4f7c-e761-0058f2ae6539",
        "colab": {
          "base_uri": "https://localhost:8080/",
          "height": 52
        }
      },
      "source": [
        "A[3:]"
      ],
      "execution_count": 0,
      "outputs": [
        {
          "output_type": "execute_result",
          "data": {
            "text/plain": [
              "tensor([[0., 0., 0., 1., 0.],\n",
              "        [0., 0., 0., 0., 1.]])"
            ]
          },
          "metadata": {
            "tags": []
          },
          "execution_count": 39
        }
      ]
    },
    {
      "cell_type": "code",
      "metadata": {
        "id": "60Mrbw95FwDb",
        "colab_type": "code",
        "outputId": "9cbf6a4e-7106-432e-d776-3eaecec9f2fc",
        "colab": {
          "base_uri": "https://localhost:8080/",
          "height": 70
        }
      },
      "source": [
        "A[:3]"
      ],
      "execution_count": 0,
      "outputs": [
        {
          "output_type": "execute_result",
          "data": {
            "text/plain": [
              "tensor([[1., 0., 0., 0., 0.],\n",
              "        [0., 1., 0., 0., 0.],\n",
              "        [0., 0., 1., 0., 0.]])"
            ]
          },
          "metadata": {
            "tags": []
          },
          "execution_count": 40
        }
      ]
    },
    {
      "cell_type": "code",
      "metadata": {
        "id": "tjAgTXp0F6aj",
        "colab_type": "code",
        "outputId": "d86f7ea6-b0a7-4587-a560-8f75337e7bd5",
        "colab": {
          "base_uri": "https://localhost:8080/",
          "height": 35
        }
      },
      "source": [
        "A[[0, 1, 3],                                                 # 1st[] be the row number and 2nd[] be the column number for selecting specific elements \n",
        "  [0, 2, 3]]"
      ],
      "execution_count": 0,
      "outputs": [
        {
          "output_type": "execute_result",
          "data": {
            "text/plain": [
              "tensor([1., 0., 1.])"
            ]
          },
          "metadata": {
            "tags": []
          },
          "execution_count": 41
        }
      ]
    },
    {
      "cell_type": "code",
      "metadata": {
        "id": "A1yy8oosGMAs",
        "colab_type": "code",
        "colab": {}
      },
      "source": [
        ""
      ],
      "execution_count": 0,
      "outputs": []
    },
    {
      "cell_type": "code",
      "metadata": {
        "id": "nzrR0lIqGWxM",
        "colab_type": "code",
        "outputId": "daaeea10-3cd1-4b54-a341-0c44df403f17",
        "colab": {
          "base_uri": "https://localhost:8080/",
          "height": 106
        }
      },
      "source": [
        "A = torch.ones(5, 4)\n",
        "A"
      ],
      "execution_count": 0,
      "outputs": [
        {
          "output_type": "execute_result",
          "data": {
            "text/plain": [
              "tensor([[1., 1., 1., 1.],\n",
              "        [1., 1., 1., 1.],\n",
              "        [1., 1., 1., 1.],\n",
              "        [1., 1., 1., 1.],\n",
              "        [1., 1., 1., 1.]])"
            ]
          },
          "metadata": {
            "tags": []
          },
          "execution_count": 42
        }
      ]
    },
    {
      "cell_type": "code",
      "metadata": {
        "id": "7V1qp22vGW2K",
        "colab_type": "code",
        "outputId": "0b207ee6-35ff-45c4-e712-dffbeada243a",
        "colab": {
          "base_uri": "https://localhost:8080/",
          "height": 106
        }
      },
      "source": [
        "A[:2] = 0\n",
        "A"
      ],
      "execution_count": 0,
      "outputs": [
        {
          "output_type": "execute_result",
          "data": {
            "text/plain": [
              "tensor([[0., 0., 0., 0.],\n",
              "        [0., 0., 0., 0.],\n",
              "        [1., 1., 1., 1.],\n",
              "        [1., 1., 1., 1.],\n",
              "        [1., 1., 1., 1.]])"
            ]
          },
          "metadata": {
            "tags": []
          },
          "execution_count": 43
        }
      ]
    },
    {
      "cell_type": "code",
      "metadata": {
        "id": "TBeIONEpGW5D",
        "colab_type": "code",
        "outputId": "8c55e20c-1dcc-45b9-c8eb-c5610172d97e",
        "colab": {
          "base_uri": "https://localhost:8080/",
          "height": 88
        }
      },
      "source": [
        "A.t()"
      ],
      "execution_count": 0,
      "outputs": [
        {
          "output_type": "execute_result",
          "data": {
            "text/plain": [
              "tensor([[0., 0., 1., 1., 1.],\n",
              "        [0., 0., 1., 1., 1.],\n",
              "        [0., 0., 1., 1., 1.],\n",
              "        [0., 0., 1., 1., 1.]])"
            ]
          },
          "metadata": {
            "tags": []
          },
          "execution_count": 44
        }
      ]
    },
    {
      "cell_type": "code",
      "metadata": {
        "id": "vjE_sLgfGzNm",
        "colab_type": "code",
        "outputId": "19335e9f-9027-4b59-f5ed-f97ddfac245b",
        "colab": {
          "base_uri": "https://localhost:8080/",
          "height": 88
        }
      },
      "source": [
        "A.transpose(1, 0)"
      ],
      "execution_count": 0,
      "outputs": [
        {
          "output_type": "execute_result",
          "data": {
            "text/plain": [
              "tensor([[0., 0., 1., 1., 1.],\n",
              "        [0., 0., 1., 1., 1.],\n",
              "        [0., 0., 1., 1., 1.],\n",
              "        [0., 0., 1., 1., 1.]])"
            ]
          },
          "metadata": {
            "tags": []
          },
          "execution_count": 45
        }
      ]
    },
    {
      "cell_type": "code",
      "metadata": {
        "id": "G2xmjUSjG97R",
        "colab_type": "code",
        "outputId": "9b9e72d9-8629-4cfa-b3e1-30b33882aee5",
        "colab": {
          "base_uri": "https://localhost:8080/",
          "height": 88
        }
      },
      "source": [
        "A.transpose(0, 1)"
      ],
      "execution_count": 0,
      "outputs": [
        {
          "output_type": "execute_result",
          "data": {
            "text/plain": [
              "tensor([[0., 0., 1., 1., 1.],\n",
              "        [0., 0., 1., 1., 1.],\n",
              "        [0., 0., 1., 1., 1.],\n",
              "        [0., 0., 1., 1., 1.]])"
            ]
          },
          "metadata": {
            "tags": []
          },
          "execution_count": 46
        }
      ]
    },
    {
      "cell_type": "code",
      "metadata": {
        "id": "GRHy7YNCHCaJ",
        "colab_type": "code",
        "outputId": "aa0e751b-8ca6-4f76-84ae-c3fa7ee6e040",
        "colab": {
          "base_uri": "https://localhost:8080/",
          "height": 106
        }
      },
      "source": [
        "A"
      ],
      "execution_count": 0,
      "outputs": [
        {
          "output_type": "execute_result",
          "data": {
            "text/plain": [
              "tensor([[0., 0., 0., 0.],\n",
              "        [0., 0., 0., 0.],\n",
              "        [1., 1., 1., 1.],\n",
              "        [1., 1., 1., 1.],\n",
              "        [1., 1., 1., 1.]])"
            ]
          },
          "metadata": {
            "tags": []
          },
          "execution_count": 47
        }
      ]
    },
    {
      "cell_type": "code",
      "metadata": {
        "id": "WS-mvamtHHvk",
        "colab_type": "code",
        "outputId": "701bf149-0c04-45bd-a65c-65405e29ba5e",
        "colab": {
          "base_uri": "https://localhost:8080/",
          "height": 88
        }
      },
      "source": [
        "A.transpose_(1, 0)                              # using \"_\" is equivalent as \"inplace = True\""
      ],
      "execution_count": 0,
      "outputs": [
        {
          "output_type": "execute_result",
          "data": {
            "text/plain": [
              "tensor([[0., 0., 1., 1., 1.],\n",
              "        [0., 0., 1., 1., 1.],\n",
              "        [0., 0., 1., 1., 1.],\n",
              "        [0., 0., 1., 1., 1.]])"
            ]
          },
          "metadata": {
            "tags": []
          },
          "execution_count": 48
        }
      ]
    },
    {
      "cell_type": "code",
      "metadata": {
        "id": "eRO5oAQkHRXd",
        "colab_type": "code",
        "outputId": "73561fc2-5a3d-4054-eac8-d6024ec2a553",
        "colab": {
          "base_uri": "https://localhost:8080/",
          "height": 88
        }
      },
      "source": [
        "A                                               # now original A is replaced"
      ],
      "execution_count": 0,
      "outputs": [
        {
          "output_type": "execute_result",
          "data": {
            "text/plain": [
              "tensor([[0., 0., 1., 1., 1.],\n",
              "        [0., 0., 1., 1., 1.],\n",
              "        [0., 0., 1., 1., 1.],\n",
              "        [0., 0., 1., 1., 1.]])"
            ]
          },
          "metadata": {
            "tags": []
          },
          "execution_count": 49
        }
      ]
    },
    {
      "cell_type": "code",
      "metadata": {
        "id": "rInABr0rHSwc",
        "colab_type": "code",
        "colab": {}
      },
      "source": [
        ""
      ],
      "execution_count": 0,
      "outputs": []
    },
    {
      "cell_type": "code",
      "metadata": {
        "id": "cXfEvQtFHrP0",
        "colab_type": "code",
        "outputId": "17d13c98-b535-4d75-ebac-cadc12890867",
        "colab": {
          "base_uri": "https://localhost:8080/",
          "height": 52
        }
      },
      "source": [
        "A = torch.ones(2, 3)\n",
        "A"
      ],
      "execution_count": 0,
      "outputs": [
        {
          "output_type": "execute_result",
          "data": {
            "text/plain": [
              "tensor([[1., 1., 1.],\n",
              "        [1., 1., 1.]])"
            ]
          },
          "metadata": {
            "tags": []
          },
          "execution_count": 50
        }
      ]
    },
    {
      "cell_type": "code",
      "metadata": {
        "id": "MQ_DsKGkH487",
        "colab_type": "code",
        "outputId": "eee13d66-3cd9-49b3-b7c2-33360a7b732e",
        "colab": {
          "base_uri": "https://localhost:8080/",
          "height": 52
        }
      },
      "source": [
        "B = torch.ones(2, 3)\n",
        "B"
      ],
      "execution_count": 0,
      "outputs": [
        {
          "output_type": "execute_result",
          "data": {
            "text/plain": [
              "tensor([[1., 1., 1.],\n",
              "        [1., 1., 1.]])"
            ]
          },
          "metadata": {
            "tags": []
          },
          "execution_count": 51
        }
      ]
    },
    {
      "cell_type": "code",
      "metadata": {
        "id": "KGOT0DEJHvQ7",
        "colab_type": "code",
        "outputId": "3e5e6e08-df35-4e35-fb16-6a7c28674e75",
        "colab": {
          "base_uri": "https://localhost:8080/",
          "height": 52
        }
      },
      "source": [
        "torch.add(A, B)"
      ],
      "execution_count": 0,
      "outputs": [
        {
          "output_type": "execute_result",
          "data": {
            "text/plain": [
              "tensor([[2., 2., 2.],\n",
              "        [2., 2., 2.]])"
            ]
          },
          "metadata": {
            "tags": []
          },
          "execution_count": 52
        }
      ]
    },
    {
      "cell_type": "code",
      "metadata": {
        "id": "QI3f981yH9Kz",
        "colab_type": "code",
        "outputId": "726c9db6-e04b-4965-9f79-e39e3ad015c8",
        "colab": {
          "base_uri": "https://localhost:8080/",
          "height": 52
        }
      },
      "source": [
        "A"
      ],
      "execution_count": 0,
      "outputs": [
        {
          "output_type": "execute_result",
          "data": {
            "text/plain": [
              "tensor([[1., 1., 1.],\n",
              "        [1., 1., 1.]])"
            ]
          },
          "metadata": {
            "tags": []
          },
          "execution_count": 53
        }
      ]
    },
    {
      "cell_type": "code",
      "metadata": {
        "id": "4KKs0snVH96T",
        "colab_type": "code",
        "outputId": "665844ef-a21f-4b64-96d1-62eb18adc5ac",
        "colab": {
          "base_uri": "https://localhost:8080/",
          "height": 52
        }
      },
      "source": [
        "A.add_(B)"
      ],
      "execution_count": 0,
      "outputs": [
        {
          "output_type": "execute_result",
          "data": {
            "text/plain": [
              "tensor([[2., 2., 2.],\n",
              "        [2., 2., 2.]])"
            ]
          },
          "metadata": {
            "tags": []
          },
          "execution_count": 54
        }
      ]
    },
    {
      "cell_type": "code",
      "metadata": {
        "id": "yQtx_C6sIHaP",
        "colab_type": "code",
        "outputId": "6ab3eb08-7f68-41c0-f239-79d6202e65ef",
        "colab": {
          "base_uri": "https://localhost:8080/",
          "height": 52
        }
      },
      "source": [
        "A"
      ],
      "execution_count": 0,
      "outputs": [
        {
          "output_type": "execute_result",
          "data": {
            "text/plain": [
              "tensor([[2., 2., 2.],\n",
              "        [2., 2., 2.]])"
            ]
          },
          "metadata": {
            "tags": []
          },
          "execution_count": 55
        }
      ]
    },
    {
      "cell_type": "code",
      "metadata": {
        "id": "dIF5Qjn2IR3w",
        "colab_type": "code",
        "outputId": "c6a4b5bb-9fff-42b4-c4e7-94188de1dee9",
        "colab": {
          "base_uri": "https://localhost:8080/",
          "height": 35
        }
      },
      "source": [
        "A = torch.tensor([1.0, 2.0])\n",
        "A"
      ],
      "execution_count": 0,
      "outputs": [
        {
          "output_type": "execute_result",
          "data": {
            "text/plain": [
              "tensor([1., 2.])"
            ]
          },
          "metadata": {
            "tags": []
          },
          "execution_count": 56
        }
      ]
    },
    {
      "cell_type": "code",
      "metadata": {
        "id": "CccQBKNHIdB0",
        "colab_type": "code",
        "outputId": "d6a9ecb5-9eb5-4c71-c459-2975098ae1f6",
        "colab": {
          "base_uri": "https://localhost:8080/",
          "height": 35
        }
      },
      "source": [
        "out = A.pow(2)\n",
        "out"
      ],
      "execution_count": 0,
      "outputs": [
        {
          "output_type": "execute_result",
          "data": {
            "text/plain": [
              "tensor([1., 4.])"
            ]
          },
          "metadata": {
            "tags": []
          },
          "execution_count": 57
        }
      ]
    },
    {
      "cell_type": "code",
      "metadata": {
        "id": "vdyzpyE1InSE",
        "colab_type": "code",
        "outputId": "0081a24e-612a-4373-b02c-0b8ed18f3b16",
        "colab": {
          "base_uri": "https://localhost:8080/",
          "height": 35
        }
      },
      "source": [
        "out = A.pow(2).sum()\n",
        "out"
      ],
      "execution_count": 0,
      "outputs": [
        {
          "output_type": "execute_result",
          "data": {
            "text/plain": [
              "tensor(5.)"
            ]
          },
          "metadata": {
            "tags": []
          },
          "execution_count": 58
        }
      ]
    },
    {
      "cell_type": "code",
      "metadata": {
        "id": "dyW14ms7Ippc",
        "colab_type": "code",
        "colab": {}
      },
      "source": [
        "A = torch.eye(5, 5)\n",
        "B = torch.ones(5, 5)"
      ],
      "execution_count": 0,
      "outputs": []
    },
    {
      "cell_type": "code",
      "metadata": {
        "id": "0xfcv8baIwhw",
        "colab_type": "code",
        "outputId": "9a9a6730-760c-4e39-94c7-aa2686b6d423",
        "colab": {
          "base_uri": "https://localhost:8080/",
          "height": 106
        }
      },
      "source": [
        "A"
      ],
      "execution_count": 0,
      "outputs": [
        {
          "output_type": "execute_result",
          "data": {
            "text/plain": [
              "tensor([[1., 0., 0., 0., 0.],\n",
              "        [0., 1., 0., 0., 0.],\n",
              "        [0., 0., 1., 0., 0.],\n",
              "        [0., 0., 0., 1., 0.],\n",
              "        [0., 0., 0., 0., 1.]])"
            ]
          },
          "metadata": {
            "tags": []
          },
          "execution_count": 60
        }
      ]
    },
    {
      "cell_type": "code",
      "metadata": {
        "id": "4iw3Xm1vIx9b",
        "colab_type": "code",
        "outputId": "da4c726a-a62f-486a-8926-12468183a204",
        "colab": {
          "base_uri": "https://localhost:8080/",
          "height": 106
        }
      },
      "source": [
        "B"
      ],
      "execution_count": 0,
      "outputs": [
        {
          "output_type": "execute_result",
          "data": {
            "text/plain": [
              "tensor([[1., 1., 1., 1., 1.],\n",
              "        [1., 1., 1., 1., 1.],\n",
              "        [1., 1., 1., 1., 1.],\n",
              "        [1., 1., 1., 1., 1.],\n",
              "        [1., 1., 1., 1., 1.]])"
            ]
          },
          "metadata": {
            "tags": []
          },
          "execution_count": 61
        }
      ]
    },
    {
      "cell_type": "code",
      "metadata": {
        "id": "K3wSxHVwIzDE",
        "colab_type": "code",
        "outputId": "67390015-a16e-4f11-9c6a-567fe72ea853",
        "colab": {
          "base_uri": "https://localhost:8080/",
          "height": 106
        }
      },
      "source": [
        "print(A * B)                                     # element-wise product"
      ],
      "execution_count": 0,
      "outputs": [
        {
          "output_type": "stream",
          "text": [
            "tensor([[1., 0., 0., 0., 0.],\n",
            "        [0., 1., 0., 0., 0.],\n",
            "        [0., 0., 1., 0., 0.],\n",
            "        [0., 0., 0., 1., 0.],\n",
            "        [0., 0., 0., 0., 1.]])\n"
          ],
          "name": "stdout"
        }
      ]
    },
    {
      "cell_type": "code",
      "metadata": {
        "id": "xfmN131VI0lT",
        "colab_type": "code",
        "outputId": "8563f3e8-2de4-40be-83c4-26f84552a24d",
        "colab": {
          "base_uri": "https://localhost:8080/",
          "height": 106
        }
      },
      "source": [
        "A = torch.eye(5, 5)\n",
        "B = torch.ones(5, 5)\n",
        "C = A * B\n",
        "C.rot90()                                        # torch.rot90()"
      ],
      "execution_count": 0,
      "outputs": [
        {
          "output_type": "execute_result",
          "data": {
            "text/plain": [
              "tensor([[0., 0., 0., 0., 1.],\n",
              "        [0., 0., 0., 1., 0.],\n",
              "        [0., 0., 1., 0., 0.],\n",
              "        [0., 1., 0., 0., 0.],\n",
              "        [1., 0., 0., 0., 0.]])"
            ]
          },
          "metadata": {
            "tags": []
          },
          "execution_count": 63
        }
      ]
    },
    {
      "cell_type": "code",
      "metadata": {
        "id": "4nb1tuctJIIU",
        "colab_type": "code",
        "colab": {}
      },
      "source": [
        ""
      ],
      "execution_count": 0,
      "outputs": []
    },
    {
      "cell_type": "code",
      "metadata": {
        "id": "BLoDr679JvWX",
        "colab_type": "code",
        "colab": {}
      },
      "source": [
        ""
      ],
      "execution_count": 0,
      "outputs": []
    },
    {
      "cell_type": "code",
      "metadata": {
        "id": "ifa766KmJvZL",
        "colab_type": "code",
        "colab": {}
      },
      "source": [
        ""
      ],
      "execution_count": 0,
      "outputs": []
    },
    {
      "cell_type": "markdown",
      "metadata": {
        "id": "vzxxbopYKA44",
        "colab_type": "text"
      },
      "source": [
        "# **CUDA TENSORs**"
      ]
    },
    {
      "cell_type": "markdown",
      "metadata": {
        "id": "hklezZgSKONv",
        "colab_type": "text"
      },
      "source": [
        "PyTorch provides the option to easily manipulate tensors in addition to moving them from gpu and cpu, which allows for ease of training and controlling which parts should be commited to the gpu or the cpu. This gives the control/flexibility to the programmer to design the models for different scenarios with different compute resources."
      ]
    },
    {
      "cell_type": "code",
      "metadata": {
        "id": "PAMxwI8_JveG",
        "colab_type": "code",
        "outputId": "67ae2e1c-a43b-4ac8-87d1-90151520d006",
        "colab": {
          "base_uri": "https://localhost:8080/",
          "height": 70
        }
      },
      "source": [
        "# check if cuda is available in your computer\n",
        "print(\"---------------------------------------------------\")\n",
        "print(\"Cuda status:\", torch.cuda.is_available())\n",
        "\n",
        "device_0 = torch.device(\"cuda\")\n",
        "device_1 = torch.device(\"cpu\")\n",
        "\n",
        "print(\"---------------------------------------------------\")"
      ],
      "execution_count": 0,
      "outputs": [
        {
          "output_type": "stream",
          "text": [
            "---------------------------------------------------\n",
            "Cuda status: True\n",
            "---------------------------------------------------\n"
          ],
          "name": "stdout"
        }
      ]
    },
    {
      "cell_type": "code",
      "metadata": {
        "id": "x9gS__tZJvhf",
        "colab_type": "code",
        "outputId": "dcf86e67-669e-4a9f-9f85-7f8bf4d79ba0",
        "colab": {
          "base_uri": "https://localhost:8080/",
          "height": 212
        }
      },
      "source": [
        "x = torch.rand(2, 3)\n",
        "y = torch.ones_like(x, device=device_0)\n",
        "z = torch.zeros_like(x, device=device_1)\n",
        "print(\"---------------------------------------------------\")\n",
        "print(\"Tensor x is stored in: \", x.device)\n",
        "print(x)\n",
        "print(\"Tensor y is stored in: \", y.device)\n",
        "print(y)\n",
        "print(\"---------------------------------------------------\")\n",
        "print(\"Tensor z is stored in: \", z.device)\n",
        "print(z)"
      ],
      "execution_count": 0,
      "outputs": [
        {
          "output_type": "stream",
          "text": [
            "---------------------------------------------------\n",
            "Tensor x is stored in:  cpu\n",
            "tensor([[0.7069, 0.1329, 0.1839],\n",
            "        [0.8886, 0.4776, 0.5873]])\n",
            "Tensor y is stored in:  cuda:0\n",
            "tensor([[1., 1., 1.],\n",
            "        [1., 1., 1.]], device='cuda:0')\n",
            "---------------------------------------------------\n",
            "Tensor z is stored in:  cpu\n",
            "tensor([[0., 0., 0.],\n",
            "        [0., 0., 0.]])\n"
          ],
          "name": "stdout"
        }
      ]
    },
    {
      "cell_type": "code",
      "metadata": {
        "id": "q00xFGzxJvcg",
        "colab_type": "code",
        "outputId": "313eea70-75dd-4c95-c60a-f7f6b00a1ab7",
        "colab": {
          "base_uri": "https://localhost:8080/",
          "height": 70
        }
      },
      "source": [
        "# check if tensor stored in GPU\n",
        "\n",
        "print(x.is_cuda)\n",
        "print(y.is_cuda)\n",
        "print(z.is_cuda)"
      ],
      "execution_count": 0,
      "outputs": [
        {
          "output_type": "stream",
          "text": [
            "False\n",
            "True\n",
            "False\n"
          ],
          "name": "stdout"
        }
      ]
    },
    {
      "cell_type": "code",
      "metadata": {
        "id": "p97ZHNskLUDw",
        "colab_type": "code",
        "outputId": "32f9f299-b43f-4900-ba08-f87c054fe432",
        "colab": {
          "base_uri": "https://localhost:8080/",
          "height": 52
        }
      },
      "source": [
        "%%time\n",
        "\n",
        "a = torch.rand(1000, 1000)\n",
        "b = torch.rand(1000, 1000)\n",
        "\n",
        "a.matmul(b)"
      ],
      "execution_count": 0,
      "outputs": [
        {
          "output_type": "stream",
          "text": [
            "CPU times: user 47 ms, sys: 0 ns, total: 47 ms\n",
            "Wall time: 47.8 ms\n"
          ],
          "name": "stdout"
        }
      ]
    },
    {
      "cell_type": "markdown",
      "metadata": {
        "id": "5JrZFgSLlzHz",
        "colab_type": "text"
      },
      "source": [
        "**GPU computation is way faster than CPU if tensor is huge:**"
      ]
    },
    {
      "cell_type": "code",
      "metadata": {
        "id": "lSELT9ZBLad8",
        "colab_type": "code",
        "outputId": "d62e6658-101c-42b3-9797-c7e79b8420da",
        "colab": {
          "base_uri": "https://localhost:8080/",
          "height": 52
        }
      },
      "source": [
        "%%time\n",
        "\n",
        "a = torch.rand(1000, 1000).cuda()\n",
        "b = torch.rand(1000, 1000).cuda()\n",
        "\n",
        "a.matmul(b)"
      ],
      "execution_count": 0,
      "outputs": [
        {
          "output_type": "stream",
          "text": [
            "CPU times: user 22.4 ms, sys: 0 ns, total: 22.4 ms\n",
            "Wall time: 24.1 ms\n"
          ],
          "name": "stdout"
        }
      ]
    },
    {
      "cell_type": "markdown",
      "metadata": {
        "id": "0bbZzCxcLn4Z",
        "colab_type": "text"
      },
      "source": [
        "### **Pipeline of Tensor Operations**\n",
        "With PyTorch everything is a **chain** of operations and the high-level APIs offer all the necessary functionalities to achieve this. Below, we will explore a simple approach to chaining tensor operations. In other words, we are designing a graph or a flow of operations that are chained together, designed to output something. This is essential for training neural networks. This is why neural networks are sometimes called **computation graphs**, because they are simply a chain of operations."
      ]
    },
    {
      "cell_type": "code",
      "metadata": {
        "id": "RlCxp3feLdhV",
        "colab_type": "code",
        "colab": {}
      },
      "source": [
        "import torch.nn as nn\n",
        "\n",
        "class Chain(nn.Module):\n",
        "  def __init__(self, ):\n",
        "    super(Chain, self).__init__()\n",
        "    \n",
        "  def forward(self, x):\n",
        "    print(\"---------------------------------------------------\")\n",
        "    print(\"X:\")\n",
        "    print(x)\n",
        "    print(\"---------------------------------------------------\")\n",
        "    print(\"X powered by 2:\")\n",
        "    print(x.pow(2))\n",
        "    print(\"mean(X): \")\n",
        "    out = x.mean()\n",
        "    return out"
      ],
      "execution_count": 0,
      "outputs": []
    },
    {
      "cell_type": "code",
      "metadata": {
        "id": "ny5e9UEwMcWu",
        "colab_type": "code",
        "outputId": "66f038b3-5404-4e10-e1d6-e586143c9016",
        "colab": {
          "base_uri": "https://localhost:8080/",
          "height": 284
        }
      },
      "source": [
        "x =  torch.rand((4,5), dtype=torch.float64)\n",
        "chain = Chain()\n",
        "mean_x = chain(x)\n",
        "print(mean_x)"
      ],
      "execution_count": 0,
      "outputs": [
        {
          "output_type": "stream",
          "text": [
            "---------------------------------------------------\n",
            "X:\n",
            "tensor([[0.6344, 0.3426, 0.0296, 0.0725, 0.0943],\n",
            "        [0.2962, 0.6221, 0.5092, 0.2060, 0.6786],\n",
            "        [0.3925, 0.1269, 0.7806, 0.0953, 0.1974],\n",
            "        [0.1640, 0.0158, 0.2380, 0.0300, 0.5791]], dtype=torch.float64)\n",
            "---------------------------------------------------\n",
            "X powered by 2:\n",
            "tensor([[4.0244e-01, 1.1736e-01, 8.7661e-04, 5.2505e-03, 8.8983e-03],\n",
            "        [8.7706e-02, 3.8703e-01, 2.5928e-01, 4.2451e-02, 4.6055e-01],\n",
            "        [1.5403e-01, 1.6104e-02, 6.0933e-01, 9.0874e-03, 3.8953e-02],\n",
            "        [2.6897e-02, 2.4871e-04, 5.6627e-02, 8.9706e-04, 3.3536e-01]],\n",
            "       dtype=torch.float64)\n",
            "mean(X): \n",
            "tensor(0.3052, dtype=torch.float64)\n"
          ],
          "name": "stdout"
        }
      ]
    },
    {
      "cell_type": "code",
      "metadata": {
        "id": "W_Z5D0KSMsbM",
        "colab_type": "code",
        "outputId": "fc79e6b9-2413-4327-b41c-ec12095d97b1",
        "colab": {
          "base_uri": "https://localhost:8080/",
          "height": 319
        }
      },
      "source": [
        "y = torch.eye(5,5)\n",
        "print(torch.mean(y))\n",
        "chain_2 = Chain()\n",
        "mean_y = chain_2(y)\n",
        "print(mean_y)"
      ],
      "execution_count": 0,
      "outputs": [
        {
          "output_type": "stream",
          "text": [
            "tensor(0.2000)\n",
            "---------------------------------------------------\n",
            "X:\n",
            "tensor([[1., 0., 0., 0., 0.],\n",
            "        [0., 1., 0., 0., 0.],\n",
            "        [0., 0., 1., 0., 0.],\n",
            "        [0., 0., 0., 1., 0.],\n",
            "        [0., 0., 0., 0., 1.]])\n",
            "---------------------------------------------------\n",
            "X powered by 2:\n",
            "tensor([[1., 0., 0., 0., 0.],\n",
            "        [0., 1., 0., 0., 0.],\n",
            "        [0., 0., 1., 0., 0.],\n",
            "        [0., 0., 0., 1., 0.],\n",
            "        [0., 0., 0., 0., 1.]])\n",
            "mean(X): \n",
            "tensor(0.2000)\n"
          ],
          "name": "stdout"
        }
      ]
    }
  ]
}