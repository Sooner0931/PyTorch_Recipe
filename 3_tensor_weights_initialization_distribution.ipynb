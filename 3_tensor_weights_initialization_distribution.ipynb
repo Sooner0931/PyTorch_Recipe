{
 "cells": [
  {
   "cell_type": "code",
   "execution_count": 3,
   "metadata": {
    "colab": {},
    "colab_type": "code",
    "id": "gcl__H-JswPE"
   },
   "outputs": [],
   "source": [
    "import numpy as np\n",
    "import pandas as pd\n",
    "import torch\n",
    "\n",
    "from torch.autograd import Variable\n",
    "from torch import FloatTensor\n",
    "from torch.autograd import Variable"
   ]
  },
  {
   "cell_type": "code",
   "execution_count": 4,
   "metadata": {
    "colab": {
     "base_uri": "https://localhost:8080/",
     "height": 34
    },
    "colab_type": "code",
    "id": "BO7OldaXswPU",
    "outputId": "ecad54c2-473a-4c4d-e888-cd97414d71ec"
   },
   "outputs": [
    {
     "data": {
      "text/plain": [
       "'1.3.1'"
      ]
     },
     "execution_count": 4,
     "metadata": {},
     "output_type": "execute_result"
    }
   ],
   "source": [
    "torch.version.__version__"
   ]
  },
  {
   "cell_type": "code",
   "execution_count": null,
   "metadata": {
    "colab": {},
    "colab_type": "code",
    "id": "DHxMKGKBtI0p"
   },
   "outputs": [],
   "source": []
  },
  {
   "cell_type": "code",
   "execution_count": null,
   "metadata": {
    "colab": {},
    "colab_type": "code",
    "id": "Eqad6tYOtI-l"
   },
   "outputs": [],
   "source": []
  },
  {
   "cell_type": "code",
   "execution_count": null,
   "metadata": {
    "colab": {},
    "colab_type": "code",
    "id": "LxcZJDe5tI7H"
   },
   "outputs": [],
   "source": []
  },
  {
   "cell_type": "code",
   "execution_count": 5,
   "metadata": {
    "colab": {
     "base_uri": "https://localhost:8080/",
     "height": 84
    },
    "colab_type": "code",
    "id": "sjh0SJmhswPa",
    "outputId": "c6b2f040-3e56-4993-fbd6-991dea4a3afc"
   },
   "outputs": [
    {
     "data": {
      "text/plain": [
       "tensor([[-0.1117, -0.4966,  0.1631, -0.8817],\n",
       "        [ 0.0539,  0.6684, -0.0597, -0.4675],\n",
       "        [-0.2153,  0.8840, -0.7584, -0.3689],\n",
       "        [-0.3424, -1.4020,  0.3206, -1.0219]])"
      ]
     },
     "execution_count": 5,
     "metadata": {},
     "output_type": "execute_result"
    }
   ],
   "source": [
    "torch.manual_seed(1234)\n",
    "\n",
    "torch.randn(4,4)"
   ]
  },
  {
   "cell_type": "code",
   "execution_count": null,
   "metadata": {
    "colab": {},
    "colab_type": "code",
    "id": "KU7g65mkswPf"
   },
   "outputs": [],
   "source": []
  },
  {
   "cell_type": "code",
   "execution_count": 6,
   "metadata": {
    "colab": {
     "base_uri": "https://localhost:8080/",
     "height": 84
    },
    "colab_type": "code",
    "id": "FkRanHstswPi",
    "outputId": "8cdb7d65-e95c-4eed-8e0c-898cac8b0b0c"
   },
   "outputs": [
    {
     "data": {
      "text/plain": [
       "tensor([[0.2837, 0.6567, 0.2388, 0.7313],\n",
       "        [0.6012, 0.3043, 0.2548, 0.6294],\n",
       "        [0.9665, 0.7399, 0.4517, 0.4757],\n",
       "        [0.7842, 0.1525, 0.6662, 0.3343]])"
      ]
     },
     "execution_count": 6,
     "metadata": {},
     "output_type": "execute_result"
    }
   ],
   "source": [
    "torch.Tensor(4, 4).uniform_(0, 1)                                                              # uniform"
   ]
  },
  {
   "cell_type": "code",
   "execution_count": null,
   "metadata": {
    "colab": {},
    "colab_type": "code",
    "id": "y1JqOfTqswPl"
   },
   "outputs": [],
   "source": []
  },
  {
   "cell_type": "code",
   "execution_count": 7,
   "metadata": {
    "colab": {
     "base_uri": "https://localhost:8080/",
     "height": 84
    },
    "colab_type": "code",
    "id": "d4GBd4BcswPo",
    "outputId": "0d38552e-ec38-4702-fac2-07f8153d5172"
   },
   "outputs": [
    {
     "data": {
      "text/plain": [
       "tensor([[0., 0., 0., 0.],\n",
       "        [1., 0., 1., 0.],\n",
       "        [1., 0., 1., 1.],\n",
       "        [0., 0., 0., 0.]])"
      ]
     },
     "execution_count": 7,
     "metadata": {},
     "output_type": "execute_result"
    }
   ],
   "source": [
    "torch.bernoulli(torch.Tensor(4, 4).uniform_(0, 1))                                             # bernoulli"
   ]
  },
  {
   "cell_type": "code",
   "execution_count": null,
   "metadata": {
    "colab": {},
    "colab_type": "code",
    "id": "Lr0DyD96swPr"
   },
   "outputs": [],
   "source": []
  },
  {
   "cell_type": "code",
   "execution_count": 8,
   "metadata": {
    "colab": {
     "base_uri": "https://localhost:8080/",
     "height": 34
    },
    "colab_type": "code",
    "id": "mW2GyasjswPt",
    "outputId": "001c7429-4bf8-4f21-c6ec-5488a0884ebb"
   },
   "outputs": [
    {
     "data": {
      "text/plain": [
       "tensor([10, 10, 13, 10, 34, 45, 65, 67, 87, 89, 87, 34])"
      ]
     },
     "execution_count": 8,
     "metadata": {},
     "output_type": "execute_result"
    }
   ],
   "source": [
    "torch.tensor([10, 10, 13, 10, 34, 45, 65, 67, 87, 89, 87, 34])"
   ]
  },
  {
   "cell_type": "code",
   "execution_count": 9,
   "metadata": {
    "colab": {
     "base_uri": "https://localhost:8080/",
     "height": 34
    },
    "colab_type": "code",
    "id": "he5sw5iOswPv",
    "outputId": "87edc4c6-8d7c-46da-b729-c73f28b82273"
   },
   "outputs": [
    {
     "data": {
      "text/plain": [
       "tensor([10., 10., 13., 10., 34., 45., 65., 67., 87., 89., 87., 34.])"
      ]
     },
     "execution_count": 9,
     "metadata": {},
     "output_type": "execute_result"
    }
   ],
   "source": [
    "torch.Tensor([10, 10, 13, 10, 34, 45, 65, 67, 87, 89, 87, 34])"
   ]
  },
  {
   "cell_type": "code",
   "execution_count": 10,
   "metadata": {
    "colab": {},
    "colab_type": "code",
    "id": "Xr7-ej7NswPx",
    "outputId": "167e744f-aea8-4412-c582-88e8021c2c4e"
   },
   "outputs": [
    {
     "data": {
      "text/plain": [
       "tensor([10,  7,  6])"
      ]
     },
     "execution_count": 10,
     "metadata": {},
     "output_type": "execute_result"
    }
   ],
   "source": [
    "torch.multinomial(torch.Tensor([10, 10, 13, 10, 34, 45, 65, 67, 87, 89, 87, 34]), 3)     # multinomial & the default is no replacement "
   ]
  },
  {
   "cell_type": "code",
   "execution_count": 11,
   "metadata": {
    "colab": {
     "base_uri": "https://localhost:8080/",
     "height": 34
    },
    "colab_type": "code",
    "id": "eQ2wjabBswP0",
    "outputId": "8ec9ed16-bffb-4a62-e9a6-c4b232c1ee90"
   },
   "outputs": [
    {
     "data": {
      "text/plain": [
       "tensor([11,  4,  4,  8,  6])"
      ]
     },
     "execution_count": 11,
     "metadata": {},
     "output_type": "execute_result"
    }
   ],
   "source": [
    "torch.multinomial(torch.Tensor([10, 10, 13, 10, 34, 45, 65, 67, 87, 89, 87, 34]), 5, replacement = True)      # returns index position of selected tensor"
   ]
  },
  {
   "cell_type": "code",
   "execution_count": null,
   "metadata": {
    "colab": {},
    "colab_type": "code",
    "id": "LBKC3_qfswP3"
   },
   "outputs": [],
   "source": []
  },
  {
   "cell_type": "code",
   "execution_count": 12,
   "metadata": {
    "colab": {
     "base_uri": "https://localhost:8080/",
     "height": 50
    },
    "colab_type": "code",
    "id": "3DnWjODSswP5",
    "outputId": "20be0fc7-597f-49b0-a533-8c429fdc9646"
   },
   "outputs": [
    {
     "data": {
      "text/plain": [
       "tensor([-0.0413,  2.0632,  3.4637,  3.9581,  5.1089,  5.6602,  6.8973,  7.4543,\n",
       "         9.0422, 10.0337])"
      ]
     },
     "execution_count": 12,
     "metadata": {},
     "output_type": "execute_result"
    }
   ],
   "source": [
    "torch.normal(mean = torch.arange(1., 11.),   \n",
    "             std = torch.arange(1, 0, -0.1))                              # normal: often used in CNN, RNN, DNN's weights initialization"
   ]
  },
  {
   "cell_type": "code",
   "execution_count": 13,
   "metadata": {
    "colab": {
     "base_uri": "https://localhost:8080/",
     "height": 34
    },
    "colab_type": "code",
    "id": "JGel8gGeswP7",
    "outputId": "3ffad3cf-cf2f-49e2-d5b5-ed179e59b8e0"
   },
   "outputs": [
    {
     "data": {
      "text/plain": [
       "tensor([ 1.1638,  2.5794,  6.0301,  3.1352, -0.6746])"
      ]
     },
     "execution_count": 13,
     "metadata": {},
     "output_type": "execute_result"
    }
   ],
   "source": [
    "torch.normal(mean = 0.5,\n",
    "             std = torch.arange(1., 6.))"
   ]
  },
  {
   "cell_type": "code",
   "execution_count": 14,
   "metadata": {
    "colab": {
     "base_uri": "https://localhost:8080/",
     "height": 34
    },
    "colab_type": "code",
    "id": "x3vUk4ScswP-",
    "outputId": "e4b64816-1045-4974-cd6b-c896282a7b28"
   },
   "outputs": [
    {
     "data": {
      "text/plain": [
       "tensor([0.4939])"
      ]
     },
     "execution_count": 14,
     "metadata": {},
     "output_type": "execute_result"
    }
   ],
   "source": [
    "torch.normal(mean = 0.5,\n",
    "             std = torch.arange(0.2, 0.6))"
   ]
  },
  {
   "cell_type": "code",
   "execution_count": null,
   "metadata": {
    "colab": {},
    "colab_type": "code",
    "id": "r2LC6A2dswQB"
   },
   "outputs": [],
   "source": []
  },
  {
   "cell_type": "markdown",
   "metadata": {
    "colab_type": "text",
    "id": "hBGB1SiFw41m"
   },
   "source": [
    "**a PyTorch variable is a node in a computational graph, which stores data and gradients**"
   ]
  },
  {
   "cell_type": "markdown",
   "metadata": {
    "colab_type": "text",
    "id": "OY14HCtPyy5O"
   },
   "source": [
    "**The partial derivative of the cost func with respect to the weights and bias in a NN model is achieved in PyTorch using autograd module. Variables are specifically designed to hold the changed values while running a backpropagation in a NN model when the parameters changes. The varibale type is just a wrapper around the tensor, it has 3 properties: data, grad and a function.**"
   ]
  },
  {
   "cell_type": "code",
   "execution_count": 15,
   "metadata": {
    "colab": {},
    "colab_type": "code",
    "id": "ra7r4n_TswQE"
   },
   "outputs": [],
   "source": [
    "from torch.autograd import Variable"
   ]
  },
  {
   "cell_type": "code",
   "execution_count": 16,
   "metadata": {
    "colab": {
     "base_uri": "https://localhost:8080/",
     "height": 50
    },
    "colab_type": "code",
    "id": "dbBMJxjJswQG",
    "outputId": "faf6d2ad-4440-494e-96ed-3a9d7ed92e6d"
   },
   "outputs": [
    {
     "data": {
      "text/plain": [
       "tensor([[1., 1.],\n",
       "        [1., 1.]], requires_grad=True)"
      ]
     },
     "execution_count": 16,
     "metadata": {},
     "output_type": "execute_result"
    }
   ],
   "source": [
    "Variable(torch.ones(2, 2), requires_grad = True)"
   ]
  },
  {
   "cell_type": "code",
   "execution_count": 17,
   "metadata": {
    "colab": {},
    "colab_type": "code",
    "id": "Cjh3wgZZswQI"
   },
   "outputs": [],
   "source": [
    "a, b = 12, 23"
   ]
  },
  {
   "cell_type": "code",
   "execution_count": 18,
   "metadata": {
    "colab": {},
    "colab_type": "code",
    "id": "aVFMso9sswQK"
   },
   "outputs": [],
   "source": [
    "x1 = Variable(torch.randn(a, b),\n",
    "              requires_grad = True)"
   ]
  },
  {
   "cell_type": "code",
   "execution_count": 19,
   "metadata": {
    "colab": {
     "base_uri": "https://localhost:8080/",
     "height": 34
    },
    "colab_type": "code",
    "id": "MG4zsle_0K74",
    "outputId": "f463a28d-0e34-4657-9ffe-e06863038d1c"
   },
   "outputs": [
    {
     "data": {
      "text/plain": [
       "torch.Size([12, 23])"
      ]
     },
     "execution_count": 19,
     "metadata": {},
     "output_type": "execute_result"
    }
   ],
   "source": [
    "x1.shape"
   ]
  },
  {
   "cell_type": "code",
   "execution_count": 20,
   "metadata": {
    "colab": {},
    "colab_type": "code",
    "id": "KpzERVcYswQL"
   },
   "outputs": [],
   "source": [
    "x2 = Variable(torch.randn(a, b),\n",
    "              requires_grad = True)"
   ]
  },
  {
   "cell_type": "code",
   "execution_count": 21,
   "metadata": {
    "colab": {},
    "colab_type": "code",
    "id": "hU8zgQrrswQN"
   },
   "outputs": [],
   "source": [
    "x3 = Variable(torch.randn(a, b),\n",
    "              requires_grad = True)"
   ]
  },
  {
   "cell_type": "code",
   "execution_count": 22,
   "metadata": {
    "colab": {
     "base_uri": "https://localhost:8080/",
     "height": 34
    },
    "colab_type": "code",
    "id": "ookQfB-h0VH-",
    "outputId": "8c1cb790-ab95-488a-8aa3-d4d6abcbf51e"
   },
   "outputs": [
    {
     "data": {
      "text/plain": [
       "torch.Size([12, 23])"
      ]
     },
     "execution_count": 22,
     "metadata": {},
     "output_type": "execute_result"
    }
   ],
   "source": [
    "x3.shape"
   ]
  },
  {
   "cell_type": "code",
   "execution_count": 23,
   "metadata": {
    "colab": {},
    "colab_type": "code",
    "id": "b2R6iV8sswQP"
   },
   "outputs": [],
   "source": [
    "c = x1 * x2"
   ]
  },
  {
   "cell_type": "code",
   "execution_count": 24,
   "metadata": {
    "colab": {
     "base_uri": "https://localhost:8080/",
     "height": 34
    },
    "colab_type": "code",
    "id": "KkjxLRn4swQR",
    "outputId": "7777bd90-f23e-4f95-b143-8071d3b52049"
   },
   "outputs": [
    {
     "data": {
      "text/plain": [
       "torch.Size([12, 23])"
      ]
     },
     "execution_count": 24,
     "metadata": {},
     "output_type": "execute_result"
    }
   ],
   "source": [
    "c.shape"
   ]
  },
  {
   "cell_type": "code",
   "execution_count": 91,
   "metadata": {},
   "outputs": [
    {
     "data": {
      "text/plain": [
       "tensor([[-1.4503e+00,  6.8123e-01, -1.7988e+00, -1.7186e-01, -2.6834e-01,\n",
       "          5.1251e-01,  8.7220e-02, -3.0699e+00, -2.2617e-02, -1.2692e+00,\n",
       "          1.1181e-02,  2.4111e+00,  8.3959e-01, -3.5590e-01, -1.0206e+00,\n",
       "          3.6976e-01,  1.6548e-01,  4.1840e-01, -2.7418e+00,  7.2174e-01,\n",
       "         -8.2861e-01,  3.3090e-01,  4.6830e-02],\n",
       "        [ 2.4091e+00, -1.5220e+00,  9.5142e-01,  3.0698e-01, -5.6175e-01,\n",
       "          3.8284e-01,  2.1250e-01,  5.7908e-01,  1.3809e+00, -1.7068e+00,\n",
       "         -1.2880e-01, -6.9417e-01, -2.4938e+00, -1.6462e+00,  2.9196e-01,\n",
       "         -2.3689e-01, -1.3695e-01, -1.9273e-01, -2.4722e-01, -5.5201e-01,\n",
       "         -1.3090e+00, -3.1640e-01,  2.8343e-02],\n",
       "        [-1.2700e-01,  5.2778e-01,  1.2260e-01,  2.5652e+00,  8.4692e-01,\n",
       "         -3.0712e-01, -2.0373e-01, -1.3005e-02,  3.7454e-02, -7.2761e-01,\n",
       "          2.2506e+00,  2.5721e+00, -9.3050e-01, -1.3236e-01, -2.8468e-03,\n",
       "         -7.9138e-02,  4.4572e-01,  1.0202e-02, -3.7947e-02,  9.3138e-02,\n",
       "          7.8874e-02,  6.8077e-01, -2.2273e-01],\n",
       "        [ 2.2391e-02,  6.1352e-02,  4.4431e-01, -6.3552e-01,  4.4153e-01,\n",
       "         -2.8693e-02,  9.5890e-01,  1.5847e-02,  3.5807e+00,  2.0889e+00,\n",
       "         -2.6712e+00, -6.3294e-01,  2.8467e-01, -1.4435e-01,  1.5414e-01,\n",
       "          3.6897e-01, -2.9816e-01,  6.7477e-02, -4.8175e-01, -1.9534e-01,\n",
       "         -5.9839e-01,  3.2206e-01,  7.1762e-01],\n",
       "        [ 1.2592e-02,  1.7271e+00,  2.2539e-01,  2.5739e+00,  3.4045e-02,\n",
       "          1.9793e+00,  4.4589e-01,  1.0900e+00, -5.6305e-01,  2.8975e-01,\n",
       "         -2.7894e-01, -8.1043e-02, -7.5679e-01, -4.0987e-01, -5.4714e-01,\n",
       "          3.7173e-01, -3.0317e-01, -2.0888e+00, -1.4434e-01,  3.6997e-01,\n",
       "         -9.3275e-01, -8.9005e-02,  1.2123e-02],\n",
       "        [ 5.4102e+00, -5.4708e-03,  4.1675e-02, -6.0765e-01,  5.9914e-03,\n",
       "         -1.4431e-01,  3.9817e-01,  1.0179e+00, -2.0246e+00, -1.2812e-01,\n",
       "         -4.4008e-02, -1.4532e+00,  3.9597e-01,  9.0872e-02,  3.1072e-02,\n",
       "         -6.5341e-02,  1.1113e-02,  3.4497e-01,  8.4563e-01, -2.8850e-01,\n",
       "         -1.9816e+00, -2.4070e-02, -2.1662e-02],\n",
       "        [ 1.8698e+00,  6.9120e-04, -2.4921e-01, -1.8149e-02, -1.6709e-01,\n",
       "          2.0658e-01,  2.1041e+00, -1.5971e-02, -6.0335e-01, -1.0170e-01,\n",
       "          1.0680e-01, -6.5780e-01,  3.5111e-01,  8.2814e-01, -2.2346e-02,\n",
       "          2.5362e-01, -5.7803e-03,  6.4935e-01, -2.0087e+00,  9.8240e-02,\n",
       "         -5.8328e-01, -4.1164e-01,  1.6550e+00],\n",
       "        [-1.7077e+00,  1.4688e+00, -2.4504e+00, -5.2978e-02,  1.7994e+00,\n",
       "         -1.2664e+00,  4.5447e-01,  6.0852e-01,  1.9911e+00, -4.1700e-01,\n",
       "          2.1218e-01,  2.1911e-01,  9.8901e-01, -2.5570e-01, -1.5388e+00,\n",
       "         -1.9842e+00,  1.0076e+00, -3.1145e-01, -3.4162e-01,  7.2853e-01,\n",
       "         -3.1773e+00, -1.9669e+00, -1.7631e-01],\n",
       "        [ 4.5056e-01,  9.6373e-01, -2.6177e-02,  1.7374e-01,  3.4927e-01,\n",
       "          1.4381e-01, -1.0182e-01, -1.3969e+00, -1.7462e+00, -1.6298e-01,\n",
       "          8.8918e-01, -3.2173e-01, -7.6623e-01, -2.9709e-02,  9.6450e-01,\n",
       "         -2.6683e-03,  8.5992e-02, -1.6601e+00,  1.3672e-02, -5.3047e-02,\n",
       "          1.0121e-01, -1.2080e+00,  9.1515e-03],\n",
       "        [-9.9902e-01, -2.1303e-01,  1.2488e+00, -1.0838e+00, -9.0985e-02,\n",
       "         -1.5261e+00,  1.2231e+00,  2.2132e+00, -1.2070e+00, -1.1737e+00,\n",
       "         -7.0582e-01, -1.3429e-01, -1.2612e-01, -3.6148e-01, -2.7931e-02,\n",
       "         -3.9708e-01,  1.5636e-01,  4.2599e-01,  1.6189e+00,  3.2403e-01,\n",
       "          3.6457e-01, -6.6563e-02, -2.1902e+00],\n",
       "        [ 2.0847e+00, -5.7944e-01, -1.9250e+00, -1.1406e+00,  3.5701e-01,\n",
       "          1.1178e+00,  2.1134e+00, -1.2622e-01,  1.4208e+00, -2.7474e+00,\n",
       "          1.7147e+00,  3.6540e-01, -3.1479e-01,  5.2630e-01,  6.0774e-01,\n",
       "          2.3771e+00, -2.8531e-01, -8.0708e-01,  2.4890e-02,  4.8174e-01,\n",
       "          4.7835e-01, -1.6630e+00,  2.1138e-01],\n",
       "        [ 6.8498e-02,  7.0796e-01,  2.4493e-01, -1.0352e-02, -1.9257e-01,\n",
       "          1.8761e-01, -1.4224e+00,  2.2522e-01,  6.9516e-01,  1.8898e+00,\n",
       "          2.6713e+00, -4.1974e-01,  9.5756e-02, -4.5364e-01, -1.8204e+00,\n",
       "          6.8954e-02, -3.2807e-01,  1.3039e-01,  1.7241e-01, -1.2920e+00,\n",
       "         -1.4126e-01, -4.9208e-02,  8.0741e-01]], grad_fn=<MulBackward0>)"
      ]
     },
     "execution_count": 91,
     "metadata": {},
     "output_type": "execute_result"
    }
   ],
   "source": [
    "c"
   ]
  },
  {
   "cell_type": "code",
   "execution_count": 25,
   "metadata": {
    "colab": {},
    "colab_type": "code",
    "id": "7HB1bn6cswQT"
   },
   "outputs": [],
   "source": [
    "d = a + x3"
   ]
  },
  {
   "cell_type": "code",
   "execution_count": 93,
   "metadata": {
    "colab": {
     "base_uri": "https://localhost:8080/",
     "height": 34
    },
    "colab_type": "code",
    "id": "fgxzlxDPswQV",
    "outputId": "5608c3e6-1956-440b-a7b4-4e80b915401a"
   },
   "outputs": [
    {
     "data": {
      "text/plain": [
       "torch.Size([4, 3])"
      ]
     },
     "execution_count": 93,
     "metadata": {},
     "output_type": "execute_result"
    }
   ],
   "source": [
    "d.shape"
   ]
  },
  {
   "cell_type": "code",
   "execution_count": 92,
   "metadata": {},
   "outputs": [
    {
     "data": {
      "text/plain": [
       "tensor([[ 1.,  2.,  3.],\n",
       "        [ 5.,  4.,  2.],\n",
       "        [ 3.,  5., 67.],\n",
       "        [34.,  5.,  6.]])"
      ]
     },
     "execution_count": 92,
     "metadata": {},
     "output_type": "execute_result"
    }
   ],
   "source": [
    "d"
   ]
  },
  {
   "cell_type": "code",
   "execution_count": 27,
   "metadata": {
    "colab": {},
    "colab_type": "code",
    "id": "nFEHtEtHswQW"
   },
   "outputs": [],
   "source": [
    "e = torch.sum(d)"
   ]
  },
  {
   "cell_type": "code",
   "execution_count": 28,
   "metadata": {
    "colab": {
     "base_uri": "https://localhost:8080/",
     "height": 34
    },
    "colab_type": "code",
    "id": "rL_wTH7yswQY",
    "outputId": "d921f8be-09ff-457b-b48e-ac697d9ada70"
   },
   "outputs": [
    {
     "data": {
      "text/plain": [
       "tensor(3323.9707, grad_fn=<SumBackward0>)"
      ]
     },
     "execution_count": 28,
     "metadata": {},
     "output_type": "execute_result"
    }
   ],
   "source": [
    "e"
   ]
  },
  {
   "cell_type": "code",
   "execution_count": 29,
   "metadata": {
    "colab": {},
    "colab_type": "code",
    "id": "Kevp6MoOswQa"
   },
   "outputs": [],
   "source": [
    "e.backward()"
   ]
  },
  {
   "cell_type": "code",
   "execution_count": 30,
   "metadata": {
    "colab": {
     "base_uri": "https://localhost:8080/",
     "height": 34
    },
    "colab_type": "code",
    "id": "vXEKFq1_swQc",
    "outputId": "38a4f333-deb9-4dc8-c491-e74583de1f42"
   },
   "outputs": [
    {
     "name": "stdout",
     "output_type": "stream",
     "text": [
      "tensor(3323.9707, grad_fn=<SumBackward0>)\n"
     ]
    }
   ],
   "source": [
    "print(e)"
   ]
  },
  {
   "cell_type": "code",
   "execution_count": null,
   "metadata": {
    "colab": {},
    "colab_type": "code",
    "id": "BD2ppV1mswQe"
   },
   "outputs": [],
   "source": []
  },
  {
   "cell_type": "markdown",
   "metadata": {
    "colab_type": "text",
    "id": "X9hwafJx1C6y"
   },
   "source": [
    "**Basic statistics**"
   ]
  },
  {
   "cell_type": "code",
   "execution_count": 31,
   "metadata": {
    "colab": {
     "base_uri": "https://localhost:8080/",
     "height": 34
    },
    "colab_type": "code",
    "id": "J_DDRqcLswQf",
    "outputId": "6e286b24-f76f-480b-b985-15dd4319c9fc"
   },
   "outputs": [
    {
     "data": {
      "text/plain": [
       "tensor(45.9167)"
      ]
     },
     "execution_count": 31,
     "metadata": {},
     "output_type": "execute_result"
    }
   ],
   "source": [
    "torch.mean(torch.tensor([10., 10., 13., 10., 34., 45., 65., 67., 87., 89., 87., 34.]))"
   ]
  },
  {
   "cell_type": "code",
   "execution_count": 32,
   "metadata": {
    "colab": {},
    "colab_type": "code",
    "id": "tNTJ8cThswQh",
    "outputId": "f0e03767-e91f-4f39-a92d-7795b6f9bdfa"
   },
   "outputs": [
    {
     "data": {
      "text/plain": [
       "tensor(45.9167)"
      ]
     },
     "execution_count": 32,
     "metadata": {},
     "output_type": "execute_result"
    }
   ],
   "source": [
    "torch.mean(torch.Tensor([10, 10, 13, 10, 34, 45, 65, 67, 87, 89, 87, 34]))"
   ]
  },
  {
   "cell_type": "code",
   "execution_count": 33,
   "metadata": {
    "colab": {},
    "colab_type": "code",
    "id": "jx6BrCNgswQj"
   },
   "outputs": [],
   "source": [
    "d = torch.Tensor([1, 2, 3, 5, 4, 2, 3, 5, 67, 34, 5, 6]).view(4, 3)                # .view() is analougous to .reshape() in NumPy "
   ]
  },
  {
   "cell_type": "code",
   "execution_count": 34,
   "metadata": {
    "colab": {
     "base_uri": "https://localhost:8080/",
     "height": 84
    },
    "colab_type": "code",
    "id": "8JbKew42swQl",
    "outputId": "34d1b854-07db-4e0c-8aed-9946db082315"
   },
   "outputs": [
    {
     "data": {
      "text/plain": [
       "tensor([[ 1.,  2.,  3.],\n",
       "        [ 5.,  4.,  2.],\n",
       "        [ 3.,  5., 67.],\n",
       "        [34.,  5.,  6.]])"
      ]
     },
     "execution_count": 34,
     "metadata": {},
     "output_type": "execute_result"
    }
   ],
   "source": [
    "d"
   ]
  },
  {
   "cell_type": "code",
   "execution_count": 35,
   "metadata": {
    "colab": {
     "base_uri": "https://localhost:8080/",
     "height": 34
    },
    "colab_type": "code",
    "id": "Aq9FJ2CjswQn",
    "outputId": "b84c3aaf-f9bb-4cf8-d386-6f8cac556fbd"
   },
   "outputs": [
    {
     "data": {
      "text/plain": [
       "tensor(11.4167)"
      ]
     },
     "execution_count": 35,
     "metadata": {},
     "output_type": "execute_result"
    }
   ],
   "source": [
    "torch.mean(d)                           # whole data"
   ]
  },
  {
   "cell_type": "code",
   "execution_count": 36,
   "metadata": {
    "colab": {
     "base_uri": "https://localhost:8080/",
     "height": 34
    },
    "colab_type": "code",
    "id": "oa2eCmkvswQo",
    "outputId": "e26a6539-04dd-435c-edf5-7b83ad11a710"
   },
   "outputs": [
    {
     "data": {
      "text/plain": [
       "tensor([10.7500,  4.0000, 19.5000])"
      ]
     },
     "execution_count": 36,
     "metadata": {},
     "output_type": "execute_result"
    }
   ],
   "source": [
    "torch.mean(d, dim = 0)                "
   ]
  },
  {
   "cell_type": "code",
   "execution_count": 37,
   "metadata": {
    "colab": {
     "base_uri": "https://localhost:8080/",
     "height": 34
    },
    "colab_type": "code",
    "id": "OxCpcwJuswQr",
    "outputId": "1079be68-25dc-4f60-9db1-7f09e23111f2"
   },
   "outputs": [
    {
     "data": {
      "text/plain": [
       "tensor([ 2.0000,  3.6667, 25.0000, 15.0000])"
      ]
     },
     "execution_count": 37,
     "metadata": {},
     "output_type": "execute_result"
    }
   ],
   "source": [
    "torch.mean(d, dim = 1)"
   ]
  },
  {
   "cell_type": "code",
   "execution_count": 38,
   "metadata": {
    "colab": {
     "base_uri": "https://localhost:8080/",
     "height": 34
    },
    "colab_type": "code",
    "id": "rahdHhqsswQt",
    "outputId": "b92abd8b-e348-4dc1-96aa-79823c5ae12a"
   },
   "outputs": [
    {
     "data": {
      "text/plain": [
       "tensor(4.)"
      ]
     },
     "execution_count": 38,
     "metadata": {},
     "output_type": "execute_result"
    }
   ],
   "source": [
    "torch.median(d)"
   ]
  },
  {
   "cell_type": "code",
   "execution_count": 39,
   "metadata": {
    "colab": {
     "base_uri": "https://localhost:8080/",
     "height": 34
    },
    "colab_type": "code",
    "id": "068TEAc0swQw",
    "outputId": "e5dc754e-09bb-4f08-e2f3-d676546fcfd9"
   },
   "outputs": [
    {
     "data": {
      "text/plain": [
       "torch.return_types.median(\n",
       "values=tensor([3., 4., 3.]),\n",
       "indices=tensor([2, 1, 0]))"
      ]
     },
     "execution_count": 39,
     "metadata": {},
     "output_type": "execute_result"
    }
   ],
   "source": [
    "torch.median(d, dim = 0)"
   ]
  },
  {
   "cell_type": "code",
   "execution_count": 40,
   "metadata": {
    "colab": {
     "base_uri": "https://localhost:8080/",
     "height": 34
    },
    "colab_type": "code",
    "id": "lH3-R0RiswQz",
    "outputId": "02e25b9c-623f-48c1-f1ae-aaa8921f42a7"
   },
   "outputs": [
    {
     "data": {
      "text/plain": [
       "torch.return_types.median(\n",
       "values=tensor([2., 4., 5., 6.]),\n",
       "indices=tensor([1, 1, 1, 2]))"
      ]
     },
     "execution_count": 40,
     "metadata": {},
     "output_type": "execute_result"
    }
   ],
   "source": [
    "torch.median(d, dim = 1)"
   ]
  },
  {
   "cell_type": "code",
   "execution_count": 41,
   "metadata": {
    "colab": {
     "base_uri": "https://localhost:8080/",
     "height": 34
    },
    "colab_type": "code",
    "id": "7_yzHVwJswQ1",
    "outputId": "258a990a-2c70-4d2b-dffc-a1991df35bf7"
   },
   "outputs": [
    {
     "data": {
      "text/plain": [
       "torch.return_types.mode(\n",
       "values=tensor([1., 2., 3., 5.]),\n",
       "indices=tensor([0, 2, 0, 1]))"
      ]
     },
     "execution_count": 41,
     "metadata": {},
     "output_type": "execute_result"
    }
   ],
   "source": [
    "torch.mode(d)"
   ]
  },
  {
   "cell_type": "code",
   "execution_count": 42,
   "metadata": {
    "colab": {
     "base_uri": "https://localhost:8080/",
     "height": 34
    },
    "colab_type": "code",
    "id": "syLBvwJeswQ3",
    "outputId": "6f8ad6f8-a383-46dc-ef73-e5d4a94c5fea"
   },
   "outputs": [
    {
     "data": {
      "text/plain": [
       "torch.return_types.mode(\n",
       "values=tensor([1., 5., 2.]),\n",
       "indices=tensor([0, 3, 1]))"
      ]
     },
     "execution_count": 42,
     "metadata": {},
     "output_type": "execute_result"
    }
   ],
   "source": [
    "torch.mode(d, dim = 0)"
   ]
  },
  {
   "cell_type": "code",
   "execution_count": 43,
   "metadata": {
    "colab": {
     "base_uri": "https://localhost:8080/",
     "height": 34
    },
    "colab_type": "code",
    "id": "Vy_OpGghswQ6",
    "outputId": "661317f2-f372-4472-d246-79c1825a230c"
   },
   "outputs": [
    {
     "data": {
      "text/plain": [
       "torch.return_types.mode(\n",
       "values=tensor([1., 2., 3., 5.]),\n",
       "indices=tensor([0, 2, 0, 1]))"
      ]
     },
     "execution_count": 43,
     "metadata": {},
     "output_type": "execute_result"
    }
   ],
   "source": [
    "torch.mode(d, dim = 1)"
   ]
  },
  {
   "cell_type": "code",
   "execution_count": 44,
   "metadata": {
    "colab": {
     "base_uri": "https://localhost:8080/",
     "height": 34
    },
    "colab_type": "code",
    "id": "F0JSr6obswQ9",
    "outputId": "632ca08e-e3dd-4b18-c15b-78f36a8ec51f"
   },
   "outputs": [
    {
     "data": {
      "text/plain": [
       "tensor(19.6212)"
      ]
     },
     "execution_count": 44,
     "metadata": {},
     "output_type": "execute_result"
    }
   ],
   "source": [
    "torch.std(d)"
   ]
  },
  {
   "cell_type": "code",
   "execution_count": 45,
   "metadata": {
    "colab": {
     "base_uri": "https://localhost:8080/",
     "height": 34
    },
    "colab_type": "code",
    "id": "nvIDY5m1swRA",
    "outputId": "b424abc5-62f1-4fe5-ef8c-795d8293bd6e"
   },
   "outputs": [
    {
     "data": {
      "text/plain": [
       "tensor([15.5858,  1.4142, 31.7122])"
      ]
     },
     "execution_count": 45,
     "metadata": {},
     "output_type": "execute_result"
    }
   ],
   "source": [
    "torch.std(d, dim = 0)"
   ]
  },
  {
   "cell_type": "code",
   "execution_count": 46,
   "metadata": {
    "colab": {
     "base_uri": "https://localhost:8080/",
     "height": 34
    },
    "colab_type": "code",
    "id": "fLmX1wLeswRC",
    "outputId": "ad7fd723-c0b0-4b37-92c1-fa8574219ffb"
   },
   "outputs": [
    {
     "data": {
      "text/plain": [
       "tensor([ 1.0000,  1.5275, 36.3868, 16.4621])"
      ]
     },
     "execution_count": 46,
     "metadata": {},
     "output_type": "execute_result"
    }
   ],
   "source": [
    "torch.std(d, dim = 1)"
   ]
  },
  {
   "cell_type": "code",
   "execution_count": 47,
   "metadata": {
    "colab": {
     "base_uri": "https://localhost:8080/",
     "height": 34
    },
    "colab_type": "code",
    "id": "IDSDhqybswRF",
    "outputId": "08214578-027f-4828-c93e-e0e9164aa2f4"
   },
   "outputs": [
    {
     "data": {
      "text/plain": [
       "tensor(384.9924)"
      ]
     },
     "execution_count": 47,
     "metadata": {},
     "output_type": "execute_result"
    }
   ],
   "source": [
    "torch.var(d)"
   ]
  },
  {
   "cell_type": "code",
   "execution_count": 48,
   "metadata": {
    "colab": {
     "base_uri": "https://localhost:8080/",
     "height": 34
    },
    "colab_type": "code",
    "id": "I6hoEtmcswRH",
    "outputId": "127b73e8-5650-4879-982c-aa68e8cb9b6e"
   },
   "outputs": [
    {
     "data": {
      "text/plain": [
       "tensor([ 242.9167,    2.0000, 1005.6667])"
      ]
     },
     "execution_count": 48,
     "metadata": {},
     "output_type": "execute_result"
    }
   ],
   "source": [
    "torch.var(d, dim = 0)"
   ]
  },
  {
   "cell_type": "code",
   "execution_count": 49,
   "metadata": {
    "colab": {
     "base_uri": "https://localhost:8080/",
     "height": 34
    },
    "colab_type": "code",
    "id": "oApwN3AoswRI",
    "outputId": "a25835d5-366c-46b2-d46c-e53ee720d009"
   },
   "outputs": [
    {
     "data": {
      "text/plain": [
       "tensor([1.0000e+00, 2.3333e+00, 1.3240e+03, 2.7100e+02])"
      ]
     },
     "execution_count": 49,
     "metadata": {},
     "output_type": "execute_result"
    }
   ],
   "source": [
    "torch.var(d, dim = 1)"
   ]
  },
  {
   "cell_type": "code",
   "execution_count": null,
   "metadata": {
    "colab": {},
    "colab_type": "code",
    "id": "I_Khyj4gswRM"
   },
   "outputs": [],
   "source": []
  },
  {
   "cell_type": "markdown",
   "metadata": {
    "colab_type": "text",
    "id": "Oo7FYw0T3JuB"
   },
   "source": [
    "**Gradient computation**"
   ]
  },
  {
   "cell_type": "code",
   "execution_count": 82,
   "metadata": {
    "colab": {},
    "colab_type": "code",
    "id": "ZELcfLqq4MN0"
   },
   "outputs": [],
   "source": [
    "from torch.autograd import Variable"
   ]
  },
  {
   "cell_type": "code",
   "execution_count": 83,
   "metadata": {
    "colab": {},
    "colab_type": "code",
    "id": "9EZ_wv1RswRP"
   },
   "outputs": [],
   "source": [
    "def forward(x):\n",
    "    return x * w    "
   ]
  },
  {
   "cell_type": "code",
   "execution_count": 84,
   "metadata": {
    "colab": {},
    "colab_type": "code",
    "id": "CH5v-hbAswRR"
   },
   "outputs": [],
   "source": [
    "def loss(x, y):\n",
    "    y_pred = forward(x)\n",
    "    return (y_pred - y) ** 2"
   ]
  },
  {
   "cell_type": "code",
   "execution_count": 85,
   "metadata": {
    "colab": {},
    "colab_type": "code",
    "id": "H4GLbtI3swRT"
   },
   "outputs": [],
   "source": [
    "x_data = [11.0, 22.0, 33.0]"
   ]
  },
  {
   "cell_type": "code",
   "execution_count": 86,
   "metadata": {
    "colab": {},
    "colab_type": "code",
    "id": "H4Fq30_TswRU"
   },
   "outputs": [],
   "source": [
    "y_data = [21.0, 14.0, 64.0]"
   ]
  },
  {
   "cell_type": "code",
   "execution_count": 87,
   "metadata": {
    "colab": {},
    "colab_type": "code",
    "id": "90cdso2QswRV"
   },
   "outputs": [],
   "source": [
    "w = Variable(torch.Tensor([1.0]), requires_grad = True)        # any random value"
   ]
  },
  {
   "cell_type": "code",
   "execution_count": 88,
   "metadata": {},
   "outputs": [
    {
     "data": {
      "text/plain": [
       "tensor([1.], requires_grad=True)"
      ]
     },
     "execution_count": 88,
     "metadata": {},
     "output_type": "execute_result"
    }
   ],
   "source": [
    "w"
   ]
  },
  {
   "cell_type": "code",
   "execution_count": 89,
   "metadata": {
    "colab": {
     "base_uri": "https://localhost:8080/",
     "height": 162
    },
    "colab_type": "code",
    "id": "9qCFmBDdswRW",
    "outputId": "8a6c14c5-4b4c-4a2c-ffd5-eb45e8fb3868"
   },
   "outputs": [
    {
     "name": "stdout",
     "output_type": "stream",
     "text": [
      "predict before training:  4 tensor(4.)\n"
     ]
    }
   ],
   "source": [
    "print(\"predict before training: \", 4, forward(4).data[0])"
   ]
  },
  {
   "cell_type": "code",
   "execution_count": 90,
   "metadata": {
    "colab": {},
    "colab_type": "code",
    "id": "21LaPLAEswRZ",
    "outputId": "452d9769-1836-4ca9-e6a4-4649396be066"
   },
   "outputs": [
    {
     "name": "stdout",
     "output_type": "stream",
     "text": [
      "\tgrad:  11.0 21.0 tensor(-220.)\n",
      "\tgrad:  22.0 14.0 tensor(2481.6001)\n",
      "\tgrad:  33.0 64.0 tensor(-51303.6484)\n",
      "process:  0 tensor(604238.8125)\n",
      "\tgrad:  11.0 21.0 tensor(118461.7578)\n",
      "\tgrad:  22.0 14.0 tensor(-671630.6875)\n",
      "\tgrad:  33.0 64.0 tensor(13114108.)\n",
      "process:  1 tensor(3.9481e+10)\n",
      "\tgrad:  11.0 21.0 tensor(-30279010.)\n",
      "\tgrad:  22.0 14.0 tensor(1.7199e+08)\n",
      "\tgrad:  33.0 64.0 tensor(-3.3589e+09)\n",
      "process:  2 tensor(2.5900e+15)\n",
      "\tgrad:  11.0 21.0 tensor(7.7553e+09)\n",
      "\tgrad:  22.0 14.0 tensor(-4.4050e+10)\n",
      "\tgrad:  33.0 64.0 tensor(8.6030e+11)\n",
      "process:  3 tensor(1.6991e+20)\n",
      "\tgrad:  11.0 21.0 tensor(-1.9863e+12)\n",
      "\tgrad:  22.0 14.0 tensor(1.1282e+13)\n",
      "\tgrad:  33.0 64.0 tensor(-2.2034e+14)\n",
      "process:  4 tensor(1.1146e+25)\n",
      "\tgrad:  11.0 21.0 tensor(5.0875e+14)\n",
      "\tgrad:  22.0 14.0 tensor(-2.8897e+15)\n",
      "\tgrad:  33.0 64.0 tensor(5.6436e+16)\n",
      "process:  5 tensor(7.3118e+29)\n",
      "\tgrad:  11.0 21.0 tensor(-1.3030e+17)\n",
      "\tgrad:  22.0 14.0 tensor(7.4013e+17)\n",
      "\tgrad:  33.0 64.0 tensor(-1.4455e+19)\n",
      "process:  6 tensor(4.7966e+34)\n",
      "\tgrad:  11.0 21.0 tensor(3.3374e+19)\n",
      "\tgrad:  22.0 14.0 tensor(-1.8957e+20)\n",
      "\tgrad:  33.0 64.0 tensor(3.7022e+21)\n",
      "process:  7 tensor(inf)\n",
      "\tgrad:  11.0 21.0 tensor(-8.5480e+21)\n",
      "\tgrad:  22.0 14.0 tensor(4.8553e+22)\n",
      "\tgrad:  33.0 64.0 tensor(-9.4824e+23)\n",
      "process:  8 tensor(inf)\n",
      "\tgrad:  11.0 21.0 tensor(2.1894e+24)\n",
      "\tgrad:  22.0 14.0 tensor(-1.2436e+25)\n",
      "\tgrad:  33.0 64.0 tensor(2.4287e+26)\n",
      "process:  9 tensor(inf)\n",
      "predict after training:  4 tensor(-9.2687e+24)\n"
     ]
    }
   ],
   "source": [
    "for epoch in range(10):\n",
    "    for x_val, y_val in zip(x_data, y_data):\n",
    "        los = loss(x_val, y_val)\n",
    "        los.backward()\n",
    "        print(\"\\tgrad: \", x_val, y_val, w.grad.data[0])\n",
    "        w.data = w.data - 0.01 * w.grad.data\n",
    "        \n",
    "        w.grad.data.zero_()                  # mannually set graddients to 0 after updating weights\n",
    "    print('process: ', epoch, los.data[0])   \n",
    "\n",
    "print('predict after training: ', 4, forward(4).data[0])"
   ]
  },
  {
   "cell_type": "code",
   "execution_count": 94,
   "metadata": {
    "colab": {},
    "colab_type": "code",
    "id": "oQHukWMxswRc"
   },
   "outputs": [],
   "source": [
    "from torch import FloatTensor\n",
    "from torch.autograd import Variable"
   ]
  },
  {
   "cell_type": "code",
   "execution_count": 96,
   "metadata": {
    "colab": {},
    "colab_type": "code",
    "id": "7DVOzmLJswRd"
   },
   "outputs": [],
   "source": [
    "a = Variable(FloatTensor([5]))"
   ]
  },
  {
   "cell_type": "code",
   "execution_count": 97,
   "metadata": {},
   "outputs": [
    {
     "data": {
      "text/plain": [
       "tensor([5.])"
      ]
     },
     "execution_count": 97,
     "metadata": {},
     "output_type": "execute_result"
    }
   ],
   "source": [
    "a"
   ]
  },
  {
   "cell_type": "code",
   "execution_count": 98,
   "metadata": {
    "colab": {},
    "colab_type": "code",
    "id": "fpToY6osswRe"
   },
   "outputs": [],
   "source": [
    "weights = [Variable(FloatTensor([i]), requires_grad = True) for i in (12, 53, 91, 123)]"
   ]
  },
  {
   "cell_type": "code",
   "execution_count": 99,
   "metadata": {},
   "outputs": [
    {
     "data": {
      "text/plain": [
       "[tensor([12.], requires_grad=True),\n",
       " tensor([53.], requires_grad=True),\n",
       " tensor([91.], requires_grad=True),\n",
       " tensor([123.], requires_grad=True)]"
      ]
     },
     "execution_count": 99,
     "metadata": {},
     "output_type": "execute_result"
    }
   ],
   "source": [
    "weights"
   ]
  },
  {
   "cell_type": "code",
   "execution_count": 100,
   "metadata": {
    "colab": {},
    "colab_type": "code",
    "id": "CFZxtUrQswRg"
   },
   "outputs": [],
   "source": [
    "w1, w2, w3, w4 = weights"
   ]
  },
  {
   "cell_type": "code",
   "execution_count": 107,
   "metadata": {
    "colab": {},
    "colab_type": "code",
    "id": "kXDdYwQRswRh",
    "outputId": "cc2392a5-d550-45f0-a750-01c80e14e445"
   },
   "outputs": [
    {
     "name": "stdout",
     "output_type": "stream",
     "text": [
      "Gradient of w1 w.r.t. Loss is: -910.0\n",
      "Gradient of w2 w.r.t. Loss is: -1230.0\n",
      "Gradient of w3 w.r.t. Loss is: -120.0\n",
      "Gradient of w4 w.r.t. Loss is: -530.0\n"
     ]
    }
   ],
   "source": [
    "b = w1 * a\n",
    "c = w2 * a\n",
    "d = w3 * b + w4 * c\n",
    "\n",
    "Loss = (10 -d)\n",
    "Loss.backward()\n",
    "\n",
    "for index, weight in enumerate(weights, start = 1):\n",
    "    gradient, *_ = weight.grad.data\n",
    "    print(f\"Gradient of w{index} w.r.t. Loss is: {gradient}\")    "
   ]
  },
  {
   "cell_type": "code",
   "execution_count": 106,
   "metadata": {
    "colab": {},
    "colab_type": "code",
    "id": "oe1vcOm1swRi"
   },
   "outputs": [
    {
     "data": {
      "text/plain": [
       "(tensor([60.], grad_fn=<MulBackward0>),\n",
       " tensor([265.], grad_fn=<MulBackward0>),\n",
       " tensor([38055.], grad_fn=<AddBackward0>))"
      ]
     },
     "execution_count": 106,
     "metadata": {},
     "output_type": "execute_result"
    }
   ],
   "source": [
    "b, c, d"
   ]
  },
  {
   "cell_type": "code",
   "execution_count": null,
   "metadata": {},
   "outputs": [],
   "source": []
  },
  {
   "cell_type": "markdown",
   "metadata": {},
   "source": [
    "**How to compute or perform operations(such as matirx mult) based on variables?**"
   ]
  },
  {
   "cell_type": "markdown",
   "metadata": {},
   "source": [
    "**Tensors are wrapped within variables, which has 3 properties: grad, volatile and gradients** "
   ]
  },
  {
   "cell_type": "code",
   "execution_count": 108,
   "metadata": {
    "colab": {},
    "colab_type": "code",
    "id": "HhIXHnP9swRk"
   },
   "outputs": [],
   "source": [
    "x = Variable(torch.Tensor(4, 4).uniform_(-4, 5))\n",
    "y = Variable(torch.Tensor(4, 4).uniform_(-3, 2))"
   ]
  },
  {
   "cell_type": "code",
   "execution_count": 109,
   "metadata": {
    "colab": {},
    "colab_type": "code",
    "id": "u69XPs_oswRm",
    "outputId": "5d715e40-e296-47ce-a98c-7a364bf13318"
   },
   "outputs": [
    {
     "data": {
      "text/plain": [
       "tensor([[ 1.7392,  0.8415,  0.4775, -1.3920],\n",
       "        [ 3.2334, -2.2886,  0.4382,  3.4637],\n",
       "        [-1.8989, -2.5045,  1.6963, -3.2213],\n",
       "        [-1.3765,  4.4271,  3.0947,  4.5695]])"
      ]
     },
     "execution_count": 109,
     "metadata": {},
     "output_type": "execute_result"
    }
   ],
   "source": [
    "x"
   ]
  },
  {
   "cell_type": "code",
   "execution_count": 110,
   "metadata": {
    "colab": {},
    "colab_type": "code",
    "id": "cDLwbNreswRn",
    "outputId": "206ef1e5-b829-4c88-9ab6-9f7e6183ac4e"
   },
   "outputs": [
    {
     "data": {
      "text/plain": [
       "tensor([[-2.8902, -2.8512,  0.1224,  0.3857],\n",
       "        [-1.9489,  0.4000, -0.0681, -1.5631],\n",
       "        [ 1.8341,  1.4200,  1.5710, -1.3153],\n",
       "        [-0.4852, -1.6904,  1.5460,  1.7711]])"
      ]
     },
     "execution_count": 110,
     "metadata": {},
     "output_type": "execute_result"
    }
   ],
   "source": [
    "y"
   ]
  },
  {
   "cell_type": "code",
   "execution_count": 113,
   "metadata": {
    "colab": {},
    "colab_type": "code",
    "id": "8O4DGOCCswRq"
   },
   "outputs": [],
   "source": [
    "z = torch.mm(x, y)                               # .mm( )     matrix mult module "
   ]
  },
  {
   "cell_type": "code",
   "execution_count": 114,
   "metadata": {
    "colab": {},
    "colab_type": "code",
    "id": "2mEPfV8UswRr",
    "outputId": "670e21ac-8304-48f4-e27f-28c15c291951"
   },
   "outputs": [
    {
     "data": {
      "text/plain": [
       "tensor([[ -5.1153,  -1.5909,  -1.2464,  -3.7379],\n",
       "        [ -5.7615, -15.3671,   6.5947,  10.3821],\n",
       "        [ 15.0432,  12.2665,  -2.3772,  -4.7539],\n",
       "        [ -1.1909,   2.3656,  11.4565,  -3.4282]])"
      ]
     },
     "execution_count": 114,
     "metadata": {},
     "output_type": "execute_result"
    }
   ],
   "source": [
    "z"
   ]
  },
  {
   "cell_type": "markdown",
   "metadata": {},
   "source": [
    "**following shows the properties of the variable, which is a wrapper around the tensor:**"
   ]
  },
  {
   "cell_type": "code",
   "execution_count": 116,
   "metadata": {
    "colab": {},
    "colab_type": "code",
    "id": "G58HAs0ZswRt",
    "outputId": "ddff0dca-f775-4a53-c7c2-104949311e85"
   },
   "outputs": [
    {
     "data": {
      "text/plain": [
       "tensor([[ 2.7068, -2.3518, -2.9924, -2.2361],\n",
       "        [-0.7270,  4.2119, -0.3071, -3.6691],\n",
       "        [-2.8417, -1.1818, -1.4654, -0.4344],\n",
       "        [-2.0130, -2.3842,  1.3962,  1.4962]])"
      ]
     },
     "execution_count": 116,
     "metadata": {},
     "output_type": "execute_result"
    }
   ],
   "source": [
    "z = Variable(torch.Tensor(4, 4).uniform_(-5, 5))\n",
    "z"
   ]
  },
  {
   "cell_type": "code",
   "execution_count": 117,
   "metadata": {
    "colab": {},
    "colab_type": "code",
    "id": "DUeqrWCYswRv",
    "outputId": "5c15498e-4a5a-41b4-a3bb-79154c783a41"
   },
   "outputs": [
    {
     "name": "stdout",
     "output_type": "stream",
     "text": [
      "Requires Gradient:  False\n"
     ]
    }
   ],
   "source": [
    "print('Requires Gradient: ', z.requires_grad)"
   ]
  },
  {
   "cell_type": "code",
   "execution_count": 118,
   "metadata": {
    "colab": {},
    "colab_type": "code",
    "id": "pxgOY7yhswRx",
    "outputId": "d635adf9-2216-4c00-86ec-57b87c2e8456"
   },
   "outputs": [
    {
     "name": "stdout",
     "output_type": "stream",
     "text": [
      "Volatile:  False\n"
     ]
    },
    {
     "name": "stderr",
     "output_type": "stream",
     "text": [
      "D:\\Anaconda\\lib\\site-packages\\ipykernel_launcher.py:1: UserWarning: volatile was removed (Variable.volatile is always False)\n",
      "  \"\"\"Entry point for launching an IPython kernel.\n"
     ]
    }
   ],
   "source": [
    "print('Volatile: ',  (z.volatile))"
   ]
  },
  {
   "cell_type": "code",
   "execution_count": 119,
   "metadata": {
    "colab": {},
    "colab_type": "code",
    "id": "AZOzDMv8swRy",
    "outputId": "08e399e3-b34b-4c61-c836-ce257be17fb8"
   },
   "outputs": [
    {
     "name": "stdout",
     "output_type": "stream",
     "text": [
      "Gradients:  None\n"
     ]
    }
   ],
   "source": [
    "print('Gradients: ', z.grad)"
   ]
  },
  {
   "cell_type": "code",
   "execution_count": 120,
   "metadata": {
    "colab": {},
    "colab_type": "code",
    "id": "m5fiuO54swR0",
    "outputId": "8559854d-1f93-4e94-eaef-cb94c56ed842"
   },
   "outputs": [
    {
     "data": {
      "text/plain": [
       "tensor([[ 2.7068, -2.3518, -2.9924, -2.2361],\n",
       "        [-0.7270,  4.2119, -0.3071, -3.6691],\n",
       "        [-2.8417, -1.1818, -1.4654, -0.4344],\n",
       "        [-2.0130, -2.3842,  1.3962,  1.4962]])"
      ]
     },
     "execution_count": 120,
     "metadata": {},
     "output_type": "execute_result"
    }
   ],
   "source": [
    "z.data"
   ]
  },
  {
   "cell_type": "code",
   "execution_count": null,
   "metadata": {},
   "outputs": [],
   "source": []
  },
  {
   "cell_type": "markdown",
   "metadata": {},
   "source": [
    "**How to compute or perform linear algebraic operations(such as vector * matrix or vec) based on variables?**"
   ]
  },
  {
   "cell_type": "code",
   "execution_count": 123,
   "metadata": {
    "colab": {},
    "colab_type": "code",
    "id": "ky2XZrXcswR3",
    "outputId": "edfcb2ed-542b-4ae8-fd24-56e57c7e1036"
   },
   "outputs": [
    {
     "data": {
      "text/plain": [
       "tensor([[0.2900, 0.6888, 0.3020, 0.5234],\n",
       "        [0.3969, 0.5127, 0.9079, 0.2978],\n",
       "        [0.9516, 0.4772, 0.1602, 0.6753],\n",
       "        [0.5563, 0.9905, 0.8829, 0.0355]])"
      ]
     },
     "execution_count": 123,
     "metadata": {},
     "output_type": "execute_result"
    }
   ],
   "source": [
    "mat1 = torch.FloatTensor(4, 4).uniform_(0, 1)\n",
    "mat1"
   ]
  },
  {
   "cell_type": "code",
   "execution_count": 125,
   "metadata": {
    "colab": {},
    "colab_type": "code",
    "id": "gf_h35hRswR4"
   },
   "outputs": [
    {
     "data": {
      "text/plain": [
       "tensor([[0.4608, 0.0832, 0.9002, 0.9188],\n",
       "        [0.1386, 0.3701, 0.1947, 0.2268],\n",
       "        [0.9587, 0.2615, 0.7256, 0.7673],\n",
       "        [0.5667, 0.1863, 0.4642, 0.4016],\n",
       "        [0.9981, 0.8452, 0.5569, 0.7666]])"
      ]
     },
     "execution_count": 125,
     "metadata": {},
     "output_type": "execute_result"
    }
   ],
   "source": [
    "mat2 = torch.FloatTensor(5, 4).uniform_(0, 1)\n",
    "mat2"
   ]
  },
  {
   "cell_type": "code",
   "execution_count": 126,
   "metadata": {
    "colab": {},
    "colab_type": "code",
    "id": "ORSb9KnyswR7",
    "outputId": "0851bca5-e984-44d1-c003-573e3dbd00ab"
   },
   "outputs": [
    {
     "data": {
      "text/plain": [
       "tensor([[10.2900, 10.6888, 10.3020, 10.5234],\n",
       "        [10.3969, 10.5127, 10.9079, 10.2978],\n",
       "        [10.9516, 10.4772, 10.1602, 10.6753],\n",
       "        [10.5563, 10.9905, 10.8829, 10.0355]])"
      ]
     },
     "execution_count": 126,
     "metadata": {},
     "output_type": "execute_result"
    }
   ],
   "source": [
    "mat1 + 10.                              # scalar operation"
   ]
  },
  {
   "cell_type": "code",
   "execution_count": 128,
   "metadata": {
    "colab": {},
    "colab_type": "code",
    "id": "sMkzdW4aswR-"
   },
   "outputs": [],
   "source": [
    "vec1 = torch.FloatTensor(4).uniform_(0, 1)"
   ]
  },
  {
   "cell_type": "code",
   "execution_count": 129,
   "metadata": {
    "colab": {},
    "colab_type": "code",
    "id": "vlCRRvp7swR_",
    "outputId": "22508d77-2a18-46db-cae2-a8cb139ac898"
   },
   "outputs": [
    {
     "data": {
      "text/plain": [
       "tensor([0.1084, 0.7874, 0.7348, 0.9939])"
      ]
     },
     "execution_count": 129,
     "metadata": {},
     "output_type": "execute_result"
    }
   ],
   "source": [
    "vec1"
   ]
  },
  {
   "cell_type": "code",
   "execution_count": 130,
   "metadata": {
    "colab": {},
    "colab_type": "code",
    "id": "nUAj-iIGswSB",
    "outputId": "37fb1b7a-6c41-46bd-ec94-f90ec717cba7"
   },
   "outputs": [
    {
     "data": {
      "text/plain": [
       "tensor([[0.2900, 0.6888, 0.3020, 0.5234],\n",
       "        [0.3969, 0.5127, 0.9079, 0.2978],\n",
       "        [0.9516, 0.4772, 0.1602, 0.6753],\n",
       "        [0.5563, 0.9905, 0.8829, 0.0355]])"
      ]
     },
     "execution_count": 130,
     "metadata": {},
     "output_type": "execute_result"
    }
   ],
   "source": [
    "mat1"
   ]
  },
  {
   "cell_type": "code",
   "execution_count": 131,
   "metadata": {
    "colab": {},
    "colab_type": "code",
    "id": "0lw_ohfAswSC",
    "outputId": "75317b2d-e088-475d-97cd-72af7ca71f01"
   },
   "outputs": [
    {
     "data": {
      "text/plain": [
       "tensor([[0.3984, 1.4762, 1.0368, 1.5173],\n",
       "        [0.5053, 1.3000, 1.6427, 1.2917],\n",
       "        [1.0600, 1.2645, 0.8949, 1.6692],\n",
       "        [0.6647, 1.7779, 1.6177, 1.0294]])"
      ]
     },
     "execution_count": 131,
     "metadata": {},
     "output_type": "execute_result"
    }
   ],
   "source": [
    "mat1 + vec1"
   ]
  },
  {
   "cell_type": "code",
   "execution_count": 132,
   "metadata": {
    "colab": {},
    "colab_type": "code",
    "id": "68ezSbGkswSE",
    "outputId": "8e578327-6be9-480e-d746-877d9b79c655"
   },
   "outputs": [
    {
     "data": {
      "text/plain": [
       "tensor([[0.0841, 0.4745, 0.0912, 0.2739],\n",
       "        [0.1575, 0.2628, 0.8244, 0.0887],\n",
       "        [0.9055, 0.2277, 0.0257, 0.4560],\n",
       "        [0.3094, 0.9812, 0.7796, 0.0013]])"
      ]
     },
     "execution_count": 132,
     "metadata": {},
     "output_type": "execute_result"
    }
   ],
   "source": [
    "mat1 * mat1"
   ]
  },
  {
   "cell_type": "code",
   "execution_count": 135,
   "metadata": {
    "colab": {},
    "colab_type": "code",
    "id": "Tzssq8DgswSF"
   },
   "outputs": [],
   "source": [
    "mat2_t = mat2.t()"
   ]
  },
  {
   "cell_type": "code",
   "execution_count": 136,
   "metadata": {
    "colab": {},
    "colab_type": "code",
    "id": "xCpgMGU8swSG",
    "outputId": "38bd227b-59c8-4d70-c915-8ff74c178854"
   },
   "outputs": [
    {
     "data": {
      "text/plain": [
       "tensor([[0.4608, 0.1386, 0.9587, 0.5667, 0.9981],\n",
       "        [0.0832, 0.3701, 0.2615, 0.1863, 0.8452],\n",
       "        [0.9002, 0.1947, 0.7256, 0.4642, 0.5569],\n",
       "        [0.9188, 0.2268, 0.7673, 0.4016, 0.7666]])"
      ]
     },
     "execution_count": 136,
     "metadata": {},
     "output_type": "execute_result"
    }
   ],
   "source": [
    "mat2_t"
   ]
  },
  {
   "cell_type": "code",
   "execution_count": 137,
   "metadata": {
    "colab": {},
    "colab_type": "code",
    "id": "h0jRmuQrswSH",
    "outputId": "f8a23ce0-97ac-4834-c78a-6898a2b2457e"
   },
   "outputs": [
    {
     "data": {
      "text/plain": [
       "tensor([[0.9438, 0.4726, 1.0790, 0.6431, 1.4411],\n",
       "        [1.3165, 0.4891, 1.4019, 0.8615, 1.5634],\n",
       "        [1.2429, 0.4928, 1.6715, 0.9737, 1.9600],\n",
       "        [1.1662, 0.6237, 1.4603, 0.9239, 1.9113]])"
      ]
     },
     "execution_count": 137,
     "metadata": {},
     "output_type": "execute_result"
    }
   ],
   "source": [
    "torch.matmul(mat1, mat2_t)"
   ]
  },
  {
   "cell_type": "code",
   "execution_count": 138,
   "metadata": {
    "colab": {},
    "colab_type": "code",
    "id": "HtdYZxPEswSI"
   },
   "outputs": [
    {
     "data": {
      "text/plain": [
       "tensor([[0.9438, 0.4726, 1.0790, 0.6431, 1.4411],\n",
       "        [1.3165, 0.4891, 1.4019, 0.8615, 1.5634],\n",
       "        [1.2429, 0.4928, 1.6715, 0.9737, 1.9600],\n",
       "        [1.1662, 0.6237, 1.4603, 0.9239, 1.9113]])"
      ]
     },
     "execution_count": 138,
     "metadata": {},
     "output_type": "execute_result"
    }
   ],
   "source": [
    "torch.mm(mat1, mat2_t)"
   ]
  },
  {
   "cell_type": "code",
   "execution_count": null,
   "metadata": {},
   "outputs": [],
   "source": []
  },
  {
   "cell_type": "markdown",
   "metadata": {},
   "source": [
    "**Distribution**"
   ]
  },
  {
   "cell_type": "code",
   "execution_count": 139,
   "metadata": {
    "colab": {},
    "colab_type": "code",
    "id": "RsDQ5V75swSJ"
   },
   "outputs": [],
   "source": [
    "from torch.distributions.bernoulli import Bernoulli"
   ]
  },
  {
   "cell_type": "code",
   "execution_count": 140,
   "metadata": {
    "colab": {},
    "colab_type": "code",
    "id": "R-SnI-CnswSM"
   },
   "outputs": [],
   "source": [
    "dist = Bernoulli(torch.tensor([0.3, 0.6, 0.9]))"
   ]
  },
  {
   "cell_type": "code",
   "execution_count": 141,
   "metadata": {
    "colab": {},
    "colab_type": "code",
    "id": "jlgokWgTswSN",
    "outputId": "e0c71c95-3850-4e87-f9fa-f4b1bf7ed1a1"
   },
   "outputs": [
    {
     "data": {
      "text/plain": [
       "Bernoulli(probs: torch.Size([3]))"
      ]
     },
     "execution_count": 141,
     "metadata": {},
     "output_type": "execute_result"
    }
   ],
   "source": [
    "dist"
   ]
  },
  {
   "cell_type": "code",
   "execution_count": 142,
   "metadata": {
    "colab": {},
    "colab_type": "code",
    "id": "YbWxJMQdswSO",
    "outputId": "e02d0459-cd82-49d3-dbef-54fc76c178e8"
   },
   "outputs": [
    {
     "data": {
      "text/plain": [
       "tensor([0., 1., 0.])"
      ]
     },
     "execution_count": 142,
     "metadata": {},
     "output_type": "execute_result"
    }
   ],
   "source": [
    "dist.sample()                # sample be binary, takes 1 with p and 0 with 1-p "
   ]
  },
  {
   "cell_type": "code",
   "execution_count": null,
   "metadata": {},
   "outputs": [],
   "source": []
  },
  {
   "cell_type": "code",
   "execution_count": 143,
   "metadata": {
    "colab": {},
    "colab_type": "code",
    "id": "34PF8K83swSR"
   },
   "outputs": [],
   "source": [
    "from torch.distributions.beta import Beta                        # for Bayesian inference, ranges in [0, 1]"
   ]
  },
  {
   "cell_type": "code",
   "execution_count": 144,
   "metadata": {
    "colab": {},
    "colab_type": "code",
    "id": "-GjmVxb0swSS"
   },
   "outputs": [],
   "source": [
    "dist = Beta(torch.tensor([0.5]), torch.tensor([0.5]))"
   ]
  },
  {
   "cell_type": "code",
   "execution_count": 145,
   "metadata": {
    "colab": {},
    "colab_type": "code",
    "id": "bdR3cSyTswST",
    "outputId": "f2e227e5-60ca-4c60-eb0c-7565c2326932"
   },
   "outputs": [
    {
     "data": {
      "text/plain": [
       "Beta()"
      ]
     },
     "execution_count": 145,
     "metadata": {},
     "output_type": "execute_result"
    }
   ],
   "source": [
    "dist"
   ]
  },
  {
   "cell_type": "code",
   "execution_count": 146,
   "metadata": {
    "colab": {},
    "colab_type": "code",
    "id": "t6oSg7dYswSV",
    "outputId": "15c589e4-deb6-47e5-f402-81b94f84dac0"
   },
   "outputs": [
    {
     "data": {
      "text/plain": [
       "tensor([0.3572])"
      ]
     },
     "execution_count": 146,
     "metadata": {},
     "output_type": "execute_result"
    }
   ],
   "source": [
    "dist.sample()"
   ]
  },
  {
   "cell_type": "code",
   "execution_count": null,
   "metadata": {},
   "outputs": [],
   "source": []
  },
  {
   "cell_type": "code",
   "execution_count": 147,
   "metadata": {
    "colab": {},
    "colab_type": "code",
    "id": "6UBWJAWwswSZ"
   },
   "outputs": [],
   "source": [
    "from torch.distributions.binomial import Binomial"
   ]
  },
  {
   "cell_type": "code",
   "execution_count": 148,
   "metadata": {
    "colab": {},
    "colab_type": "code",
    "id": "FSUzXUseswSa"
   },
   "outputs": [],
   "source": [
    "dist = Binomial(100, torch.tensor([0, .2, .8, 1]))      # 100 counts"
   ]
  },
  {
   "cell_type": "code",
   "execution_count": 149,
   "metadata": {
    "colab": {},
    "colab_type": "code",
    "id": "WpZe2X4EswSc",
    "outputId": "c5bda88e-8c65-4fbf-898c-d7071462a24e"
   },
   "outputs": [
    {
     "data": {
      "text/plain": [
       "Binomial(total_count: torch.Size([4]), probs: torch.Size([4]), logits: torch.Size([4]))"
      ]
     },
     "execution_count": 149,
     "metadata": {},
     "output_type": "execute_result"
    }
   ],
   "source": [
    "dist"
   ]
  },
  {
   "cell_type": "code",
   "execution_count": 150,
   "metadata": {
    "colab": {},
    "colab_type": "code",
    "id": "l6jbrzYUswSd",
    "outputId": "2c262fc8-0f74-4141-ead5-b30ad1901cde"
   },
   "outputs": [
    {
     "data": {
      "text/plain": [
       "tensor([  0.,  20.,  80., 100.])"
      ]
     },
     "execution_count": 150,
     "metadata": {},
     "output_type": "execute_result"
    }
   ],
   "source": [
    "dist.sample()"
   ]
  },
  {
   "cell_type": "code",
   "execution_count": null,
   "metadata": {},
   "outputs": [],
   "source": []
  },
  {
   "cell_type": "code",
   "execution_count": 152,
   "metadata": {
    "colab": {},
    "colab_type": "code",
    "id": "3rSLm6kjswSg"
   },
   "outputs": [],
   "source": [
    "from torch.distributions.categorical import Categorical"
   ]
  },
  {
   "cell_type": "code",
   "execution_count": 161,
   "metadata": {
    "colab": {},
    "colab_type": "code",
    "id": "2wn6sD3VswSj"
   },
   "outputs": [],
   "source": [
    "dist = Categorical(torch.tensor([0.2, .2, .2, .2, .2]))            # 0.2: event prob"
   ]
  },
  {
   "cell_type": "code",
   "execution_count": 162,
   "metadata": {
    "colab": {},
    "colab_type": "code",
    "id": "U76hjNr5swSk",
    "outputId": "5044736f-1a42-47ee-8064-877200b87684"
   },
   "outputs": [
    {
     "data": {
      "text/plain": [
       "Categorical(probs: torch.Size([5]))"
      ]
     },
     "execution_count": 162,
     "metadata": {},
     "output_type": "execute_result"
    }
   ],
   "source": [
    "dist"
   ]
  },
  {
   "cell_type": "code",
   "execution_count": 164,
   "metadata": {
    "colab": {},
    "colab_type": "code",
    "id": "8AMQX24WswSl",
    "outputId": "010ebe51-4cf1-4538-868f-e38f3ce2b764"
   },
   "outputs": [
    {
     "data": {
      "text/plain": [
       "tensor(4)"
      ]
     },
     "execution_count": 164,
     "metadata": {},
     "output_type": "execute_result"
    }
   ],
   "source": [
    "dist.sample()"
   ]
  },
  {
   "cell_type": "code",
   "execution_count": null,
   "metadata": {
    "colab": {},
    "colab_type": "code",
    "id": "xqATDA0SswSn"
   },
   "outputs": [],
   "source": []
  },
  {
   "cell_type": "code",
   "execution_count": 165,
   "metadata": {
    "colab": {},
    "colab_type": "code",
    "id": "C2TkpN1TswSp"
   },
   "outputs": [],
   "source": [
    "from torch.distributions.laplace import Laplace     ## AKA double exponential dist, used in speech recognition to understand prior probs"
   ]
  },
  {
   "cell_type": "code",
   "execution_count": 166,
   "metadata": {
    "colab": {},
    "colab_type": "code",
    "id": "FWUu3gc8swSr"
   },
   "outputs": [],
   "source": [
    "dist = Laplace(torch.tensor([10.0]), torch.tensor([0.99]))"
   ]
  },
  {
   "cell_type": "code",
   "execution_count": 167,
   "metadata": {
    "colab": {},
    "colab_type": "code",
    "id": "ndXrcPURswSu",
    "outputId": "371f4464-6ff4-4f65-81a6-d23608d2e64d"
   },
   "outputs": [
    {
     "data": {
      "text/plain": [
       "Laplace(loc: tensor([10.]), scale: tensor([0.9900]))"
      ]
     },
     "execution_count": 167,
     "metadata": {},
     "output_type": "execute_result"
    }
   ],
   "source": [
    "dist"
   ]
  },
  {
   "cell_type": "code",
   "execution_count": 168,
   "metadata": {
    "colab": {},
    "colab_type": "code",
    "id": "-T8GlUrrswSz",
    "outputId": "12c15a14-976b-42ed-f3df-03fb2489b5ac"
   },
   "outputs": [
    {
     "data": {
      "text/plain": [
       "tensor([8.1093])"
      ]
     },
     "execution_count": 168,
     "metadata": {},
     "output_type": "execute_result"
    }
   ],
   "source": [
    "dist.sample()"
   ]
  },
  {
   "cell_type": "code",
   "execution_count": null,
   "metadata": {
    "colab": {},
    "colab_type": "code",
    "id": "keQpsOI6swS3"
   },
   "outputs": [],
   "source": []
  },
  {
   "cell_type": "code",
   "execution_count": 169,
   "metadata": {
    "colab": {},
    "colab_type": "code",
    "id": "97g9UNBvswS5"
   },
   "outputs": [],
   "source": [
    "from torch.distributions.normal import Normal"
   ]
  },
  {
   "cell_type": "code",
   "execution_count": 170,
   "metadata": {
    "colab": {},
    "colab_type": "code",
    "id": "kqeJq8q5swS7"
   },
   "outputs": [],
   "source": [
    "dist = Normal(torch.tensor([0.0]), torch.tensor([1.]))"
   ]
  },
  {
   "cell_type": "code",
   "execution_count": 171,
   "metadata": {
    "colab": {},
    "colab_type": "code",
    "id": "QeHF1RF_swS8",
    "outputId": "b92625e0-f4b2-4ad6-c058-3e74349d76cb"
   },
   "outputs": [
    {
     "data": {
      "text/plain": [
       "Normal(loc: tensor([0.]), scale: tensor([1.]))"
      ]
     },
     "execution_count": 171,
     "metadata": {},
     "output_type": "execute_result"
    }
   ],
   "source": [
    "dist"
   ]
  },
  {
   "cell_type": "code",
   "execution_count": 172,
   "metadata": {
    "colab": {},
    "colab_type": "code",
    "id": "RjkLeps8swTE",
    "outputId": "d9539819-ee94-4f59-f578-ae0ebe01fbb4"
   },
   "outputs": [
    {
     "data": {
      "text/plain": [
       "tensor([-0.4520])"
      ]
     },
     "execution_count": 172,
     "metadata": {},
     "output_type": "execute_result"
    }
   ],
   "source": [
    "dist.sample()"
   ]
  }
 ],
 "metadata": {
  "accelerator": "GPU",
  "colab": {
   "collapsed_sections": [],
   "name": "3_tensor_weights_initialization_distribution.ipynb",
   "provenance": []
  },
  "kernelspec": {
   "display_name": "Python 3",
   "language": "python",
   "name": "python3"
  },
  "language_info": {
   "codemirror_mode": {
    "name": "ipython",
    "version": 3
   },
   "file_extension": ".py",
   "mimetype": "text/x-python",
   "name": "python",
   "nbconvert_exporter": "python",
   "pygments_lexer": "ipython3",
   "version": "3.7.6"
  }
 },
 "nbformat": 4,
 "nbformat_minor": 4
}
