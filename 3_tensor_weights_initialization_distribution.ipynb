{
 "cells": [
  {
   "cell_type": "code",
   "execution_count": 53,
   "metadata": {},
   "outputs": [],
   "source": [
    "import numpy as np\n",
    "import pandas as pd\n",
    "import torch\n",
    "\n",
    "from torch.autograd import Variable\n",
    "from torch import FloatTensor\n",
    "from torch.autograd import Variable"
   ]
  },
  {
   "cell_type": "code",
   "execution_count": null,
   "metadata": {},
   "outputs": [],
   "source": []
  },
  {
   "cell_type": "code",
   "execution_count": null,
   "metadata": {},
   "outputs": [],
   "source": []
  },
  {
   "cell_type": "code",
   "execution_count": 2,
   "metadata": {},
   "outputs": [
    {
     "data": {
      "text/plain": [
       "tensor([[-0.1117, -0.4966,  0.1631, -0.8817],\n",
       "        [ 0.0539,  0.6684, -0.0597, -0.4675],\n",
       "        [-0.2153,  0.8840, -0.7584, -0.3689],\n",
       "        [-0.3424, -1.4020,  0.3206, -1.0219]])"
      ]
     },
     "execution_count": 2,
     "metadata": {},
     "output_type": "execute_result"
    }
   ],
   "source": [
    "torch.manual_seed(1234)\n",
    "\n",
    "torch.randn(4,4)"
   ]
  },
  {
   "cell_type": "code",
   "execution_count": null,
   "metadata": {},
   "outputs": [],
   "source": []
  },
  {
   "cell_type": "code",
   "execution_count": 3,
   "metadata": {},
   "outputs": [
    {
     "data": {
      "text/plain": [
       "tensor([[0.2837, 0.6567, 0.2388, 0.7313],\n",
       "        [0.6012, 0.3043, 0.2548, 0.6294],\n",
       "        [0.9665, 0.7399, 0.4517, 0.4757],\n",
       "        [0.7842, 0.1525, 0.6662, 0.3343]])"
      ]
     },
     "execution_count": 3,
     "metadata": {},
     "output_type": "execute_result"
    }
   ],
   "source": [
    "torch.Tensor(4, 4).uniform_(0, 1)"
   ]
  },
  {
   "cell_type": "code",
   "execution_count": null,
   "metadata": {},
   "outputs": [],
   "source": []
  },
  {
   "cell_type": "code",
   "execution_count": 4,
   "metadata": {},
   "outputs": [
    {
     "data": {
      "text/plain": [
       "tensor([[0., 0., 0., 0.],\n",
       "        [1., 0., 1., 0.],\n",
       "        [1., 0., 1., 1.],\n",
       "        [0., 0., 0., 0.]])"
      ]
     },
     "execution_count": 4,
     "metadata": {},
     "output_type": "execute_result"
    }
   ],
   "source": [
    "torch.bernoulli(torch.Tensor(4, 4).uniform_(0, 1))"
   ]
  },
  {
   "cell_type": "code",
   "execution_count": null,
   "metadata": {},
   "outputs": [],
   "source": []
  },
  {
   "cell_type": "code",
   "execution_count": 5,
   "metadata": {},
   "outputs": [
    {
     "data": {
      "text/plain": [
       "tensor([10, 10, 13, 10, 34, 45, 65, 67, 87, 89, 87, 34])"
      ]
     },
     "execution_count": 5,
     "metadata": {},
     "output_type": "execute_result"
    }
   ],
   "source": [
    "torch.tensor([10, 10, 13, 10, 34, 45, 65, 67, 87, 89, 87, 34])"
   ]
  },
  {
   "cell_type": "code",
   "execution_count": 6,
   "metadata": {},
   "outputs": [
    {
     "data": {
      "text/plain": [
       "tensor([10., 10., 13., 10., 34., 45., 65., 67., 87., 89., 87., 34.])"
      ]
     },
     "execution_count": 6,
     "metadata": {},
     "output_type": "execute_result"
    }
   ],
   "source": [
    "torch.Tensor([10, 10, 13, 10, 34, 45, 65, 67, 87, 89, 87, 34])"
   ]
  },
  {
   "cell_type": "code",
   "execution_count": 7,
   "metadata": {},
   "outputs": [
    {
     "data": {
      "text/plain": [
       "tensor([10,  7,  6])"
      ]
     },
     "execution_count": 7,
     "metadata": {},
     "output_type": "execute_result"
    }
   ],
   "source": [
    "torch.multinomial(torch.Tensor([10, 10, 13, 10, 34, 45, 65, 67, 87, 89, 87, 34]), 3)"
   ]
  },
  {
   "cell_type": "code",
   "execution_count": 8,
   "metadata": {},
   "outputs": [
    {
     "data": {
      "text/plain": [
       "tensor([11,  4,  4,  8,  6])"
      ]
     },
     "execution_count": 8,
     "metadata": {},
     "output_type": "execute_result"
    }
   ],
   "source": [
    "torch.multinomial(torch.Tensor([10, 10, 13, 10, 34, 45, 65, 67, 87, 89, 87, 34]), 5, replacement = True)"
   ]
  },
  {
   "cell_type": "code",
   "execution_count": null,
   "metadata": {},
   "outputs": [],
   "source": []
  },
  {
   "cell_type": "code",
   "execution_count": 9,
   "metadata": {},
   "outputs": [
    {
     "data": {
      "text/plain": [
       "tensor([-0.0413,  2.0632,  3.4637,  3.9581,  5.1089,  5.6602,  6.8973,  7.4543,\n",
       "         9.0422, 10.0337])"
      ]
     },
     "execution_count": 9,
     "metadata": {},
     "output_type": "execute_result"
    }
   ],
   "source": [
    "torch.normal(mean = torch.arange(1., 11.), \n",
    "             std = torch.arange(1, 0, -0.1))"
   ]
  },
  {
   "cell_type": "code",
   "execution_count": 10,
   "metadata": {},
   "outputs": [
    {
     "data": {
      "text/plain": [
       "tensor([ 1.1638,  2.5794,  6.0301,  3.1352, -0.6746])"
      ]
     },
     "execution_count": 10,
     "metadata": {},
     "output_type": "execute_result"
    }
   ],
   "source": [
    "torch.normal(mean = 0.5,\n",
    "             std = torch.arange(1., 6.))"
   ]
  },
  {
   "cell_type": "code",
   "execution_count": 11,
   "metadata": {},
   "outputs": [
    {
     "data": {
      "text/plain": [
       "tensor([0.4939])"
      ]
     },
     "execution_count": 11,
     "metadata": {},
     "output_type": "execute_result"
    }
   ],
   "source": [
    "torch.normal(mean = 0.5,\n",
    "             std = torch.arange(0.2, 0.6))"
   ]
  },
  {
   "cell_type": "code",
   "execution_count": null,
   "metadata": {},
   "outputs": [],
   "source": []
  },
  {
   "cell_type": "raw",
   "metadata": {},
   "source": [
    "a PyTorch variable is a node in a computational graph, which stores data and gradients"
   ]
  },
  {
   "cell_type": "code",
   "execution_count": 12,
   "metadata": {},
   "outputs": [],
   "source": [
    "from torch.autograd import Variable"
   ]
  },
  {
   "cell_type": "code",
   "execution_count": 13,
   "metadata": {},
   "outputs": [
    {
     "data": {
      "text/plain": [
       "tensor([[1., 1.],\n",
       "        [1., 1.]], requires_grad=True)"
      ]
     },
     "execution_count": 13,
     "metadata": {},
     "output_type": "execute_result"
    }
   ],
   "source": [
    "Variable(torch.ones(2, 2), requires_grad = True)"
   ]
  },
  {
   "cell_type": "code",
   "execution_count": 14,
   "metadata": {},
   "outputs": [],
   "source": [
    "a, b = 12, 23"
   ]
  },
  {
   "cell_type": "code",
   "execution_count": 15,
   "metadata": {},
   "outputs": [],
   "source": [
    "x1 = Variable(torch.rand(a, b),\n",
    "              requires_grad = True)"
   ]
  },
  {
   "cell_type": "code",
   "execution_count": 16,
   "metadata": {},
   "outputs": [],
   "source": [
    "x2 = Variable(torch.rand(a, b),\n",
    "              requires_grad = True)"
   ]
  },
  {
   "cell_type": "code",
   "execution_count": 17,
   "metadata": {},
   "outputs": [],
   "source": [
    "x3 = Variable(torch.rand(a, b),\n",
    "              requires_grad = True)"
   ]
  },
  {
   "cell_type": "code",
   "execution_count": 18,
   "metadata": {},
   "outputs": [],
   "source": [
    "c = x1 * x2"
   ]
  },
  {
   "cell_type": "code",
   "execution_count": 19,
   "metadata": {},
   "outputs": [
    {
     "data": {
      "text/plain": [
       "tensor([[1.9439e-01, 8.3123e-02, 6.1326e-01, 9.0578e-01, 3.2159e-01, 1.8023e-02,\n",
       "         2.9322e-01, 3.0344e-01, 9.8868e-03, 2.2838e-01, 6.0316e-02, 5.7139e-02,\n",
       "         2.4851e-01, 2.7720e-02, 5.5285e-02, 4.6781e-02, 5.9956e-01, 2.6667e-01,\n",
       "         1.6194e-01, 3.6107e-01, 3.3975e-01, 5.9168e-02, 1.8463e-01],\n",
       "        [8.2431e-01, 3.7642e-01, 1.2974e-01, 2.8487e-01, 2.2833e-01, 1.2991e-02,\n",
       "         3.1803e-01, 2.6543e-01, 1.8372e-01, 2.8256e-01, 5.9885e-02, 3.2997e-01,\n",
       "         3.9870e-01, 2.5413e-01, 1.8421e-01, 8.9223e-02, 7.7667e-01, 2.4835e-01,\n",
       "         2.7827e-01, 1.7042e-01, 7.2741e-02, 2.1541e-01, 5.5924e-01],\n",
       "        [2.5814e-01, 3.0717e-01, 8.2730e-01, 2.4071e-01, 5.1900e-01, 2.9513e-01,\n",
       "         3.5017e-02, 5.9113e-03, 3.3227e-02, 1.7768e-02, 5.3346e-03, 2.3609e-01,\n",
       "         1.9969e-01, 7.4036e-03, 4.6820e-02, 4.5987e-01, 2.3172e-01, 5.8926e-01,\n",
       "         1.4114e-01, 2.1472e-01, 9.9913e-02, 4.5357e-02, 9.9508e-03],\n",
       "        [3.5248e-02, 2.0942e-01, 4.1740e-01, 1.4990e-01, 2.6704e-01, 3.4783e-01,\n",
       "         2.0669e-01, 4.4287e-01, 7.4867e-02, 4.0489e-01, 9.0955e-02, 1.5846e-01,\n",
       "         3.1753e-01, 9.5794e-03, 5.4943e-01, 1.3535e-01, 3.4761e-01, 3.3143e-01,\n",
       "         7.6199e-01, 2.6414e-01, 2.2492e-01, 1.0817e-01, 3.2810e-01],\n",
       "        [5.5937e-01, 2.1683e-01, 5.8465e-01, 5.4285e-01, 7.5628e-02, 1.8011e-01,\n",
       "         9.9963e-02, 8.2112e-02, 1.4970e-01, 6.7252e-01, 2.6705e-03, 2.9171e-02,\n",
       "         1.9045e-01, 9.4124e-02, 2.4099e-02, 4.6854e-01, 3.0724e-01, 1.2247e-01,\n",
       "         5.0635e-01, 6.8440e-01, 8.4373e-02, 8.1637e-01, 1.5487e-01],\n",
       "        [7.0894e-01, 8.2756e-03, 1.3097e-02, 5.1564e-01, 2.3054e-02, 6.9700e-02,\n",
       "         3.2016e-01, 4.9882e-01, 2.5030e-02, 7.8773e-01, 3.1855e-01, 1.1961e-01,\n",
       "         1.4381e-01, 1.8818e-02, 1.0749e-01, 1.0447e-01, 6.2928e-04, 6.9813e-02,\n",
       "         2.3374e-02, 2.5400e-01, 3.5555e-01, 2.8406e-01, 5.6605e-03],\n",
       "        [5.3724e-01, 1.6528e-01, 2.0780e-01, 6.2933e-01, 1.0524e-01, 1.3425e-01,\n",
       "         1.8644e-01, 5.8867e-02, 7.5256e-02, 2.3960e-01, 2.6525e-01, 1.1030e-01,\n",
       "         2.8469e-02, 3.4011e-01, 2.0587e-01, 1.8921e-01, 3.1487e-01, 1.0407e-03,\n",
       "         1.2293e-02, 5.4665e-03, 2.9355e-01, 8.4523e-01, 4.2366e-01],\n",
       "        [2.7685e-01, 6.3219e-01, 7.1098e-02, 1.6969e-01, 3.4709e-01, 4.0663e-01,\n",
       "         4.6239e-01, 1.9568e-01, 4.2936e-01, 5.5470e-01, 5.8465e-02, 1.2631e-01,\n",
       "         4.3599e-02, 3.3440e-01, 5.4450e-02, 5.2160e-01, 4.4924e-01, 6.4679e-02,\n",
       "         3.3269e-01, 2.4978e-02, 5.9862e-01, 2.7116e-01, 1.4389e-01],\n",
       "        [1.8619e-01, 4.0736e-01, 3.6763e-01, 1.4362e-02, 1.5035e-01, 5.2332e-01,\n",
       "         6.6208e-02, 2.3853e-01, 3.1591e-01, 6.8935e-01, 9.0266e-02, 5.6323e-02,\n",
       "         5.6296e-01, 4.5334e-01, 2.5943e-01, 3.6265e-01, 7.1514e-02, 4.3227e-01,\n",
       "         4.2019e-02, 4.7217e-01, 1.8761e-01, 7.3385e-01, 2.3745e-01],\n",
       "        [1.1028e-01, 4.9297e-01, 4.5965e-01, 1.4384e-01, 7.8459e-02, 1.4073e-01,\n",
       "         2.8141e-01, 5.0441e-01, 1.1735e-01, 1.9111e-01, 2.1997e-01, 2.3580e-03,\n",
       "         2.7818e-01, 5.3693e-01, 6.7930e-02, 3.1220e-01, 1.6295e-02, 4.1404e-01,\n",
       "         6.0279e-01, 3.9501e-02, 4.4437e-02, 4.4956e-01, 2.7618e-01],\n",
       "        [6.1632e-01, 6.1026e-01, 5.6082e-01, 7.6137e-02, 2.6566e-03, 5.2268e-02,\n",
       "         1.9872e-02, 2.4617e-01, 5.1310e-02, 3.7122e-01, 2.1477e-01, 1.1831e-01,\n",
       "         1.2849e-01, 6.5715e-01, 1.5089e-01, 5.4218e-01, 5.1914e-01, 4.1561e-01,\n",
       "         1.5852e-01, 2.5443e-01, 6.5915e-02, 3.1688e-01, 4.7286e-02],\n",
       "        [5.9934e-02, 2.2730e-02, 7.9365e-03, 4.0027e-01, 3.2014e-01, 4.8874e-01,\n",
       "         5.8815e-01, 6.3607e-01, 8.9541e-02, 2.4629e-02, 4.0294e-01, 3.6882e-01,\n",
       "         2.3652e-01, 2.8063e-02, 3.2212e-01, 1.7523e-03, 3.5416e-01, 3.1662e-02,\n",
       "         1.0438e-01, 2.7268e-01, 8.6584e-01, 6.4166e-02, 2.7559e-01]],\n",
       "       grad_fn=<MulBackward0>)"
      ]
     },
     "execution_count": 19,
     "metadata": {},
     "output_type": "execute_result"
    }
   ],
   "source": [
    "c"
   ]
  },
  {
   "cell_type": "code",
   "execution_count": 20,
   "metadata": {},
   "outputs": [],
   "source": [
    "d = a + x3"
   ]
  },
  {
   "cell_type": "code",
   "execution_count": 21,
   "metadata": {},
   "outputs": [
    {
     "data": {
      "text/plain": [
       "tensor([[12.6790, 12.6414, 12.9103, 12.6213, 12.7939, 12.1999, 12.8104, 12.5109,\n",
       "         12.4445, 12.2756, 12.6853, 12.7588, 12.1340, 12.1134, 12.6995, 12.0575,\n",
       "         12.0297, 12.8617, 12.6591, 12.5385, 12.4971, 12.7077, 12.1429],\n",
       "        [12.9157, 12.4303, 12.5491, 12.0267, 12.5304, 12.1945, 12.7813, 12.0250,\n",
       "         12.9507, 12.3828, 12.3294, 12.4968, 12.0913, 12.6613, 12.9078, 12.2900,\n",
       "         12.3376, 12.0834, 12.6218, 12.8683, 12.9070, 12.6605, 12.7243],\n",
       "        [12.1330, 12.2989, 12.9879, 12.5074, 12.7034, 12.1295, 12.0874, 12.8947,\n",
       "         12.2780, 12.2299, 12.4783, 12.4637, 12.7184, 12.8120, 12.9437, 12.3520,\n",
       "         12.3704, 12.1080, 12.2461, 12.4065, 12.2440, 12.5123, 12.3927],\n",
       "        [12.7875, 12.0633, 12.4899, 12.3109, 12.5337, 12.2299, 12.0076, 12.4883,\n",
       "         12.5447, 12.9341, 12.1595, 12.4255, 12.9049, 12.9816, 12.5763, 12.2561,\n",
       "         12.7949, 12.1379, 12.0809, 12.5429, 12.2080, 12.6596, 12.2835],\n",
       "        [12.1386, 12.3173, 12.1742, 12.1480, 12.7631, 12.4498, 12.2856, 12.0098,\n",
       "         12.8828, 12.2042, 12.9072, 12.0755, 12.2696, 12.9804, 12.7096, 12.1793,\n",
       "         12.1721, 12.2479, 12.6910, 12.7607, 12.3144, 12.0805, 12.1659],\n",
       "        [12.8119, 12.5873, 12.7044, 12.7574, 12.1779, 12.1232, 12.1436, 12.9916,\n",
       "         12.5148, 12.5285, 12.0121, 12.5823, 12.0349, 12.1724, 12.5320, 12.0541,\n",
       "         12.7236, 12.8549, 12.2903, 12.8634, 12.8894, 12.0384, 12.5254],\n",
       "        [12.3674, 12.4225, 12.7812, 12.2435, 12.1682, 12.5573, 12.6045, 12.2307,\n",
       "         12.2814, 12.0501, 12.7832, 12.2449, 12.7413, 12.0861, 12.1658, 12.4836,\n",
       "         12.9970, 12.4350, 12.4520, 12.3901, 12.5721, 12.3457, 12.8866],\n",
       "        [12.5510, 12.7573, 12.5165, 12.8753, 12.1841, 12.2446, 12.3023, 12.2925,\n",
       "         12.5357, 12.7314, 12.1317, 12.1482, 12.8029, 12.7295, 12.6052, 12.7116,\n",
       "         12.5585, 12.3289, 12.4198, 12.3688, 12.2889, 12.1957, 12.4248],\n",
       "        [12.1775, 12.2109, 12.1870, 12.9641, 12.9934, 12.7744, 12.3982, 12.6314,\n",
       "         12.7068, 12.5781, 12.7586, 12.6885, 12.6615, 12.9755, 12.0849, 12.5479,\n",
       "         12.9003, 12.9090, 12.3586, 12.8335, 12.2021, 12.4685, 12.9526],\n",
       "        [12.4150, 12.7601, 12.9990, 12.2868, 12.7132, 12.3035, 12.3623, 12.8707,\n",
       "         12.6584, 12.0653, 12.9686, 12.8536, 12.7776, 12.5567, 12.7301, 12.3437,\n",
       "         12.3255, 12.7633, 12.5781, 12.9791, 12.5090, 12.4715, 12.7904],\n",
       "        [12.2567, 12.0558, 12.5168, 12.9919, 12.1180, 12.5785, 12.1728, 12.0704,\n",
       "         12.4963, 12.3221, 12.3807, 12.6648, 12.3828, 12.5560, 12.4881, 12.8810,\n",
       "         12.6726, 12.3189, 12.1239, 12.8318, 12.4468, 12.7011, 12.2837],\n",
       "        [12.8543, 12.8389, 12.5238, 12.6297, 12.6005, 12.6895, 12.4375, 12.0692,\n",
       "         12.1499, 12.5775, 12.0020, 12.0231, 12.2245, 12.7587, 12.4626, 12.1448,\n",
       "         12.1662, 12.3057, 12.1316, 12.9666, 12.1796, 12.2350, 12.1485]],\n",
       "       grad_fn=<AddBackward0>)"
      ]
     },
     "execution_count": 21,
     "metadata": {},
     "output_type": "execute_result"
    }
   ],
   "source": [
    "d"
   ]
  },
  {
   "cell_type": "code",
   "execution_count": 22,
   "metadata": {},
   "outputs": [],
   "source": [
    "e = torch.sum(d)"
   ]
  },
  {
   "cell_type": "code",
   "execution_count": 23,
   "metadata": {},
   "outputs": [
    {
     "data": {
      "text/plain": [
       "tensor(3444.5505, grad_fn=<SumBackward0>)"
      ]
     },
     "execution_count": 23,
     "metadata": {},
     "output_type": "execute_result"
    }
   ],
   "source": [
    "e"
   ]
  },
  {
   "cell_type": "code",
   "execution_count": 24,
   "metadata": {},
   "outputs": [],
   "source": [
    "e.backward()"
   ]
  },
  {
   "cell_type": "code",
   "execution_count": 25,
   "metadata": {},
   "outputs": [
    {
     "name": "stdout",
     "output_type": "stream",
     "text": [
      "tensor(3444.5505, grad_fn=<SumBackward0>)\n"
     ]
    }
   ],
   "source": [
    "print(e)"
   ]
  },
  {
   "cell_type": "code",
   "execution_count": null,
   "metadata": {},
   "outputs": [],
   "source": []
  },
  {
   "cell_type": "code",
   "execution_count": 26,
   "metadata": {},
   "outputs": [
    {
     "data": {
      "text/plain": [
       "tensor(45.9167)"
      ]
     },
     "execution_count": 26,
     "metadata": {},
     "output_type": "execute_result"
    }
   ],
   "source": [
    "torch.mean(torch.tensor([10., 10., 13., 10., 34., 45., 65., 67., 87., 89., 87., 34.]))"
   ]
  },
  {
   "cell_type": "code",
   "execution_count": 27,
   "metadata": {},
   "outputs": [
    {
     "data": {
      "text/plain": [
       "tensor(45.9167)"
      ]
     },
     "execution_count": 27,
     "metadata": {},
     "output_type": "execute_result"
    }
   ],
   "source": [
    "torch.mean(torch.Tensor([10, 10, 13, 10, 34, 45, 65, 67, 87, 89, 87, 34]))"
   ]
  },
  {
   "cell_type": "code",
   "execution_count": 28,
   "metadata": {},
   "outputs": [],
   "source": [
    "d = torch.Tensor([1, 2, 3, 5, 4, 2, 3, 5, 67, 34, 5, 6]).view(4, 3)"
   ]
  },
  {
   "cell_type": "code",
   "execution_count": 29,
   "metadata": {},
   "outputs": [
    {
     "data": {
      "text/plain": [
       "tensor([[ 1.,  2.,  3.],\n",
       "        [ 5.,  4.,  2.],\n",
       "        [ 3.,  5., 67.],\n",
       "        [34.,  5.,  6.]])"
      ]
     },
     "execution_count": 29,
     "metadata": {},
     "output_type": "execute_result"
    }
   ],
   "source": [
    "d"
   ]
  },
  {
   "cell_type": "code",
   "execution_count": 30,
   "metadata": {},
   "outputs": [
    {
     "data": {
      "text/plain": [
       "tensor(11.4167)"
      ]
     },
     "execution_count": 30,
     "metadata": {},
     "output_type": "execute_result"
    }
   ],
   "source": [
    "torch.mean(d)"
   ]
  },
  {
   "cell_type": "code",
   "execution_count": 31,
   "metadata": {},
   "outputs": [
    {
     "data": {
      "text/plain": [
       "tensor([10.7500,  4.0000, 19.5000])"
      ]
     },
     "execution_count": 31,
     "metadata": {},
     "output_type": "execute_result"
    }
   ],
   "source": [
    "torch.mean(d, dim = 0)"
   ]
  },
  {
   "cell_type": "code",
   "execution_count": 32,
   "metadata": {},
   "outputs": [
    {
     "data": {
      "text/plain": [
       "tensor([ 2.0000,  3.6667, 25.0000, 15.0000])"
      ]
     },
     "execution_count": 32,
     "metadata": {},
     "output_type": "execute_result"
    }
   ],
   "source": [
    "torch.mean(d, dim = 1)"
   ]
  },
  {
   "cell_type": "code",
   "execution_count": 33,
   "metadata": {},
   "outputs": [
    {
     "data": {
      "text/plain": [
       "tensor(4.)"
      ]
     },
     "execution_count": 33,
     "metadata": {},
     "output_type": "execute_result"
    }
   ],
   "source": [
    "torch.median(d)"
   ]
  },
  {
   "cell_type": "code",
   "execution_count": 34,
   "metadata": {},
   "outputs": [
    {
     "data": {
      "text/plain": [
       "torch.return_types.median(\n",
       "values=tensor([3., 4., 3.]),\n",
       "indices=tensor([2, 1, 0]))"
      ]
     },
     "execution_count": 34,
     "metadata": {},
     "output_type": "execute_result"
    }
   ],
   "source": [
    "torch.median(d, dim = 0)"
   ]
  },
  {
   "cell_type": "code",
   "execution_count": 35,
   "metadata": {},
   "outputs": [
    {
     "data": {
      "text/plain": [
       "torch.return_types.median(\n",
       "values=tensor([2., 4., 5., 6.]),\n",
       "indices=tensor([1, 1, 1, 2]))"
      ]
     },
     "execution_count": 35,
     "metadata": {},
     "output_type": "execute_result"
    }
   ],
   "source": [
    "torch.median(d, dim = 1)"
   ]
  },
  {
   "cell_type": "code",
   "execution_count": 36,
   "metadata": {},
   "outputs": [
    {
     "data": {
      "text/plain": [
       "torch.return_types.mode(\n",
       "values=tensor([1., 2., 3., 5.]),\n",
       "indices=tensor([0, 2, 0, 1]))"
      ]
     },
     "execution_count": 36,
     "metadata": {},
     "output_type": "execute_result"
    }
   ],
   "source": [
    "torch.mode(d)"
   ]
  },
  {
   "cell_type": "code",
   "execution_count": 37,
   "metadata": {},
   "outputs": [
    {
     "data": {
      "text/plain": [
       "torch.return_types.mode(\n",
       "values=tensor([1., 5., 2.]),\n",
       "indices=tensor([0, 3, 1]))"
      ]
     },
     "execution_count": 37,
     "metadata": {},
     "output_type": "execute_result"
    }
   ],
   "source": [
    "torch.mode(d, dim = 0)"
   ]
  },
  {
   "cell_type": "code",
   "execution_count": 38,
   "metadata": {},
   "outputs": [
    {
     "data": {
      "text/plain": [
       "torch.return_types.mode(\n",
       "values=tensor([1., 2., 3., 5.]),\n",
       "indices=tensor([0, 2, 0, 1]))"
      ]
     },
     "execution_count": 38,
     "metadata": {},
     "output_type": "execute_result"
    }
   ],
   "source": [
    "torch.mode(d, dim = 1)"
   ]
  },
  {
   "cell_type": "code",
   "execution_count": 39,
   "metadata": {},
   "outputs": [
    {
     "data": {
      "text/plain": [
       "tensor(19.6212)"
      ]
     },
     "execution_count": 39,
     "metadata": {},
     "output_type": "execute_result"
    }
   ],
   "source": [
    "torch.std(d)"
   ]
  },
  {
   "cell_type": "code",
   "execution_count": 40,
   "metadata": {},
   "outputs": [
    {
     "data": {
      "text/plain": [
       "tensor([15.5858,  1.4142, 31.7122])"
      ]
     },
     "execution_count": 40,
     "metadata": {},
     "output_type": "execute_result"
    }
   ],
   "source": [
    "torch.std(d, dim = 0)"
   ]
  },
  {
   "cell_type": "code",
   "execution_count": 41,
   "metadata": {},
   "outputs": [
    {
     "data": {
      "text/plain": [
       "tensor([ 1.0000,  1.5275, 36.3868, 16.4621])"
      ]
     },
     "execution_count": 41,
     "metadata": {},
     "output_type": "execute_result"
    }
   ],
   "source": [
    "torch.std(d, dim = 1)"
   ]
  },
  {
   "cell_type": "code",
   "execution_count": 42,
   "metadata": {},
   "outputs": [
    {
     "data": {
      "text/plain": [
       "tensor(384.9924)"
      ]
     },
     "execution_count": 42,
     "metadata": {},
     "output_type": "execute_result"
    }
   ],
   "source": [
    "torch.var(d)"
   ]
  },
  {
   "cell_type": "code",
   "execution_count": 43,
   "metadata": {},
   "outputs": [
    {
     "data": {
      "text/plain": [
       "tensor([ 242.9167,    2.0000, 1005.6667])"
      ]
     },
     "execution_count": 43,
     "metadata": {},
     "output_type": "execute_result"
    }
   ],
   "source": [
    "torch.var(d, dim = 0)"
   ]
  },
  {
   "cell_type": "code",
   "execution_count": 44,
   "metadata": {},
   "outputs": [
    {
     "data": {
      "text/plain": [
       "tensor([1.0000e+00, 2.3333e+00, 1.3240e+03, 2.7100e+02])"
      ]
     },
     "execution_count": 44,
     "metadata": {},
     "output_type": "execute_result"
    }
   ],
   "source": [
    "torch.var(d, dim = 1)"
   ]
  },
  {
   "cell_type": "code",
   "execution_count": null,
   "metadata": {},
   "outputs": [],
   "source": []
  },
  {
   "cell_type": "code",
   "execution_count": 45,
   "metadata": {},
   "outputs": [],
   "source": [
    "def forward(x):\n",
    "    return x * w    "
   ]
  },
  {
   "cell_type": "code",
   "execution_count": 46,
   "metadata": {},
   "outputs": [],
   "source": [
    "def loss(x, y):\n",
    "    y_pred = forward(x)\n",
    "    return (y_pred - y) ** 2"
   ]
  },
  {
   "cell_type": "code",
   "execution_count": 47,
   "metadata": {},
   "outputs": [],
   "source": [
    "x_data = [11.0, 22.0, 33.0]"
   ]
  },
  {
   "cell_type": "code",
   "execution_count": 48,
   "metadata": {},
   "outputs": [],
   "source": [
    "y_data = [21.0, 14.0, 64.0]"
   ]
  },
  {
   "cell_type": "code",
   "execution_count": 49,
   "metadata": {},
   "outputs": [],
   "source": [
    "w = Variable(torch.Tensor([1.0]), requires_grad = True)"
   ]
  },
  {
   "cell_type": "code",
   "execution_count": 50,
   "metadata": {},
   "outputs": [
    {
     "name": "stdout",
     "output_type": "stream",
     "text": [
      "predict before training:  4 tensor(4.)\n"
     ]
    }
   ],
   "source": [
    "print(\"predict before training: \", 4, forward(4).data[0])"
   ]
  },
  {
   "cell_type": "code",
   "execution_count": 51,
   "metadata": {},
   "outputs": [
    {
     "name": "stdout",
     "output_type": "stream",
     "text": [
      "\tgrad:  11.0 21.0 tensor(-220.)\n",
      "\tgrad:  22.0 14.0 tensor(2481.6001)\n",
      "\tgrad:  33.0 64.0 tensor(-51303.6484)\n",
      "process:  0 tensor(604238.8125)\n",
      "\tgrad:  11.0 21.0 tensor(118461.7578)\n",
      "\tgrad:  22.0 14.0 tensor(-671630.6875)\n",
      "\tgrad:  33.0 64.0 tensor(13114108.)\n",
      "process:  1 tensor(3.9481e+10)\n",
      "\tgrad:  11.0 21.0 tensor(-30279010.)\n",
      "\tgrad:  22.0 14.0 tensor(1.7199e+08)\n",
      "\tgrad:  33.0 64.0 tensor(-3.3589e+09)\n",
      "process:  2 tensor(2.5900e+15)\n",
      "\tgrad:  11.0 21.0 tensor(7.7553e+09)\n",
      "\tgrad:  22.0 14.0 tensor(-4.4050e+10)\n",
      "\tgrad:  33.0 64.0 tensor(8.6030e+11)\n",
      "process:  3 tensor(1.6991e+20)\n",
      "\tgrad:  11.0 21.0 tensor(-1.9863e+12)\n",
      "\tgrad:  22.0 14.0 tensor(1.1282e+13)\n",
      "\tgrad:  33.0 64.0 tensor(-2.2034e+14)\n",
      "process:  4 tensor(1.1146e+25)\n",
      "\tgrad:  11.0 21.0 tensor(5.0875e+14)\n",
      "\tgrad:  22.0 14.0 tensor(-2.8897e+15)\n",
      "\tgrad:  33.0 64.0 tensor(5.6436e+16)\n",
      "process:  5 tensor(7.3118e+29)\n",
      "\tgrad:  11.0 21.0 tensor(-1.3030e+17)\n",
      "\tgrad:  22.0 14.0 tensor(7.4013e+17)\n",
      "\tgrad:  33.0 64.0 tensor(-1.4455e+19)\n",
      "process:  6 tensor(4.7966e+34)\n",
      "\tgrad:  11.0 21.0 tensor(3.3374e+19)\n",
      "\tgrad:  22.0 14.0 tensor(-1.8957e+20)\n",
      "\tgrad:  33.0 64.0 tensor(3.7022e+21)\n",
      "process:  7 tensor(inf)\n",
      "\tgrad:  11.0 21.0 tensor(-8.5480e+21)\n",
      "\tgrad:  22.0 14.0 tensor(4.8553e+22)\n",
      "\tgrad:  33.0 64.0 tensor(-9.4824e+23)\n",
      "process:  8 tensor(inf)\n",
      "\tgrad:  11.0 21.0 tensor(2.1894e+24)\n",
      "\tgrad:  22.0 14.0 tensor(-1.2436e+25)\n",
      "\tgrad:  33.0 64.0 tensor(2.4287e+26)\n",
      "process:  9 tensor(inf)\n",
      "predict after training:  4 tensor(-9.2687e+24)\n"
     ]
    }
   ],
   "source": [
    "for epoch in range(10):\n",
    "    for x_val, y_val in zip(x_data, y_data):\n",
    "        los = loss(x_val, y_val)\n",
    "        los.backward()\n",
    "        print(\"\\tgrad: \", x_val, y_val, w.grad.data[0])\n",
    "        w.data = w.data - 0.01 * w.grad.data\n",
    "        \n",
    "        w.grad.data.zero_()\n",
    "    print('process: ', epoch, los.data[0])   \n",
    "\n",
    "print('predict after training: ', 4, forward(4).data[0])"
   ]
  },
  {
   "cell_type": "code",
   "execution_count": null,
   "metadata": {},
   "outputs": [],
   "source": []
  },
  {
   "cell_type": "code",
   "execution_count": 54,
   "metadata": {},
   "outputs": [],
   "source": [
    "from torch import FloatTensor\n",
    "from torch.autograd import Variable"
   ]
  },
  {
   "cell_type": "code",
   "execution_count": 55,
   "metadata": {},
   "outputs": [],
   "source": [
    "a = Variable(FloatTensor([5]))"
   ]
  },
  {
   "cell_type": "code",
   "execution_count": 57,
   "metadata": {},
   "outputs": [],
   "source": [
    "weights = [Variable(FloatTensor([i]), requires_grad = True) for i in (12, 53, 91, 123)]"
   ]
  },
  {
   "cell_type": "code",
   "execution_count": 58,
   "metadata": {},
   "outputs": [],
   "source": [
    "w1, w2, w3, w4 = weights"
   ]
  },
  {
   "cell_type": "code",
   "execution_count": 59,
   "metadata": {},
   "outputs": [
    {
     "name": "stdout",
     "output_type": "stream",
     "text": [
      "Gradient of w1 w.r.t. Loss is: -455.0\n",
      "Gradient of w2 w.r.t. Loss is: -615.0\n",
      "Gradient of w3 w.r.t. Loss is: -60.0\n",
      "Gradient of w4 w.r.t. Loss is: -265.0\n"
     ]
    }
   ],
   "source": [
    "b = w1 * a\n",
    "c = w2 * a\n",
    "d = w3 * b + w4 * c\n",
    "\n",
    "Loss = (10 -d)\n",
    "Loss.backward()\n",
    "\n",
    "for index, weight in enumerate(weights, start = 1):\n",
    "    gradient, *_ = weight.grad.data\n",
    "    print(f\"Gradient of w{index} w.r.t. Loss is: {gradient}\")    "
   ]
  },
  {
   "cell_type": "code",
   "execution_count": null,
   "metadata": {},
   "outputs": [],
   "source": []
  },
  {
   "cell_type": "code",
   "execution_count": 60,
   "metadata": {},
   "outputs": [],
   "source": [
    "x = Variable(torch.Tensor(4, 4).uniform_(-4, 5))\n",
    "y = Variable(torch.Tensor(4, 4).uniform_(-3, 2))"
   ]
  },
  {
   "cell_type": "code",
   "execution_count": 61,
   "metadata": {},
   "outputs": [
    {
     "data": {
      "text/plain": [
       "tensor([[-1.1282,  4.0778,  2.1476,  0.8352],\n",
       "        [-3.9400,  2.3189,  4.7109,  0.4280],\n",
       "        [ 3.5597, -0.9519, -3.7196,  0.3876],\n",
       "        [ 2.2939, -1.4769,  0.7608,  1.2525]])"
      ]
     },
     "execution_count": 61,
     "metadata": {},
     "output_type": "execute_result"
    }
   ],
   "source": [
    "x"
   ]
  },
  {
   "cell_type": "code",
   "execution_count": 62,
   "metadata": {},
   "outputs": [
    {
     "data": {
      "text/plain": [
       "tensor([[ 1.8995, -1.8042, -2.6720, -1.6643],\n",
       "        [ 1.3016, -1.6604, -0.6640, -2.2976],\n",
       "        [-1.7871, -2.6455,  0.2479,  1.1873],\n",
       "        [-0.8329, -0.6812,  0.1410, -0.8680]])"
      ]
     },
     "execution_count": 62,
     "metadata": {},
     "output_type": "execute_result"
    }
   ],
   "source": [
    "y"
   ]
  },
  {
   "cell_type": "code",
   "execution_count": 63,
   "metadata": {},
   "outputs": [],
   "source": [
    "z = torch.mm(x, y)"
   ]
  },
  {
   "cell_type": "code",
   "execution_count": 64,
   "metadata": {},
   "outputs": [
    {
     "data": {
      "text/plain": [
       "tensor([[ -1.3687, -10.9857,   0.9569,  -5.6669],\n",
       "        [-13.2409,  -9.4961,  10.2161,   6.4508],\n",
       "        [ 11.8471,   4.7342,  -9.7470,  -8.4899],\n",
       "        [  0.0321,  -4.5521,  -4.7835,  -0.6082]])"
      ]
     },
     "execution_count": 64,
     "metadata": {},
     "output_type": "execute_result"
    }
   ],
   "source": [
    "z"
   ]
  },
  {
   "cell_type": "code",
   "execution_count": null,
   "metadata": {},
   "outputs": [],
   "source": []
  },
  {
   "cell_type": "code",
   "execution_count": 65,
   "metadata": {},
   "outputs": [
    {
     "data": {
      "text/plain": [
       "tensor([[ 0.4200,  2.0541,  3.8482,  2.5524],\n",
       "        [ 1.2238,  4.2838, -4.4571, -3.2921],\n",
       "        [ 4.0647,  4.6486, -2.3308,  3.9258],\n",
       "        [-0.5736, -1.3971, -0.1930, -1.2998]])"
      ]
     },
     "execution_count": 65,
     "metadata": {},
     "output_type": "execute_result"
    }
   ],
   "source": [
    "z = Variable(torch.Tensor(4, 4).uniform_(-5, 5))\n",
    "z"
   ]
  },
  {
   "cell_type": "code",
   "execution_count": 66,
   "metadata": {},
   "outputs": [
    {
     "name": "stdout",
     "output_type": "stream",
     "text": [
      "Requires Gradient:  False\n"
     ]
    }
   ],
   "source": [
    "print('Requires Gradient: ', z.requires_grad)"
   ]
  },
  {
   "cell_type": "code",
   "execution_count": 72,
   "metadata": {},
   "outputs": [
    {
     "name": "stdout",
     "output_type": "stream",
     "text": [
      "Volatile:  False\n"
     ]
    },
    {
     "name": "stderr",
     "output_type": "stream",
     "text": [
      "D:\\Anaconda\\lib\\site-packages\\ipykernel_launcher.py:1: UserWarning: volatile was removed (Variable.volatile is always False)\n",
      "  \"\"\"Entry point for launching an IPython kernel.\n"
     ]
    }
   ],
   "source": [
    "print('Volatile: ',  (z.volatile))"
   ]
  },
  {
   "cell_type": "code",
   "execution_count": 73,
   "metadata": {},
   "outputs": [
    {
     "name": "stdout",
     "output_type": "stream",
     "text": [
      "Gradients:  None\n"
     ]
    }
   ],
   "source": [
    "print('Gradients: ', z.grad)"
   ]
  },
  {
   "cell_type": "code",
   "execution_count": 74,
   "metadata": {},
   "outputs": [
    {
     "data": {
      "text/plain": [
       "tensor([[ 0.4200,  2.0541,  3.8482,  2.5524],\n",
       "        [ 1.2238,  4.2838, -4.4571, -3.2921],\n",
       "        [ 4.0647,  4.6486, -2.3308,  3.9258],\n",
       "        [-0.5736, -1.3971, -0.1930, -1.2998]])"
      ]
     },
     "execution_count": 74,
     "metadata": {},
     "output_type": "execute_result"
    }
   ],
   "source": [
    "z.data"
   ]
  },
  {
   "cell_type": "code",
   "execution_count": null,
   "metadata": {},
   "outputs": [],
   "source": []
  },
  {
   "cell_type": "code",
   "execution_count": 76,
   "metadata": {},
   "outputs": [
    {
     "data": {
      "text/plain": [
       "tensor([[0.0220, 0.0298, 0.6245, 0.6771],\n",
       "        [0.2102, 0.6800, 0.5864, 0.2874],\n",
       "        [0.9668, 0.8840, 0.9142, 0.3369],\n",
       "        [0.5030, 0.2619, 0.9092, 0.9542]])"
      ]
     },
     "execution_count": 76,
     "metadata": {},
     "output_type": "execute_result"
    }
   ],
   "source": [
    "mat1 = torch.FloatTensor(4, 4).uniform_(0, 1)\n",
    "mat1"
   ]
  },
  {
   "cell_type": "code",
   "execution_count": 77,
   "metadata": {},
   "outputs": [],
   "source": [
    "mat2 = torch.FloatTensor(5, 4).uniform_(0, 1)"
   ]
  },
  {
   "cell_type": "code",
   "execution_count": 78,
   "metadata": {},
   "outputs": [
    {
     "data": {
      "text/plain": [
       "tensor([[0.2520, 0.6453, 0.9247, 0.5636],\n",
       "        [0.3317, 0.4235, 0.1720, 0.9896],\n",
       "        [0.2494, 0.6093, 0.0623, 0.5482],\n",
       "        [0.8529, 0.0889, 0.6774, 0.5103],\n",
       "        [0.7707, 0.2648, 0.2008, 0.2764]])"
      ]
     },
     "execution_count": 78,
     "metadata": {},
     "output_type": "execute_result"
    }
   ],
   "source": [
    "mat2"
   ]
  },
  {
   "cell_type": "code",
   "execution_count": 79,
   "metadata": {},
   "outputs": [
    {
     "data": {
      "text/plain": [
       "tensor([[10.0220, 10.0298, 10.6245, 10.6771],\n",
       "        [10.2102, 10.6800, 10.5864, 10.2874],\n",
       "        [10.9668, 10.8840, 10.9142, 10.3369],\n",
       "        [10.5030, 10.2619, 10.9092, 10.9542]])"
      ]
     },
     "execution_count": 79,
     "metadata": {},
     "output_type": "execute_result"
    }
   ],
   "source": [
    "mat1 + 10."
   ]
  },
  {
   "cell_type": "code",
   "execution_count": 80,
   "metadata": {},
   "outputs": [
    {
     "data": {
      "text/plain": [
       "tensor([[-0.7480, -0.3547, -0.0753, -0.4364],\n",
       "        [-0.6683, -0.5765, -0.8280, -0.0104],\n",
       "        [-0.7506, -0.3907, -0.9377, -0.4518],\n",
       "        [-0.1471, -0.9111, -0.3226, -0.4897],\n",
       "        [-0.2293, -0.7352, -0.7992, -0.7236]])"
      ]
     },
     "execution_count": 80,
     "metadata": {},
     "output_type": "execute_result"
    }
   ],
   "source": [
    "mat2 - 1"
   ]
  },
  {
   "cell_type": "code",
   "execution_count": 81,
   "metadata": {},
   "outputs": [],
   "source": [
    "vec1 = torch.FloatTensor(4).uniform_(0, 1)"
   ]
  },
  {
   "cell_type": "code",
   "execution_count": 82,
   "metadata": {},
   "outputs": [
    {
     "data": {
      "text/plain": [
       "tensor([0.4273, 0.9212, 0.4693, 0.1331])"
      ]
     },
     "execution_count": 82,
     "metadata": {},
     "output_type": "execute_result"
    }
   ],
   "source": [
    "vec1"
   ]
  },
  {
   "cell_type": "code",
   "execution_count": 83,
   "metadata": {},
   "outputs": [
    {
     "data": {
      "text/plain": [
       "tensor([[0.0220, 0.0298, 0.6245, 0.6771],\n",
       "        [0.2102, 0.6800, 0.5864, 0.2874],\n",
       "        [0.9668, 0.8840, 0.9142, 0.3369],\n",
       "        [0.5030, 0.2619, 0.9092, 0.9542]])"
      ]
     },
     "execution_count": 83,
     "metadata": {},
     "output_type": "execute_result"
    }
   ],
   "source": [
    "mat1"
   ]
  },
  {
   "cell_type": "code",
   "execution_count": 84,
   "metadata": {},
   "outputs": [
    {
     "data": {
      "text/plain": [
       "tensor([[0.4493, 0.9510, 1.0938, 0.8102],\n",
       "        [0.6375, 1.6012, 1.0557, 0.4205],\n",
       "        [1.3941, 1.8052, 1.3835, 0.4700],\n",
       "        [0.9303, 1.1831, 1.3785, 1.0873]])"
      ]
     },
     "execution_count": 84,
     "metadata": {},
     "output_type": "execute_result"
    }
   ],
   "source": [
    "mat1 + vec1"
   ]
  },
  {
   "cell_type": "code",
   "execution_count": 86,
   "metadata": {},
   "outputs": [
    {
     "data": {
      "text/plain": [
       "tensor([[4.8245e-04, 8.8623e-04, 3.8997e-01, 4.5851e-01],\n",
       "        [4.4191e-02, 4.6240e-01, 3.4385e-01, 8.2593e-02],\n",
       "        [9.3473e-01, 7.8147e-01, 8.3575e-01, 1.1353e-01],\n",
       "        [2.5298e-01, 6.8598e-02, 8.2665e-01, 9.1052e-01]])"
      ]
     },
     "execution_count": 86,
     "metadata": {},
     "output_type": "execute_result"
    }
   ],
   "source": [
    "mat1 * mat1"
   ]
  },
  {
   "cell_type": "code",
   "execution_count": 95,
   "metadata": {},
   "outputs": [],
   "source": [
    "mat2_t = mat2.t()"
   ]
  },
  {
   "cell_type": "code",
   "execution_count": 96,
   "metadata": {},
   "outputs": [
    {
     "data": {
      "text/plain": [
       "tensor([[0.2520, 0.3317, 0.2494, 0.8529, 0.7707],\n",
       "        [0.6453, 0.4235, 0.6093, 0.0889, 0.2648],\n",
       "        [0.9247, 0.1720, 0.0623, 0.6774, 0.2008],\n",
       "        [0.5636, 0.9896, 0.5482, 0.5103, 0.2764]])"
      ]
     },
     "execution_count": 96,
     "metadata": {},
     "output_type": "execute_result"
    }
   ],
   "source": [
    "mat2_t"
   ]
  },
  {
   "cell_type": "code",
   "execution_count": 99,
   "metadata": {},
   "outputs": [
    {
     "data": {
      "text/plain": [
       "tensor([[0.9838, 0.7974, 0.4337, 0.7900, 0.3373],\n",
       "        [1.1960, 0.7430, 0.6608, 0.7837, 0.5392],\n",
       "        [1.8494, 1.1858, 1.0214, 1.6945, 1.2559],\n",
       "        [1.6744, 1.3785, 0.8647, 1.5552, 0.9033]])"
      ]
     },
     "execution_count": 99,
     "metadata": {},
     "output_type": "execute_result"
    }
   ],
   "source": [
    "torch.matmul(mat1, mat2_t)"
   ]
  },
  {
   "cell_type": "code",
   "execution_count": null,
   "metadata": {},
   "outputs": [],
   "source": []
  },
  {
   "cell_type": "code",
   "execution_count": 100,
   "metadata": {},
   "outputs": [],
   "source": [
    "from torch.distributions.bernoulli import Bernoulli"
   ]
  },
  {
   "cell_type": "code",
   "execution_count": 101,
   "metadata": {},
   "outputs": [],
   "source": [
    "dist = Bernoulli(torch.tensor([0.3, 0.6, 0.9]))"
   ]
  },
  {
   "cell_type": "code",
   "execution_count": 102,
   "metadata": {},
   "outputs": [
    {
     "data": {
      "text/plain": [
       "Bernoulli(probs: torch.Size([3]))"
      ]
     },
     "execution_count": 102,
     "metadata": {},
     "output_type": "execute_result"
    }
   ],
   "source": [
    "dist"
   ]
  },
  {
   "cell_type": "code",
   "execution_count": 103,
   "metadata": {},
   "outputs": [
    {
     "data": {
      "text/plain": [
       "tensor([1., 1., 1.])"
      ]
     },
     "execution_count": 103,
     "metadata": {},
     "output_type": "execute_result"
    }
   ],
   "source": [
    "dist.sample()"
   ]
  },
  {
   "cell_type": "code",
   "execution_count": null,
   "metadata": {},
   "outputs": [],
   "source": []
  },
  {
   "cell_type": "code",
   "execution_count": 104,
   "metadata": {},
   "outputs": [],
   "source": [
    "from torch.distributions.beta import Beta"
   ]
  },
  {
   "cell_type": "code",
   "execution_count": 105,
   "metadata": {},
   "outputs": [],
   "source": [
    "dist = Beta(torch.tensor([0.5]), torch.tensor([0.5]))"
   ]
  },
  {
   "cell_type": "code",
   "execution_count": 106,
   "metadata": {},
   "outputs": [
    {
     "data": {
      "text/plain": [
       "Beta()"
      ]
     },
     "execution_count": 106,
     "metadata": {},
     "output_type": "execute_result"
    }
   ],
   "source": [
    "dist"
   ]
  },
  {
   "cell_type": "code",
   "execution_count": 107,
   "metadata": {},
   "outputs": [
    {
     "data": {
      "text/plain": [
       "tensor([0.1756])"
      ]
     },
     "execution_count": 107,
     "metadata": {},
     "output_type": "execute_result"
    }
   ],
   "source": [
    "dist.sample()"
   ]
  },
  {
   "cell_type": "code",
   "execution_count": null,
   "metadata": {},
   "outputs": [],
   "source": []
  },
  {
   "cell_type": "code",
   "execution_count": 108,
   "metadata": {},
   "outputs": [],
   "source": [
    "from torch.distributions.binomial import Binomial"
   ]
  },
  {
   "cell_type": "code",
   "execution_count": 109,
   "metadata": {},
   "outputs": [],
   "source": [
    "dist = Binomial(100, torch.tensor([0, .2, .8, 1]))"
   ]
  },
  {
   "cell_type": "code",
   "execution_count": 110,
   "metadata": {},
   "outputs": [
    {
     "data": {
      "text/plain": [
       "Binomial(total_count: torch.Size([4]), probs: torch.Size([4]), logits: torch.Size([4]))"
      ]
     },
     "execution_count": 110,
     "metadata": {},
     "output_type": "execute_result"
    }
   ],
   "source": [
    "dist"
   ]
  },
  {
   "cell_type": "code",
   "execution_count": 111,
   "metadata": {},
   "outputs": [
    {
     "data": {
      "text/plain": [
       "tensor([  0.,  25.,  83., 100.])"
      ]
     },
     "execution_count": 111,
     "metadata": {},
     "output_type": "execute_result"
    }
   ],
   "source": [
    "dist.sample()"
   ]
  },
  {
   "cell_type": "code",
   "execution_count": null,
   "metadata": {},
   "outputs": [],
   "source": []
  },
  {
   "cell_type": "code",
   "execution_count": 112,
   "metadata": {},
   "outputs": [],
   "source": [
    "from torch.distributions.categorical import Categorical"
   ]
  },
  {
   "cell_type": "code",
   "execution_count": 113,
   "metadata": {},
   "outputs": [],
   "source": [
    "dist = Categorical(torch.tensor([0.2, .2, .2, .2, .2]))"
   ]
  },
  {
   "cell_type": "code",
   "execution_count": 114,
   "metadata": {},
   "outputs": [
    {
     "data": {
      "text/plain": [
       "Categorical(probs: torch.Size([5]))"
      ]
     },
     "execution_count": 114,
     "metadata": {},
     "output_type": "execute_result"
    }
   ],
   "source": [
    "dist"
   ]
  },
  {
   "cell_type": "code",
   "execution_count": 118,
   "metadata": {},
   "outputs": [
    {
     "data": {
      "text/plain": [
       "tensor(4)"
      ]
     },
     "execution_count": 118,
     "metadata": {},
     "output_type": "execute_result"
    }
   ],
   "source": [
    "dist.sample()"
   ]
  },
  {
   "cell_type": "code",
   "execution_count": null,
   "metadata": {},
   "outputs": [],
   "source": []
  },
  {
   "cell_type": "code",
   "execution_count": 120,
   "metadata": {},
   "outputs": [],
   "source": [
    "from torch.distributions.laplace import Laplace"
   ]
  },
  {
   "cell_type": "code",
   "execution_count": 122,
   "metadata": {},
   "outputs": [],
   "source": [
    "dist = Laplace(torch.tensor([10.0]), torch.tensor([0.99]))"
   ]
  },
  {
   "cell_type": "code",
   "execution_count": 123,
   "metadata": {},
   "outputs": [
    {
     "data": {
      "text/plain": [
       "Laplace(loc: tensor([10.]), scale: tensor([0.9900]))"
      ]
     },
     "execution_count": 123,
     "metadata": {},
     "output_type": "execute_result"
    }
   ],
   "source": [
    "dist"
   ]
  },
  {
   "cell_type": "code",
   "execution_count": 124,
   "metadata": {},
   "outputs": [
    {
     "data": {
      "text/plain": [
       "tensor([11.4690])"
      ]
     },
     "execution_count": 124,
     "metadata": {},
     "output_type": "execute_result"
    }
   ],
   "source": [
    "dist.sample()"
   ]
  },
  {
   "cell_type": "code",
   "execution_count": null,
   "metadata": {},
   "outputs": [],
   "source": []
  },
  {
   "cell_type": "code",
   "execution_count": 125,
   "metadata": {},
   "outputs": [],
   "source": [
    "from torch.distributions.normal import Normal"
   ]
  },
  {
   "cell_type": "code",
   "execution_count": 138,
   "metadata": {},
   "outputs": [],
   "source": [
    "dist = Normal(torch.tensor([0.0]), torch.tensor([1.]))"
   ]
  },
  {
   "cell_type": "code",
   "execution_count": 139,
   "metadata": {},
   "outputs": [
    {
     "data": {
      "text/plain": [
       "Normal(loc: tensor([0.]), scale: tensor([1.]))"
      ]
     },
     "execution_count": 139,
     "metadata": {},
     "output_type": "execute_result"
    }
   ],
   "source": [
    "dist"
   ]
  },
  {
   "cell_type": "code",
   "execution_count": 140,
   "metadata": {},
   "outputs": [
    {
     "data": {
      "text/plain": [
       "tensor([-1.6848])"
      ]
     },
     "execution_count": 140,
     "metadata": {},
     "output_type": "execute_result"
    }
   ],
   "source": [
    "dist.sample()"
   ]
  }
 ],
 "metadata": {
  "kernelspec": {
   "display_name": "Python 3",
   "language": "python",
   "name": "python3"
  },
  "language_info": {
   "codemirror_mode": {
    "name": "ipython",
    "version": 3
   },
   "file_extension": ".py",
   "mimetype": "text/x-python",
   "name": "python",
   "nbconvert_exporter": "python",
   "pygments_lexer": "ipython3",
   "version": "3.7.1"
  }
 },
 "nbformat": 4,
 "nbformat_minor": 4
}
