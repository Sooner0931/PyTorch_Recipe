{
  "nbformat": 4,
  "nbformat_minor": 0,
  "metadata": {
    "kernelspec": {
      "display_name": "Python 3",
      "language": "python",
      "name": "python3"
    },
    "language_info": {
      "codemirror_mode": {
        "name": "ipython",
        "version": 3
      },
      "file_extension": ".py",
      "mimetype": "text/x-python",
      "name": "python",
      "nbconvert_exporter": "python",
      "pygments_lexer": "ipython3",
      "version": "3.7.6"
    },
    "colab": {
      "name": "2_tensor_arithmetic_functions.ipynb",
      "provenance": [],
      "collapsed_sections": []
    },
    "accelerator": "GPU"
  },
  "cells": [
    {
      "cell_type": "code",
      "metadata": {
        "id": "5r7Q8P4BtoME",
        "colab_type": "code",
        "colab": {
          "base_uri": "https://localhost:8080/",
          "height": 302
        },
        "outputId": "1c04a2b7-a84b-44e9-e52b-ca50b5cbf4da"
      },
      "source": [
        "!nvidia-smi"
      ],
      "execution_count": 1,
      "outputs": [
        {
          "output_type": "stream",
          "text": [
            "Mon May  4 03:25:15 2020       \n",
            "+-----------------------------------------------------------------------------+\n",
            "| NVIDIA-SMI 440.64.00    Driver Version: 418.67       CUDA Version: 10.1     |\n",
            "|-------------------------------+----------------------+----------------------+\n",
            "| GPU  Name        Persistence-M| Bus-Id        Disp.A | Volatile Uncorr. ECC |\n",
            "| Fan  Temp  Perf  Pwr:Usage/Cap|         Memory-Usage | GPU-Util  Compute M. |\n",
            "|===============================+======================+======================|\n",
            "|   0  Tesla T4            Off  | 00000000:00:04.0 Off |                    0 |\n",
            "| N/A   62C    P8    11W /  70W |      0MiB / 15079MiB |      0%      Default |\n",
            "+-------------------------------+----------------------+----------------------+\n",
            "                                                                               \n",
            "+-----------------------------------------------------------------------------+\n",
            "| Processes:                                                       GPU Memory |\n",
            "|  GPU       PID   Type   Process name                             Usage      |\n",
            "|=============================================================================|\n",
            "|  No running processes found                                                 |\n",
            "+-----------------------------------------------------------------------------+\n"
          ],
          "name": "stdout"
        }
      ]
    },
    {
      "cell_type": "code",
      "metadata": {
        "id": "Q5sVVBTAttsz",
        "colab_type": "code",
        "colab": {
          "base_uri": "https://localhost:8080/",
          "height": 34
        },
        "outputId": "9fe6feb5-93d5-4c5c-b450-784e36df1a35"
      },
      "source": [
        "import pynvml\n",
        "pynvml.nvmlInit()\n",
        "handle = pynvml.nvmlDeviceGetHandleByIndex(0)\n",
        "device_name = pynvml.nvmlDeviceGetName(handle)\n",
        "if (device_name != b'Tesla T4') and (device_name != b'Tesla P100-PCIE-16GB'):\n",
        "  raise Exception(\"\"\"\n",
        "    Unfortunately this instance does not have a T4 or P100 GPU.\n",
        "    \n",
        "    Please make sure you've configured Colab to request a GPU instance type.\n",
        "    \n",
        "    Sometimes Colab allocates a Tesla K80 instead of a T4 or P100. Resetting the instance.\n",
        "If you get a K80 GPU, try Runtime -> Reset all runtimes...\n",
        "  \"\"\")\n",
        "else:\n",
        "  print(f'Yes, you got the right kind of GPU to work and it is a {device_name}.')"
      ],
      "execution_count": 2,
      "outputs": [
        {
          "output_type": "stream",
          "text": [
            "Yes, you got the right kind of GPU to work and it is a b'Tesla T4'.\n"
          ],
          "name": "stdout"
        }
      ]
    },
    {
      "cell_type": "code",
      "metadata": {
        "id": "CeGOmOjVtoL7",
        "colab_type": "code",
        "colab": {}
      },
      "source": [
        "import numpy as np\n",
        "import pandas as pd\n",
        "import torch"
      ],
      "execution_count": 0,
      "outputs": []
    },
    {
      "cell_type": "code",
      "metadata": {
        "id": "c7JDr3ZjtoML",
        "colab_type": "code",
        "colab": {
          "base_uri": "https://localhost:8080/",
          "height": 34
        },
        "outputId": "0bdee8a9-7c3c-4470-ba00-a74132473fa4"
      },
      "source": [
        "torch.version.__version__"
      ],
      "execution_count": 4,
      "outputs": [
        {
          "output_type": "execute_result",
          "data": {
            "text/plain": [
              "'1.5.0+cu101'"
            ]
          },
          "metadata": {
            "tags": []
          },
          "execution_count": 4
        }
      ]
    },
    {
      "cell_type": "code",
      "metadata": {
        "id": "iuWDcba_t64O",
        "colab_type": "code",
        "colab": {}
      },
      "source": [
        ""
      ],
      "execution_count": 0,
      "outputs": []
    },
    {
      "cell_type": "code",
      "metadata": {
        "id": "r58HWjCCt67O",
        "colab_type": "code",
        "colab": {}
      },
      "source": [
        ""
      ],
      "execution_count": 0,
      "outputs": []
    },
    {
      "cell_type": "code",
      "metadata": {
        "id": "DvUdGv1zt6--",
        "colab_type": "code",
        "colab": {}
      },
      "source": [
        ""
      ],
      "execution_count": 0,
      "outputs": []
    },
    {
      "cell_type": "code",
      "metadata": {
        "id": "VeaURWd7toMR",
        "colab_type": "code",
        "colab": {}
      },
      "source": [
        "x = torch.randn(4, 5)"
      ],
      "execution_count": 0,
      "outputs": []
    },
    {
      "cell_type": "code",
      "metadata": {
        "id": "HKJsrsa3toMa",
        "colab_type": "code",
        "colab": {
          "base_uri": "https://localhost:8080/",
          "height": 84
        },
        "outputId": "3cf2fcc4-4723-4e6c-f1fe-39da158f6264"
      },
      "source": [
        "x"
      ],
      "execution_count": 6,
      "outputs": [
        {
          "output_type": "execute_result",
          "data": {
            "text/plain": [
              "tensor([[ 0.7333, -1.9445,  1.6637,  1.3122, -0.9568],\n",
              "        [ 0.5442, -0.9390,  0.4283,  0.1025, -0.5409],\n",
              "        [ 0.2499,  1.2315,  1.2553, -0.5111,  1.9191],\n",
              "        [-0.0226,  2.3526,  0.8215, -0.2813, -1.9022]])"
            ]
          },
          "metadata": {
            "tags": []
          },
          "execution_count": 6
        }
      ]
    },
    {
      "cell_type": "code",
      "metadata": {
        "id": "AG0kghTrtoMn",
        "colab_type": "code",
        "colab": {}
      },
      "source": [
        ""
      ],
      "execution_count": 0,
      "outputs": []
    },
    {
      "cell_type": "code",
      "metadata": {
        "id": "bX6awIontoMz",
        "colab_type": "code",
        "colab": {
          "base_uri": "https://localhost:8080/",
          "height": 84
        },
        "outputId": "28a4d501-cc3c-4b79-ae0d-b4ddd2eb9e62"
      },
      "source": [
        "torch.add(x, 20)"
      ],
      "execution_count": 7,
      "outputs": [
        {
          "output_type": "execute_result",
          "data": {
            "text/plain": [
              "tensor([[20.7333, 18.0555, 21.6637, 21.3122, 19.0432],\n",
              "        [20.5442, 19.0610, 20.4283, 20.1025, 19.4591],\n",
              "        [20.2499, 21.2315, 21.2553, 19.4889, 21.9191],\n",
              "        [19.9774, 22.3526, 20.8215, 19.7187, 18.0978]])"
            ]
          },
          "metadata": {
            "tags": []
          },
          "execution_count": 7
        }
      ]
    },
    {
      "cell_type": "code",
      "metadata": {
        "id": "vAlZVvQ0toM_",
        "colab_type": "code",
        "colab": {
          "base_uri": "https://localhost:8080/",
          "height": 84
        },
        "outputId": "b7fd9fe0-76a9-48f1-fe50-fe6a637e09e9"
      },
      "source": [
        "torch.mul(x, 10000)"
      ],
      "execution_count": 8,
      "outputs": [
        {
          "output_type": "execute_result",
          "data": {
            "text/plain": [
              "tensor([[  7332.8047, -19445.1367,  16637.4121,  13122.4033,  -9568.3232],\n",
              "        [  5441.8496,  -9389.5781,   4282.9966,   1025.0168,  -5408.7109],\n",
              "        [  2499.3215,  12315.3154,  12552.8896,  -5110.5708,  19190.8809],\n",
              "        [  -225.8898,  23525.5547,   8214.9824,  -2812.8047, -19021.8516]])"
            ]
          },
          "metadata": {
            "tags": []
          },
          "execution_count": 8
        }
      ]
    },
    {
      "cell_type": "code",
      "metadata": {
        "id": "t5CPMXUJtoNG",
        "colab_type": "code",
        "colab": {}
      },
      "source": [
        ""
      ],
      "execution_count": 0,
      "outputs": []
    },
    {
      "cell_type": "code",
      "metadata": {
        "id": "eOffmN7GtoNM",
        "colab_type": "code",
        "colab": {}
      },
      "source": [
        "intercept = torch.randn(1)"
      ],
      "execution_count": 0,
      "outputs": []
    },
    {
      "cell_type": "code",
      "metadata": {
        "id": "6h8XvReAtoNR",
        "colab_type": "code",
        "colab": {
          "base_uri": "https://localhost:8080/",
          "height": 34
        },
        "outputId": "d66fcab5-5667-4e09-c8db-36bb23394d26"
      },
      "source": [
        "intercept"
      ],
      "execution_count": 10,
      "outputs": [
        {
          "output_type": "execute_result",
          "data": {
            "text/plain": [
              "tensor([-2.0309])"
            ]
          },
          "metadata": {
            "tags": []
          },
          "execution_count": 10
        }
      ]
    },
    {
      "cell_type": "code",
      "metadata": {
        "id": "oZllwdjUtoNZ",
        "colab_type": "code",
        "colab": {}
      },
      "source": [
        "x = torch.randn(2,2)"
      ],
      "execution_count": 0,
      "outputs": []
    },
    {
      "cell_type": "code",
      "metadata": {
        "id": "VomzqPhptoNf",
        "colab_type": "code",
        "colab": {
          "base_uri": "https://localhost:8080/",
          "height": 50
        },
        "outputId": "d361c5be-0fa7-44d7-dc9c-c3fae406d201"
      },
      "source": [
        "x"
      ],
      "execution_count": 12,
      "outputs": [
        {
          "output_type": "execute_result",
          "data": {
            "text/plain": [
              "tensor([[ 1.8680, -0.0176],\n",
              "        [-0.4133,  0.9870]])"
            ]
          },
          "metadata": {
            "tags": []
          },
          "execution_count": 12
        }
      ]
    },
    {
      "cell_type": "code",
      "metadata": {
        "id": "st_or8OItoNj",
        "colab_type": "code",
        "colab": {}
      },
      "source": [
        "beta = torch.tensor([0.789, 1.32])"
      ],
      "execution_count": 0,
      "outputs": []
    },
    {
      "cell_type": "code",
      "metadata": {
        "id": "PRAGzJU4toNn",
        "colab_type": "code",
        "colab": {
          "base_uri": "https://localhost:8080/",
          "height": 34
        },
        "outputId": "2cc81db3-7ad7-4b1f-91d7-38dc3b072649"
      },
      "source": [
        "beta"
      ],
      "execution_count": 14,
      "outputs": [
        {
          "output_type": "execute_result",
          "data": {
            "text/plain": [
              "tensor([0.7890, 1.3200])"
            ]
          },
          "metadata": {
            "tags": []
          },
          "execution_count": 14
        }
      ]
    },
    {
      "cell_type": "code",
      "metadata": {
        "id": "uQEJ4X9JtoNq",
        "colab_type": "code",
        "colab": {
          "base_uri": "https://localhost:8080/",
          "height": 50
        },
        "outputId": "82805e60-0535-4b76-df45-5bdd6bdecca6"
      },
      "source": [
        "torch.mul(x, beta)"
      ],
      "execution_count": 15,
      "outputs": [
        {
          "output_type": "execute_result",
          "data": {
            "text/plain": [
              "tensor([[ 1.4738, -0.0232],\n",
              "        [-0.3261,  1.3029]])"
            ]
          },
          "metadata": {
            "tags": []
          },
          "execution_count": 15
        }
      ]
    },
    {
      "cell_type": "code",
      "metadata": {
        "id": "3Mq_eSt0toNt",
        "colab_type": "code",
        "colab": {
          "base_uri": "https://localhost:8080/",
          "height": 50
        },
        "outputId": "d9d331a7-d075-4728-b7af-3d0417fb7398"
      },
      "source": [
        "torch.add(intercept, torch.mul(x, beta))"
      ],
      "execution_count": 16,
      "outputs": [
        {
          "output_type": "execute_result",
          "data": {
            "text/plain": [
              "tensor([[-0.5571, -2.0541],\n",
              "        [-2.3570, -0.7280]])"
            ]
          },
          "metadata": {
            "tags": []
          },
          "execution_count": 16
        }
      ]
    },
    {
      "cell_type": "code",
      "metadata": {
        "id": "lTtP-YwLtoNv",
        "colab_type": "code",
        "colab": {
          "base_uri": "https://localhost:8080/",
          "height": 34
        },
        "outputId": "1fca6d69-24a4-440f-eb95-ee4975e44a38"
      },
      "source": [
        "- 2.0309 + 1.4738"
      ],
      "execution_count": 18,
      "outputs": [
        {
          "output_type": "execute_result",
          "data": {
            "text/plain": [
              "-0.5570999999999999"
            ]
          },
          "metadata": {
            "tags": []
          },
          "execution_count": 18
        }
      ]
    },
    {
      "cell_type": "code",
      "metadata": {
        "id": "C_G0S1SPtoNy",
        "colab_type": "code",
        "colab": {}
      },
      "source": [
        ""
      ],
      "execution_count": 0,
      "outputs": []
    },
    {
      "cell_type": "code",
      "metadata": {
        "id": "JmfDSttOtoN0",
        "colab_type": "code",
        "colab": {
          "base_uri": "https://localhost:8080/",
          "height": 101
        },
        "outputId": "ada55f45-78fb-4d3e-fafb-dd1a82d4a9c1"
      },
      "source": [
        "torch.manual_seed(1234)\n",
        "torch.randn(5, 5)"
      ],
      "execution_count": 19,
      "outputs": [
        {
          "output_type": "execute_result",
          "data": {
            "text/plain": [
              "tensor([[-0.1117, -0.4966,  0.1631, -0.8817,  0.0539],\n",
              "        [ 0.6684, -0.0597, -0.4675, -0.2153, -0.7141],\n",
              "        [-1.0831, -0.5547,  0.9717, -0.5150,  1.4255],\n",
              "        [ 0.7987, -1.4949,  1.4778, -0.1696, -0.9919],\n",
              "        [-1.4569,  0.2563, -0.4030,  0.4195,  0.9380]])"
            ]
          },
          "metadata": {
            "tags": []
          },
          "execution_count": 19
        }
      ]
    },
    {
      "cell_type": "code",
      "metadata": {
        "id": "MBhu2wlWtoN2",
        "colab_type": "code",
        "colab": {
          "base_uri": "https://localhost:8080/",
          "height": 101
        },
        "outputId": "ebede49d-ad89-42d6-86a3-92bf118ff732"
      },
      "source": [
        "torch.manual_seed(1234)\n",
        "torch.ceil(torch.randn(5, 5))"
      ],
      "execution_count": 20,
      "outputs": [
        {
          "output_type": "execute_result",
          "data": {
            "text/plain": [
              "tensor([[-0., -0.,  1., -0.,  1.],\n",
              "        [ 1., -0., -0., -0., -0.],\n",
              "        [-1., -0.,  1., -0.,  2.],\n",
              "        [ 1., -1.,  2., -0., -0.],\n",
              "        [-1.,  1., -0.,  1.,  1.]])"
            ]
          },
          "metadata": {
            "tags": []
          },
          "execution_count": 20
        }
      ]
    },
    {
      "cell_type": "code",
      "metadata": {
        "id": "s0vEnhVEtoN4",
        "colab_type": "code",
        "colab": {
          "base_uri": "https://localhost:8080/",
          "height": 101
        },
        "outputId": "c8546476-bab0-414d-92e6-5a8428307e3a"
      },
      "source": [
        "torch.manual_seed(1234)\n",
        "torch.floor(torch.randn(5, 5))"
      ],
      "execution_count": 21,
      "outputs": [
        {
          "output_type": "execute_result",
          "data": {
            "text/plain": [
              "tensor([[-1., -1.,  0., -1.,  0.],\n",
              "        [ 0., -1., -1., -1., -1.],\n",
              "        [-2., -1.,  0., -1.,  1.],\n",
              "        [ 0., -2.,  1., -1., -1.],\n",
              "        [-2.,  0., -1.,  0.,  0.]])"
            ]
          },
          "metadata": {
            "tags": []
          },
          "execution_count": 21
        }
      ]
    },
    {
      "cell_type": "code",
      "metadata": {
        "id": "0zAc7_5FtoN6",
        "colab_type": "code",
        "colab": {}
      },
      "source": [
        ""
      ],
      "execution_count": 0,
      "outputs": []
    },
    {
      "cell_type": "code",
      "metadata": {
        "id": "vb0ikzUptoN8",
        "colab_type": "code",
        "colab": {
          "base_uri": "https://localhost:8080/",
          "height": 101
        },
        "outputId": "c1296f6e-7352-454e-99be-b8cfff4e5395"
      },
      "source": [
        "torch.manual_seed(1234)\n",
        "torch.randn(5, 5)"
      ],
      "execution_count": 22,
      "outputs": [
        {
          "output_type": "execute_result",
          "data": {
            "text/plain": [
              "tensor([[-0.1117, -0.4966,  0.1631, -0.8817,  0.0539],\n",
              "        [ 0.6684, -0.0597, -0.4675, -0.2153, -0.7141],\n",
              "        [-1.0831, -0.5547,  0.9717, -0.5150,  1.4255],\n",
              "        [ 0.7987, -1.4949,  1.4778, -0.1696, -0.9919],\n",
              "        [-1.4569,  0.2563, -0.4030,  0.4195,  0.9380]])"
            ]
          },
          "metadata": {
            "tags": []
          },
          "execution_count": 22
        }
      ]
    },
    {
      "cell_type": "code",
      "metadata": {
        "id": "Lj7qmBr7toN-",
        "colab_type": "code",
        "colab": {
          "base_uri": "https://localhost:8080/",
          "height": 101
        },
        "outputId": "791a49e7-2bac-4cd1-fb75-731db575b819"
      },
      "source": [
        "torch.manual_seed(1234)\n",
        "torch.floor(torch.randn(5, 5))"
      ],
      "execution_count": 23,
      "outputs": [
        {
          "output_type": "execute_result",
          "data": {
            "text/plain": [
              "tensor([[-1., -1.,  0., -1.,  0.],\n",
              "        [ 0., -1., -1., -1., -1.],\n",
              "        [-2., -1.,  0., -1.,  1.],\n",
              "        [ 0., -2.,  1., -1., -1.],\n",
              "        [-2.,  0., -1.,  0.,  0.]])"
            ]
          },
          "metadata": {
            "tags": []
          },
          "execution_count": 23
        }
      ]
    },
    {
      "cell_type": "code",
      "metadata": {
        "id": "gz1HtHoPtoN_",
        "colab_type": "code",
        "colab": {
          "base_uri": "https://localhost:8080/",
          "height": 101
        },
        "outputId": "84c9265d-2a04-44ec-e8cd-bf6af02c0841"
      },
      "source": [
        "torch.manual_seed(1234)\n",
        "torch.clamp(torch.floor(torch.randn(5, 5)), min = -0.3, max = 0.4)"
      ],
      "execution_count": 24,
      "outputs": [
        {
          "output_type": "execute_result",
          "data": {
            "text/plain": [
              "tensor([[-0.3000, -0.3000,  0.0000, -0.3000,  0.0000],\n",
              "        [ 0.0000, -0.3000, -0.3000, -0.3000, -0.3000],\n",
              "        [-0.3000, -0.3000,  0.0000, -0.3000,  0.4000],\n",
              "        [ 0.0000, -0.3000,  0.4000, -0.3000, -0.3000],\n",
              "        [-0.3000,  0.0000, -0.3000,  0.0000,  0.0000]])"
            ]
          },
          "metadata": {
            "tags": []
          },
          "execution_count": 24
        }
      ]
    },
    {
      "cell_type": "markdown",
      "metadata": {
        "id": "VT58rt-7uQu7",
        "colab_type": "text"
      },
      "source": [
        "Limiting the values of any tensor within a certain range can be done using the minimum and maximum argument and using the clamp function above"
      ]
    },
    {
      "cell_type": "code",
      "metadata": {
        "id": "NT9eD21qtoOD",
        "colab_type": "code",
        "colab": {
          "base_uri": "https://localhost:8080/",
          "height": 101
        },
        "outputId": "f671fb79-67d5-43dd-8d8a-14d82d0b187a"
      },
      "source": [
        "torch.manual_seed(1234)                                         # truncate with only lower limit\n",
        "torch.clamp(torch.floor(torch.randn(5, 5)), min = -0.3)"
      ],
      "execution_count": 25,
      "outputs": [
        {
          "output_type": "execute_result",
          "data": {
            "text/plain": [
              "tensor([[-0.3000, -0.3000,  0.0000, -0.3000,  0.0000],\n",
              "        [ 0.0000, -0.3000, -0.3000, -0.3000, -0.3000],\n",
              "        [-0.3000, -0.3000,  0.0000, -0.3000,  1.0000],\n",
              "        [ 0.0000, -0.3000,  1.0000, -0.3000, -0.3000],\n",
              "        [-0.3000,  0.0000, -0.3000,  0.0000,  0.0000]])"
            ]
          },
          "metadata": {
            "tags": []
          },
          "execution_count": 25
        }
      ]
    },
    {
      "cell_type": "code",
      "metadata": {
        "id": "kNBk9iO7toOF",
        "colab_type": "code",
        "colab": {
          "base_uri": "https://localhost:8080/",
          "height": 101
        },
        "outputId": "3f73973f-4460-4603-d3b5-008ed4f85ae4"
      },
      "source": [
        "torch.manual_seed(1234)\n",
        "torch.clamp(torch.floor(torch.randn(5, 5)), max = 0.4)"
      ],
      "execution_count": 26,
      "outputs": [
        {
          "output_type": "execute_result",
          "data": {
            "text/plain": [
              "tensor([[-1.0000, -1.0000,  0.0000, -1.0000,  0.0000],\n",
              "        [ 0.0000, -1.0000, -1.0000, -1.0000, -1.0000],\n",
              "        [-2.0000, -1.0000,  0.0000, -1.0000,  0.4000],\n",
              "        [ 0.0000, -2.0000,  0.4000, -1.0000, -1.0000],\n",
              "        [-2.0000,  0.0000, -1.0000,  0.0000,  0.0000]])"
            ]
          },
          "metadata": {
            "tags": []
          },
          "execution_count": 26
        }
      ]
    },
    {
      "cell_type": "code",
      "metadata": {
        "id": "7naeKB-3toOH",
        "colab_type": "code",
        "colab": {}
      },
      "source": [
        ""
      ],
      "execution_count": 0,
      "outputs": []
    },
    {
      "cell_type": "code",
      "metadata": {
        "id": "ROfio34xtoOK",
        "colab_type": "code",
        "colab": {
          "base_uri": "https://localhost:8080/",
          "height": 50
        },
        "outputId": "6be82100-d0f7-4537-d241-9c8364fc2ca8"
      },
      "source": [
        "x"
      ],
      "execution_count": 27,
      "outputs": [
        {
          "output_type": "execute_result",
          "data": {
            "text/plain": [
              "tensor([[ 1.8680, -0.0176],\n",
              "        [-0.4133,  0.9870]])"
            ]
          },
          "metadata": {
            "tags": []
          },
          "execution_count": 27
        }
      ]
    },
    {
      "cell_type": "code",
      "metadata": {
        "id": "xeyQFEBltoOM",
        "colab_type": "code",
        "colab": {
          "base_uri": "https://localhost:8080/",
          "height": 84
        },
        "outputId": "126e6cb0-671e-4092-846e-a62687044cd0"
      },
      "source": [
        "%%time\n",
        "torch.exp(x)"
      ],
      "execution_count": 40,
      "outputs": [
        {
          "output_type": "stream",
          "text": [
            "CPU times: user 260 µs, sys: 0 ns, total: 260 µs\n",
            "Wall time: 166 µs\n"
          ],
          "name": "stdout"
        },
        {
          "output_type": "execute_result",
          "data": {
            "text/plain": [
              "tensor([[6.4750, 0.9825],\n",
              "        [0.6614, 2.6832]])"
            ]
          },
          "metadata": {
            "tags": []
          },
          "execution_count": 40
        }
      ]
    },
    {
      "cell_type": "code",
      "metadata": {
        "id": "ljR8y3kzufTX",
        "colab_type": "code",
        "colab": {
          "base_uri": "https://localhost:8080/",
          "height": 50
        },
        "outputId": "fc5a5f6e-a85c-4144-e982-e1de992e7bf9"
      },
      "source": [
        "x_arr = np.array([[1.8680, -0.0176], \n",
        "                  [-0.4133,  0.9870]])\n",
        "x_arr"
      ],
      "execution_count": 41,
      "outputs": [
        {
          "output_type": "execute_result",
          "data": {
            "text/plain": [
              "array([[ 1.868 , -0.0176],\n",
              "       [-0.4133,  0.987 ]])"
            ]
          },
          "metadata": {
            "tags": []
          },
          "execution_count": 41
        }
      ]
    },
    {
      "cell_type": "code",
      "metadata": {
        "id": "5UBiMsTQtoOO",
        "colab_type": "code",
        "colab": {
          "base_uri": "https://localhost:8080/",
          "height": 84
        },
        "outputId": "bf26c1df-e095-49cf-f438-c8bc63a05466"
      },
      "source": [
        "%%time\n",
        "np.exp(x_arr)"
      ],
      "execution_count": 42,
      "outputs": [
        {
          "output_type": "stream",
          "text": [
            "CPU times: user 18 µs, sys: 4 µs, total: 22 µs\n",
            "Wall time: 22.6 µs\n"
          ],
          "name": "stdout"
        },
        {
          "output_type": "execute_result",
          "data": {
            "text/plain": [
              "array([[6.47533277, 0.98255398],\n",
              "       [0.66146381, 2.68317287]])"
            ]
          },
          "metadata": {
            "tags": []
          },
          "execution_count": 42
        }
      ]
    },
    {
      "cell_type": "code",
      "metadata": {
        "id": "G-xjoaCltoOQ",
        "colab_type": "code",
        "colab": {}
      },
      "source": [
        ""
      ],
      "execution_count": 0,
      "outputs": []
    },
    {
      "cell_type": "code",
      "metadata": {
        "id": "YgmubFIFtoOS",
        "colab_type": "code",
        "colab": {
          "base_uri": "https://localhost:8080/",
          "height": 50
        },
        "outputId": "b9f29430-747a-42bc-e073-0fb1a507a184"
      },
      "source": [
        "torch.add(x, 10)"
      ],
      "execution_count": 43,
      "outputs": [
        {
          "output_type": "execute_result",
          "data": {
            "text/plain": [
              "tensor([[11.8680,  9.9824],\n",
              "        [ 9.5867, 10.9870]])"
            ]
          },
          "metadata": {
            "tags": []
          },
          "execution_count": 43
        }
      ]
    },
    {
      "cell_type": "code",
      "metadata": {
        "id": "DE70JIhjtoOT",
        "colab_type": "code",
        "colab": {
          "base_uri": "https://localhost:8080/",
          "height": 50
        },
        "outputId": "47850d6e-4b32-43b7-efbd-06c5a4f95b55"
      },
      "source": [
        "torch.frac(torch.add(x, 10))"
      ],
      "execution_count": 44,
      "outputs": [
        {
          "output_type": "execute_result",
          "data": {
            "text/plain": [
              "tensor([[0.8680, 0.9824],\n",
              "        [0.5867, 0.9870]])"
            ]
          },
          "metadata": {
            "tags": []
          },
          "execution_count": 44
        }
      ]
    },
    {
      "cell_type": "code",
      "metadata": {
        "id": "QZiTc7OmtoOV",
        "colab_type": "code",
        "colab": {
          "base_uri": "https://localhost:8080/",
          "height": 50
        },
        "outputId": "9893f571-68da-4591-f81c-c08678e2ef50"
      },
      "source": [
        "x"
      ],
      "execution_count": 45,
      "outputs": [
        {
          "output_type": "execute_result",
          "data": {
            "text/plain": [
              "tensor([[ 1.8680, -0.0176],\n",
              "        [-0.4133,  0.9870]])"
            ]
          },
          "metadata": {
            "tags": []
          },
          "execution_count": 45
        }
      ]
    },
    {
      "cell_type": "code",
      "metadata": {
        "id": "aJMsGJaPtoOY",
        "colab_type": "code",
        "colab": {}
      },
      "source": [
        ""
      ],
      "execution_count": 0,
      "outputs": []
    },
    {
      "cell_type": "code",
      "metadata": {
        "id": "SkIJ7iJEtoOd",
        "colab_type": "code",
        "colab": {
          "base_uri": "https://localhost:8080/",
          "height": 50
        },
        "outputId": "b388fa2d-5393-43e3-939b-806cf4d411c9"
      },
      "source": [
        "torch.log(x)"
      ],
      "execution_count": 47,
      "outputs": [
        {
          "output_type": "execute_result",
          "data": {
            "text/plain": [
              "tensor([[ 0.6248,     nan],\n",
              "        [    nan, -0.0131]])"
            ]
          },
          "metadata": {
            "tags": []
          },
          "execution_count": 47
        }
      ]
    },
    {
      "cell_type": "code",
      "metadata": {
        "id": "yzU8ZdMVtoOg",
        "colab_type": "code",
        "colab": {}
      },
      "source": [
        ""
      ],
      "execution_count": 0,
      "outputs": []
    },
    {
      "cell_type": "code",
      "metadata": {
        "id": "MB0ViAaEtoOi",
        "colab_type": "code",
        "colab": {
          "base_uri": "https://localhost:8080/",
          "height": 50
        },
        "outputId": "b260e768-8ff7-4ccb-d607-67774eb60e56"
      },
      "source": [
        "torch.pow(x, 2)                                   #    power is different from np and Pythonic syntax"
      ],
      "execution_count": 48,
      "outputs": [
        {
          "output_type": "execute_result",
          "data": {
            "text/plain": [
              "tensor([[3.4893e+00, 3.0992e-04],\n",
              "        [1.7086e-01, 9.7420e-01]])"
            ]
          },
          "metadata": {
            "tags": []
          },
          "execution_count": 48
        }
      ]
    },
    {
      "cell_type": "code",
      "metadata": {
        "id": "f8N3VABAtoOk",
        "colab_type": "code",
        "colab": {
          "base_uri": "https://localhost:8080/",
          "height": 50
        },
        "outputId": "5942346d-5456-4858-fa73-d36ae386153d"
      },
      "source": [
        "torch.pow(x, 3)"
      ],
      "execution_count": 49,
      "outputs": [
        {
          "output_type": "execute_result",
          "data": {
            "text/plain": [
              "tensor([[ 6.5178e+00, -5.4561e-06],\n",
              "        [-7.0624e-02,  9.6155e-01]])"
            ]
          },
          "metadata": {
            "tags": []
          },
          "execution_count": 49
        }
      ]
    },
    {
      "cell_type": "code",
      "metadata": {
        "id": "V9A_QDU8toOm",
        "colab_type": "code",
        "colab": {}
      },
      "source": [
        ""
      ],
      "execution_count": 0,
      "outputs": []
    },
    {
      "cell_type": "code",
      "metadata": {
        "id": "15HItehdtoOp",
        "colab_type": "code",
        "colab": {
          "base_uri": "https://localhost:8080/",
          "height": 50
        },
        "outputId": "2e859ed0-9016-4876-a897-1070fb9ff0a2"
      },
      "source": [
        "x"
      ],
      "execution_count": 50,
      "outputs": [
        {
          "output_type": "execute_result",
          "data": {
            "text/plain": [
              "tensor([[ 1.8680, -0.0176],\n",
              "        [-0.4133,  0.9870]])"
            ]
          },
          "metadata": {
            "tags": []
          },
          "execution_count": 50
        }
      ]
    },
    {
      "cell_type": "code",
      "metadata": {
        "id": "ye9P94VstoOq",
        "colab_type": "code",
        "colab": {
          "base_uri": "https://localhost:8080/",
          "height": 50
        },
        "outputId": "8fd1bb62-a63a-4504-faf8-f58d007340a5"
      },
      "source": [
        "torch.sigmoid(x)"
      ],
      "execution_count": 51,
      "outputs": [
        {
          "output_type": "execute_result",
          "data": {
            "text/plain": [
              "tensor([[0.8662, 0.4956],\n",
              "        [0.3981, 0.7285]])"
            ]
          },
          "metadata": {
            "tags": []
          },
          "execution_count": 51
        }
      ]
    },
    {
      "cell_type": "code",
      "metadata": {
        "id": "Npyo2N_UtoOt",
        "colab_type": "code",
        "colab": {}
      },
      "source": [
        ""
      ],
      "execution_count": 0,
      "outputs": []
    },
    {
      "cell_type": "code",
      "metadata": {
        "id": "cIt0yhJytoOx",
        "colab_type": "code",
        "colab": {
          "base_uri": "https://localhost:8080/",
          "height": 50
        },
        "outputId": "98205122-b6f1-4039-8193-de2e046c7248"
      },
      "source": [
        "torch.sqrt(x)"
      ],
      "execution_count": 53,
      "outputs": [
        {
          "output_type": "execute_result",
          "data": {
            "text/plain": [
              "tensor([[1.3667,    nan],\n",
              "        [   nan, 0.9935]])"
            ]
          },
          "metadata": {
            "tags": []
          },
          "execution_count": 53
        }
      ]
    }
  ]
}