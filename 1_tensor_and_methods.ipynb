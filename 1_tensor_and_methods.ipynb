{
  "nbformat": 4,
  "nbformat_minor": 0,
  "metadata": {
    "kernelspec": {
      "display_name": "Python 3",
      "language": "python",
      "name": "python3"
    },
    "language_info": {
      "codemirror_mode": {
        "name": "ipython",
        "version": 3
      },
      "file_extension": ".py",
      "mimetype": "text/x-python",
      "name": "python",
      "nbconvert_exporter": "python",
      "pygments_lexer": "ipython3",
      "version": "3.7.6"
    },
    "colab": {
      "name": "1_tensor_and_methods.ipynb",
      "provenance": [],
      "collapsed_sections": []
    },
    "accelerator": "GPU"
  },
  "cells": [
    {
      "cell_type": "code",
      "metadata": {
        "id": "Z185_paJrVLk",
        "colab_type": "code",
        "colab": {
          "base_uri": "https://localhost:8080/",
          "height": 302
        },
        "outputId": "ff9153dc-b980-40a1-9af6-96b3b5a3cdf4"
      },
      "source": [
        "!nvidia-smi"
      ],
      "execution_count": 1,
      "outputs": [
        {
          "output_type": "stream",
          "text": [
            "Mon May  4 03:18:16 2020       \n",
            "+-----------------------------------------------------------------------------+\n",
            "| NVIDIA-SMI 440.64.00    Driver Version: 418.67       CUDA Version: 10.1     |\n",
            "|-------------------------------+----------------------+----------------------+\n",
            "| GPU  Name        Persistence-M| Bus-Id        Disp.A | Volatile Uncorr. ECC |\n",
            "| Fan  Temp  Perf  Pwr:Usage/Cap|         Memory-Usage | GPU-Util  Compute M. |\n",
            "|===============================+======================+======================|\n",
            "|   0  Tesla P100-PCIE...  Off  | 00000000:00:04.0 Off |                    0 |\n",
            "| N/A   36C    P0    27W / 250W |      0MiB / 16280MiB |      0%      Default |\n",
            "+-------------------------------+----------------------+----------------------+\n",
            "                                                                               \n",
            "+-----------------------------------------------------------------------------+\n",
            "| Processes:                                                       GPU Memory |\n",
            "|  GPU       PID   Type   Process name                             Usage      |\n",
            "|=============================================================================|\n",
            "|  No running processes found                                                 |\n",
            "+-----------------------------------------------------------------------------+\n"
          ],
          "name": "stdout"
        }
      ]
    },
    {
      "cell_type": "code",
      "metadata": {
        "id": "RQB8TReOrynb",
        "colab_type": "code",
        "colab": {
          "base_uri": "https://localhost:8080/",
          "height": 34
        },
        "outputId": "f8353b89-fd93-4e06-9935-c3133b459a4b"
      },
      "source": [
        "import pynvml\n",
        "pynvml.nvmlInit()\n",
        "handle = pynvml.nvmlDeviceGetHandleByIndex(0)\n",
        "device_name = pynvml.nvmlDeviceGetName(handle)\n",
        "if (device_name != b'Tesla T4') and (device_name != b'Tesla P100-PCIE-16GB'):\n",
        "  raise Exception(\"\"\"\n",
        "    Unfortunately this instance does not have a T4 or P100 GPU.\n",
        "    \n",
        "    Please make sure you've configured Colab to request a GPU instance type.\n",
        "    \n",
        "    Sometimes Colab allocates a Tesla K80 instead of a T4 or P100. Resetting the instance.\n",
        "If you get a K80 GPU, try Runtime -> Reset all runtimes...\n",
        "  \"\"\")\n",
        "else:\n",
        "  print(f'Yes, you got the right kind of GPU to work and it is a {device_name}.')"
      ],
      "execution_count": 2,
      "outputs": [
        {
          "output_type": "stream",
          "text": [
            "Yes, you got the right kind of GPU to work and it is a b'Tesla P100-PCIE-16GB'.\n"
          ],
          "name": "stdout"
        }
      ]
    },
    {
      "cell_type": "code",
      "metadata": {
        "id": "djGFor4SqiuQ",
        "colab_type": "code",
        "colab": {}
      },
      "source": [
        "import numpy as np\n",
        "import pandas as pd\n",
        "import torch"
      ],
      "execution_count": 0,
      "outputs": []
    },
    {
      "cell_type": "code",
      "metadata": {
        "id": "zbZbEsVkqiur",
        "colab_type": "code",
        "colab": {
          "base_uri": "https://localhost:8080/",
          "height": 34
        },
        "outputId": "965e1a5a-223c-4b90-d3fa-dc79d1064727"
      },
      "source": [
        "torch.version.__version__"
      ],
      "execution_count": 4,
      "outputs": [
        {
          "output_type": "execute_result",
          "data": {
            "text/plain": [
              "'1.5.0+cu101'"
            ]
          },
          "metadata": {
            "tags": []
          },
          "execution_count": 4
        }
      ]
    },
    {
      "cell_type": "code",
      "metadata": {
        "id": "gj5H4sdPsH_a",
        "colab_type": "code",
        "colab": {}
      },
      "source": [
        ""
      ],
      "execution_count": 0,
      "outputs": []
    },
    {
      "cell_type": "code",
      "metadata": {
        "id": "uD0f0CN0sIDr",
        "colab_type": "code",
        "colab": {}
      },
      "source": [
        ""
      ],
      "execution_count": 0,
      "outputs": []
    },
    {
      "cell_type": "code",
      "metadata": {
        "id": "Nb3gxt7BsIIk",
        "colab_type": "code",
        "colab": {}
      },
      "source": [
        ""
      ],
      "execution_count": 0,
      "outputs": []
    },
    {
      "cell_type": "code",
      "metadata": {
        "id": "15dU0T2pqiu_",
        "colab_type": "code",
        "colab": {}
      },
      "source": [
        "x = [12, 23, 34, 45, 56, 67, 78, 89]"
      ],
      "execution_count": 0,
      "outputs": []
    },
    {
      "cell_type": "code",
      "metadata": {
        "id": "otrnhVeFqivL",
        "colab_type": "code",
        "colab": {
          "base_uri": "https://localhost:8080/",
          "height": 34
        },
        "outputId": "ea53bccb-c91a-4cbb-ccc3-b33c32bb02a5"
      },
      "source": [
        "torch.is_tensor(x)"
      ],
      "execution_count": 6,
      "outputs": [
        {
          "output_type": "execute_result",
          "data": {
            "text/plain": [
              "False"
            ]
          },
          "metadata": {
            "tags": []
          },
          "execution_count": 6
        }
      ]
    },
    {
      "cell_type": "code",
      "metadata": {
        "id": "H92qSAgRqivT",
        "colab_type": "code",
        "colab": {
          "base_uri": "https://localhost:8080/",
          "height": 34
        },
        "outputId": "f9e2f2fe-137d-4ef5-c193-a75acf5e148e"
      },
      "source": [
        "torch.is_storage(x)"
      ],
      "execution_count": 7,
      "outputs": [
        {
          "output_type": "execute_result",
          "data": {
            "text/plain": [
              "False"
            ]
          },
          "metadata": {
            "tags": []
          },
          "execution_count": 7
        }
      ]
    },
    {
      "cell_type": "code",
      "metadata": {
        "id": "LcKWjTfWqivb",
        "colab_type": "code",
        "colab": {}
      },
      "source": [
        ""
      ],
      "execution_count": 0,
      "outputs": []
    },
    {
      "cell_type": "code",
      "metadata": {
        "id": "qg8TKODJqivg",
        "colab_type": "code",
        "colab": {}
      },
      "source": [
        "y = torch.randn(1,2,3,4,5)"
      ],
      "execution_count": 0,
      "outputs": []
    },
    {
      "cell_type": "code",
      "metadata": {
        "id": "zU0VcT0gqivm",
        "colab_type": "code",
        "colab": {
          "base_uri": "https://localhost:8080/",
          "height": 521
        },
        "outputId": "4434bef3-9e8f-4d4f-adb8-33c6c961e970"
      },
      "source": [
        "y"
      ],
      "execution_count": 9,
      "outputs": [
        {
          "output_type": "execute_result",
          "data": {
            "text/plain": [
              "tensor([[[[[ 0.3697, -1.5643, -0.7758,  0.3289, -0.2209],\n",
              "           [ 0.5812,  1.6100,  0.8334,  0.0770, -1.1966],\n",
              "           [-0.2313,  0.6644, -1.3470,  0.3931, -0.3722],\n",
              "           [ 0.7781, -1.8909, -0.7722, -0.9175, -0.6323]],\n",
              "\n",
              "          [[-0.6123, -0.9740, -0.1306, -0.2481, -1.0783],\n",
              "           [ 2.0292,  1.0100,  1.1673, -2.3516, -0.7911],\n",
              "           [ 0.0341,  0.3652, -0.8468, -0.3294,  0.6155],\n",
              "           [-1.1752, -0.5011,  0.8020,  0.7978, -0.8876]],\n",
              "\n",
              "          [[-1.0044, -1.2512, -2.3797,  1.1417, -0.8353],\n",
              "           [-0.8262,  1.1203, -0.2834,  1.3640,  0.6255],\n",
              "           [ 0.7191, -0.4728, -0.2336, -0.3742,  0.0595],\n",
              "           [ 0.9170,  1.5297, -0.4484, -0.5167, -0.1459]]],\n",
              "\n",
              "\n",
              "         [[[-1.6440,  1.8098, -1.4197, -1.5965, -2.6422],\n",
              "           [ 0.2586,  0.8746, -0.8601, -1.5066,  1.0861],\n",
              "           [ 0.1445, -0.2876, -1.3217, -0.9823,  0.5318],\n",
              "           [ 0.4597,  1.7254, -0.2936, -2.4518,  0.1589]],\n",
              "\n",
              "          [[ 0.1582,  0.0968,  0.6431,  0.5626, -0.0094],\n",
              "           [-0.5034, -0.3247, -1.2256, -1.2913, -0.1712],\n",
              "           [ 2.1998,  0.0036,  0.8162,  0.7560, -0.8826],\n",
              "           [-1.5003, -0.7148, -0.1188, -0.5940,  0.4426]],\n",
              "\n",
              "          [[ 0.5666,  0.7854,  0.6497,  0.1260, -0.1498],\n",
              "           [-1.9578, -0.2224, -0.5081,  0.0183,  0.0614],\n",
              "           [ 0.4133,  0.2055, -0.7370,  1.0938,  0.8749],\n",
              "           [ 0.0813, -0.8111, -0.5650, -1.6792,  1.8698]]]]])"
            ]
          },
          "metadata": {
            "tags": []
          },
          "execution_count": 9
        }
      ]
    },
    {
      "cell_type": "code",
      "metadata": {
        "id": "Xl1vuXRuqivt",
        "colab_type": "code",
        "colab": {
          "base_uri": "https://localhost:8080/",
          "height": 34
        },
        "outputId": "15318985-dced-4e10-b55c-acd98addde80"
      },
      "source": [
        "torch.is_tensor(y)"
      ],
      "execution_count": 10,
      "outputs": [
        {
          "output_type": "execute_result",
          "data": {
            "text/plain": [
              "True"
            ]
          },
          "metadata": {
            "tags": []
          },
          "execution_count": 10
        }
      ]
    },
    {
      "cell_type": "code",
      "metadata": {
        "id": "BBI_5BD7qivz",
        "colab_type": "code",
        "colab": {
          "base_uri": "https://localhost:8080/",
          "height": 34
        },
        "outputId": "170c4acf-f50e-4446-91a9-9ffc8dc251c5"
      },
      "source": [
        "torch.is_storage(y)"
      ],
      "execution_count": 11,
      "outputs": [
        {
          "output_type": "execute_result",
          "data": {
            "text/plain": [
              "False"
            ]
          },
          "metadata": {
            "tags": []
          },
          "execution_count": 11
        }
      ]
    },
    {
      "cell_type": "code",
      "metadata": {
        "id": "68pQ3Idgqiv9",
        "colab_type": "code",
        "colab": {
          "base_uri": "https://localhost:8080/",
          "height": 34
        },
        "outputId": "bf7fd4e2-a225-4456-9f16-01d0ff171d4d"
      },
      "source": [
        "torch.numel(y)                                #      number of all elements in the tensor input "
      ],
      "execution_count": 12,
      "outputs": [
        {
          "output_type": "execute_result",
          "data": {
            "text/plain": [
              "120"
            ]
          },
          "metadata": {
            "tags": []
          },
          "execution_count": 12
        }
      ]
    },
    {
      "cell_type": "code",
      "metadata": {
        "id": "8Ss3BMydqiwD",
        "colab_type": "code",
        "colab": {}
      },
      "source": [
        ""
      ],
      "execution_count": 0,
      "outputs": []
    },
    {
      "cell_type": "code",
      "metadata": {
        "id": "YP3QWyniqiwH",
        "colab_type": "code",
        "colab": {
          "base_uri": "https://localhost:8080/",
          "height": 84
        },
        "outputId": "9edaffa4-f744-4c1d-d749-d07ef525dcc7"
      },
      "source": [
        "torch.zeros(4,4)"
      ],
      "execution_count": 13,
      "outputs": [
        {
          "output_type": "execute_result",
          "data": {
            "text/plain": [
              "tensor([[0., 0., 0., 0.],\n",
              "        [0., 0., 0., 0.],\n",
              "        [0., 0., 0., 0.],\n",
              "        [0., 0., 0., 0.]])"
            ]
          },
          "metadata": {
            "tags": []
          },
          "execution_count": 13
        }
      ]
    },
    {
      "cell_type": "code",
      "metadata": {
        "id": "k_oTyPlHqiwL",
        "colab_type": "code",
        "colab": {
          "base_uri": "https://localhost:8080/",
          "height": 34
        },
        "outputId": "152e892f-cb5e-4b6a-a403-aa84f7b5efb1"
      },
      "source": [
        "torch.numel(torch.zeros(4,4))"
      ],
      "execution_count": 14,
      "outputs": [
        {
          "output_type": "execute_result",
          "data": {
            "text/plain": [
              "16"
            ]
          },
          "metadata": {
            "tags": []
          },
          "execution_count": 14
        }
      ]
    },
    {
      "cell_type": "code",
      "metadata": {
        "id": "SjqsaOOFqiwO",
        "colab_type": "code",
        "colab": {
          "base_uri": "https://localhost:8080/",
          "height": 34
        },
        "outputId": "57c42aa9-91dd-45c8-f9b1-981c5498eb79"
      },
      "source": [
        "torch.zeros(4,4).shape"
      ],
      "execution_count": 15,
      "outputs": [
        {
          "output_type": "execute_result",
          "data": {
            "text/plain": [
              "torch.Size([4, 4])"
            ]
          },
          "metadata": {
            "tags": []
          },
          "execution_count": 15
        }
      ]
    },
    {
      "cell_type": "code",
      "metadata": {
        "id": "0o6_3OQnqiwR",
        "colab_type": "code",
        "colab": {}
      },
      "source": [
        ""
      ],
      "execution_count": 0,
      "outputs": []
    },
    {
      "cell_type": "code",
      "metadata": {
        "id": "wEiWe4ADqiwV",
        "colab_type": "code",
        "colab": {
          "base_uri": "https://localhost:8080/",
          "height": 84
        },
        "outputId": "b4efd141-a0d4-4be5-9361-61935dacd4bd"
      },
      "source": [
        "torch.eye(4)"
      ],
      "execution_count": 16,
      "outputs": [
        {
          "output_type": "execute_result",
          "data": {
            "text/plain": [
              "tensor([[1., 0., 0., 0.],\n",
              "        [0., 1., 0., 0.],\n",
              "        [0., 0., 1., 0.],\n",
              "        [0., 0., 0., 1.]])"
            ]
          },
          "metadata": {
            "tags": []
          },
          "execution_count": 16
        }
      ]
    },
    {
      "cell_type": "code",
      "metadata": {
        "id": "UDMq54FfqiwX",
        "colab_type": "code",
        "colab": {
          "base_uri": "https://localhost:8080/",
          "height": 84
        },
        "outputId": "cc245f30-ec04-497d-da27-ff51012e2aa1"
      },
      "source": [
        "torch.eye(4,3)"
      ],
      "execution_count": 17,
      "outputs": [
        {
          "output_type": "execute_result",
          "data": {
            "text/plain": [
              "tensor([[1., 0., 0.],\n",
              "        [0., 1., 0.],\n",
              "        [0., 0., 1.],\n",
              "        [0., 0., 0.]])"
            ]
          },
          "metadata": {
            "tags": []
          },
          "execution_count": 17
        }
      ]
    },
    {
      "cell_type": "code",
      "metadata": {
        "id": "-WPzgmHyqiwa",
        "colab_type": "code",
        "colab": {
          "base_uri": "https://localhost:8080/",
          "height": 67
        },
        "outputId": "9ccfac52-6b16-49bc-800a-c0d80633c592"
      },
      "source": [
        "torch.eye(3,4)"
      ],
      "execution_count": 18,
      "outputs": [
        {
          "output_type": "execute_result",
          "data": {
            "text/plain": [
              "tensor([[1., 0., 0., 0.],\n",
              "        [0., 1., 0., 0.],\n",
              "        [0., 0., 1., 0.]])"
            ]
          },
          "metadata": {
            "tags": []
          },
          "execution_count": 18
        }
      ]
    },
    {
      "cell_type": "code",
      "metadata": {
        "id": "OOj2zVfbqiwc",
        "colab_type": "code",
        "colab": {}
      },
      "source": [
        ""
      ],
      "execution_count": 0,
      "outputs": []
    },
    {
      "cell_type": "code",
      "metadata": {
        "id": "WmoIOHbBqiwe",
        "colab_type": "code",
        "colab": {
          "base_uri": "https://localhost:8080/",
          "height": 34
        },
        "outputId": "1945d852-3642-4c38-9837-84c078a3c4b3"
      },
      "source": [
        "x"
      ],
      "execution_count": 19,
      "outputs": [
        {
          "output_type": "execute_result",
          "data": {
            "text/plain": [
              "[12, 23, 34, 45, 56, 67, 78, 89]"
            ]
          },
          "metadata": {
            "tags": []
          },
          "execution_count": 19
        }
      ]
    },
    {
      "cell_type": "code",
      "metadata": {
        "id": "EMMBt-pOqiwg",
        "colab_type": "code",
        "colab": {}
      },
      "source": [
        "x1 = np.array(x)"
      ],
      "execution_count": 0,
      "outputs": []
    },
    {
      "cell_type": "code",
      "metadata": {
        "id": "ROKT1t4Fqiwi",
        "colab_type": "code",
        "colab": {
          "base_uri": "https://localhost:8080/",
          "height": 34
        },
        "outputId": "1fb9ad33-dca5-4ed1-93c6-f5721cc5169f"
      },
      "source": [
        "x1"
      ],
      "execution_count": 21,
      "outputs": [
        {
          "output_type": "execute_result",
          "data": {
            "text/plain": [
              "array([12, 23, 34, 45, 56, 67, 78, 89])"
            ]
          },
          "metadata": {
            "tags": []
          },
          "execution_count": 21
        }
      ]
    },
    {
      "cell_type": "code",
      "metadata": {
        "id": "NcbkyZGjqiwl",
        "colab_type": "code",
        "colab": {
          "base_uri": "https://localhost:8080/",
          "height": 34
        },
        "outputId": "50cb649c-877e-4102-c762-4134e4c111aa"
      },
      "source": [
        "torch.from_numpy(x1)"
      ],
      "execution_count": 22,
      "outputs": [
        {
          "output_type": "execute_result",
          "data": {
            "text/plain": [
              "tensor([12, 23, 34, 45, 56, 67, 78, 89])"
            ]
          },
          "metadata": {
            "tags": []
          },
          "execution_count": 22
        }
      ]
    },
    {
      "cell_type": "code",
      "metadata": {
        "id": "Mqa-gx1Bqiwo",
        "colab_type": "code",
        "colab": {}
      },
      "source": [
        ""
      ],
      "execution_count": 0,
      "outputs": []
    },
    {
      "cell_type": "code",
      "metadata": {
        "id": "auy38tj6qiwr",
        "colab_type": "code",
        "colab": {
          "base_uri": "https://localhost:8080/",
          "height": 84
        },
        "outputId": "e5ffa6cb-1167-4d7a-8c73-0b838ef261f5"
      },
      "source": [
        "torch.linspace(2, 10, 25)"
      ],
      "execution_count": 30,
      "outputs": [
        {
          "output_type": "execute_result",
          "data": {
            "text/plain": [
              "tensor([ 2.0000,  2.3333,  2.6667,  3.0000,  3.3333,  3.6667,  4.0000,  4.3333,\n",
              "         4.6667,  5.0000,  5.3333,  5.6667,  6.0000,  6.3333,  6.6667,  7.0000,\n",
              "         7.3333,  7.6667,  8.0000,  8.3333,  8.6667,  9.0000,  9.3333,  9.6667,\n",
              "        10.0000])"
            ]
          },
          "metadata": {
            "tags": []
          },
          "execution_count": 30
        }
      ]
    },
    {
      "cell_type": "code",
      "metadata": {
        "id": "KGo131Hwqiwt",
        "colab_type": "code",
        "colab": {}
      },
      "source": [
        ""
      ],
      "execution_count": 0,
      "outputs": []
    },
    {
      "cell_type": "code",
      "metadata": {
        "id": "ey53zjWYqiwv",
        "colab_type": "code",
        "colab": {
          "base_uri": "https://localhost:8080/",
          "height": 67
        },
        "outputId": "0079e6d6-5113-40db-de52-258ae0e71107"
      },
      "source": [
        "torch.logspace(-10, 10, 15)"
      ],
      "execution_count": 29,
      "outputs": [
        {
          "output_type": "execute_result",
          "data": {
            "text/plain": [
              "tensor([1.0000e-10, 2.6827e-09, 7.1969e-08, 1.9307e-06, 5.1795e-05, 1.3895e-03,\n",
              "        3.7276e-02, 1.0000e+00, 2.6827e+01, 7.1969e+02, 1.9307e+04, 5.1795e+05,\n",
              "        1.3895e+07, 3.7276e+08, 1.0000e+10])"
            ]
          },
          "metadata": {
            "tags": []
          },
          "execution_count": 29
        }
      ]
    },
    {
      "cell_type": "code",
      "metadata": {
        "id": "rEf65nq1qiwy",
        "colab_type": "code",
        "colab": {}
      },
      "source": [
        ""
      ],
      "execution_count": 0,
      "outputs": []
    },
    {
      "cell_type": "code",
      "metadata": {
        "id": "hCoi2bqPqiwz",
        "colab_type": "code",
        "colab": {
          "base_uri": "https://localhost:8080/",
          "height": 50
        },
        "outputId": "3892d553-a3cf-43a7-90d6-4fd539468e87"
      },
      "source": [
        "torch.rand(10)"
      ],
      "execution_count": 26,
      "outputs": [
        {
          "output_type": "execute_result",
          "data": {
            "text/plain": [
              "tensor([0.9277, 0.2098, 0.5568, 0.5310, 0.9303, 0.3561, 0.8180, 0.3543, 0.7935,\n",
              "        0.8912])"
            ]
          },
          "metadata": {
            "tags": []
          },
          "execution_count": 26
        }
      ]
    },
    {
      "cell_type": "code",
      "metadata": {
        "id": "E2Y67HXwqiw1",
        "colab_type": "code",
        "colab": {
          "base_uri": "https://localhost:8080/",
          "height": 84
        },
        "outputId": "3e03dce2-e69b-4c25-ac9a-db0e425e23ca"
      },
      "source": [
        "torch.rand(4,5)"
      ],
      "execution_count": 25,
      "outputs": [
        {
          "output_type": "execute_result",
          "data": {
            "text/plain": [
              "tensor([[0.3741, 0.9537, 0.3732, 0.2762, 0.9783],\n",
              "        [0.4665, 0.2749, 0.8304, 0.5302, 0.8744],\n",
              "        [0.0447, 0.8161, 0.4443, 0.3613, 0.3870],\n",
              "        [0.8508, 0.5872, 0.2210, 0.6544, 0.2762]])"
            ]
          },
          "metadata": {
            "tags": []
          },
          "execution_count": 25
        }
      ]
    },
    {
      "cell_type": "code",
      "metadata": {
        "id": "wMkJ3LFtqiw4",
        "colab_type": "code",
        "colab": {
          "base_uri": "https://localhost:8080/",
          "height": 50
        },
        "outputId": "4994d448-5a37-40e3-d173-464a6267c1fc"
      },
      "source": [
        "torch.randn(10)"
      ],
      "execution_count": 24,
      "outputs": [
        {
          "output_type": "execute_result",
          "data": {
            "text/plain": [
              "tensor([ 0.8363, -0.4729,  0.9365, -0.0725,  0.3862, -0.6284,  0.7976, -0.4752,\n",
              "        -0.4415, -0.1003])"
            ]
          },
          "metadata": {
            "tags": []
          },
          "execution_count": 24
        }
      ]
    },
    {
      "cell_type": "code",
      "metadata": {
        "id": "jjdp13Bbqiw6",
        "colab_type": "code",
        "colab": {
          "base_uri": "https://localhost:8080/",
          "height": 84
        },
        "outputId": "78b869b4-b643-4fec-ff87-19594b23002c"
      },
      "source": [
        "torch.randn(4, 5)"
      ],
      "execution_count": 27,
      "outputs": [
        {
          "output_type": "execute_result",
          "data": {
            "text/plain": [
              "tensor([[-0.5513, -1.1527,  2.0239, -0.2701,  0.9900],\n",
              "        [ 1.0117, -0.0804,  0.6796,  0.5769, -0.0189],\n",
              "        [-2.3318,  1.1252,  0.7766, -1.4248, -0.3213],\n",
              "        [-1.3969,  1.2537,  0.0963, -0.3141,  0.6894]])"
            ]
          },
          "metadata": {
            "tags": []
          },
          "execution_count": 27
        }
      ]
    },
    {
      "cell_type": "code",
      "metadata": {
        "id": "Z7H6BNGEqiw8",
        "colab_type": "code",
        "colab": {
          "base_uri": "https://localhost:8080/",
          "height": 67
        },
        "outputId": "b70c32cc-d832-4eec-b497-d9c766b35859"
      },
      "source": [
        "torch.randint(1, 23, (3,2))"
      ],
      "execution_count": 23,
      "outputs": [
        {
          "output_type": "execute_result",
          "data": {
            "text/plain": [
              "tensor([[14, 18],\n",
              "        [ 7, 11],\n",
              "        [ 1, 10]])"
            ]
          },
          "metadata": {
            "tags": []
          },
          "execution_count": 23
        }
      ]
    },
    {
      "cell_type": "code",
      "metadata": {
        "id": "HGmwSQRXqiw-",
        "colab_type": "code",
        "colab": {}
      },
      "source": [
        ""
      ],
      "execution_count": 0,
      "outputs": []
    },
    {
      "cell_type": "code",
      "metadata": {
        "id": "uuCqTkAaqixA",
        "colab_type": "code",
        "colab": {
          "base_uri": "https://localhost:8080/",
          "height": 50
        },
        "outputId": "977f3f4c-2b1b-4985-ec0e-4f3e772f80ea"
      },
      "source": [
        "torch.arange(10, 40)                          # default step == 1"
      ],
      "execution_count": 31,
      "outputs": [
        {
          "output_type": "execute_result",
          "data": {
            "text/plain": [
              "tensor([10, 11, 12, 13, 14, 15, 16, 17, 18, 19, 20, 21, 22, 23, 24, 25, 26, 27,\n",
              "        28, 29, 30, 31, 32, 33, 34, 35, 36, 37, 38, 39])"
            ]
          },
          "metadata": {
            "tags": []
          },
          "execution_count": 31
        }
      ]
    },
    {
      "cell_type": "code",
      "metadata": {
        "id": "bQGWWa5UqixC",
        "colab_type": "code",
        "colab": {
          "base_uri": "https://localhost:8080/",
          "height": 34
        },
        "outputId": "b27098d4-9eec-4640-ab6a-821a7da5ac48"
      },
      "source": [
        "torch.arange(10, 40, 2)"
      ],
      "execution_count": 28,
      "outputs": [
        {
          "output_type": "execute_result",
          "data": {
            "text/plain": [
              "tensor([10, 12, 14, 16, 18, 20, 22, 24, 26, 28, 30, 32, 34, 36, 38])"
            ]
          },
          "metadata": {
            "tags": []
          },
          "execution_count": 28
        }
      ]
    },
    {
      "cell_type": "code",
      "metadata": {
        "id": "bslXkliAqixE",
        "colab_type": "code",
        "colab": {}
      },
      "source": [
        ""
      ],
      "execution_count": 0,
      "outputs": []
    },
    {
      "cell_type": "code",
      "metadata": {
        "id": "PNqJPKYQqixG",
        "colab_type": "code",
        "colab": {
          "base_uri": "https://localhost:8080/",
          "height": 34
        },
        "outputId": "b4484e03-2cbf-4904-c277-6e5f70c820bf"
      },
      "source": [
        "torch.randperm(10)                            # random permutation"
      ],
      "execution_count": 51,
      "outputs": [
        {
          "output_type": "execute_result",
          "data": {
            "text/plain": [
              "tensor([5, 2, 4, 1, 9, 3, 8, 7, 6, 0])"
            ]
          },
          "metadata": {
            "tags": []
          },
          "execution_count": 51
        }
      ]
    },
    {
      "cell_type": "code",
      "metadata": {
        "id": "SDyE0P93qixI",
        "colab_type": "code",
        "colab": {}
      },
      "source": [
        ""
      ],
      "execution_count": 0,
      "outputs": []
    },
    {
      "cell_type": "code",
      "metadata": {
        "id": "dVVsUQ60qixK",
        "colab_type": "code",
        "colab": {}
      },
      "source": [
        "t = torch.randn(4, 5)"
      ],
      "execution_count": 0,
      "outputs": []
    },
    {
      "cell_type": "code",
      "metadata": {
        "id": "OEMf3zoAqixM",
        "colab_type": "code",
        "colab": {
          "base_uri": "https://localhost:8080/",
          "height": 84
        },
        "outputId": "6071db55-301a-4a85-f835-8092a17d70d2"
      },
      "source": [
        "t"
      ],
      "execution_count": 53,
      "outputs": [
        {
          "output_type": "execute_result",
          "data": {
            "text/plain": [
              "tensor([[-1.2022,  1.1241, -1.3206,  0.6096,  0.5766],\n",
              "        [-0.2874, -0.2819,  0.2135, -0.4127,  0.5093],\n",
              "        [-0.3572, -0.0168,  0.4379,  0.1581, -0.9209],\n",
              "        [ 1.0521,  0.2325, -0.4401,  0.5678, -0.2987]])"
            ]
          },
          "metadata": {
            "tags": []
          },
          "execution_count": 53
        }
      ]
    },
    {
      "cell_type": "code",
      "metadata": {
        "id": "V5QXqfy1qixN",
        "colab_type": "code",
        "colab": {
          "base_uri": "https://localhost:8080/",
          "height": 34
        },
        "outputId": "efcfd5d2-79cd-4850-88ae-d8a9d19d9dae"
      },
      "source": [
        "t.max()"
      ],
      "execution_count": 54,
      "outputs": [
        {
          "output_type": "execute_result",
          "data": {
            "text/plain": [
              "tensor(1.1241)"
            ]
          },
          "metadata": {
            "tags": []
          },
          "execution_count": 54
        }
      ]
    },
    {
      "cell_type": "code",
      "metadata": {
        "id": "4CUjEdYQqixP",
        "colab_type": "code",
        "colab": {
          "base_uri": "https://localhost:8080/",
          "height": 34
        },
        "outputId": "438352a7-d6ad-4427-8555-68ad415db58e"
      },
      "source": [
        "torch.argmax(t)"
      ],
      "execution_count": 55,
      "outputs": [
        {
          "output_type": "execute_result",
          "data": {
            "text/plain": [
              "tensor(1)"
            ]
          },
          "metadata": {
            "tags": []
          },
          "execution_count": 55
        }
      ]
    },
    {
      "cell_type": "code",
      "metadata": {
        "id": "S1FZHZkbqixS",
        "colab_type": "code",
        "colab": {
          "base_uri": "https://localhost:8080/",
          "height": 34
        },
        "outputId": "acdfa0e5-676c-41c9-c685-8e8e3b0fe2f1"
      },
      "source": [
        "torch.argmax(t, dim = 1)                                #  this is different from NumPy syntax of using \"axis\""
      ],
      "execution_count": 56,
      "outputs": [
        {
          "output_type": "execute_result",
          "data": {
            "text/plain": [
              "tensor([1, 4, 2, 0])"
            ]
          },
          "metadata": {
            "tags": []
          },
          "execution_count": 56
        }
      ]
    },
    {
      "cell_type": "code",
      "metadata": {
        "id": "Oc6tB_rCqixU",
        "colab_type": "code",
        "colab": {
          "base_uri": "https://localhost:8080/",
          "height": 34
        },
        "outputId": "29a006d5-5797-45e6-a405-df89a2d0da75"
      },
      "source": [
        "torch.argmax(t, dim = 0)"
      ],
      "execution_count": 57,
      "outputs": [
        {
          "output_type": "execute_result",
          "data": {
            "text/plain": [
              "tensor([3, 0, 2, 0, 0])"
            ]
          },
          "metadata": {
            "tags": []
          },
          "execution_count": 57
        }
      ]
    },
    {
      "cell_type": "code",
      "metadata": {
        "id": "Mkf0erR8qixV",
        "colab_type": "code",
        "colab": {}
      },
      "source": [
        ""
      ],
      "execution_count": 0,
      "outputs": []
    },
    {
      "cell_type": "code",
      "metadata": {
        "id": "qmKcA6__qixX",
        "colab_type": "code",
        "colab": {}
      },
      "source": [
        "x = torch.rand(4,5)"
      ],
      "execution_count": 0,
      "outputs": []
    },
    {
      "cell_type": "code",
      "metadata": {
        "id": "ATxNuLH4qixZ",
        "colab_type": "code",
        "colab": {
          "base_uri": "https://localhost:8080/",
          "height": 84
        },
        "outputId": "95847fd2-f88a-4678-da1a-48f565c86200"
      },
      "source": [
        "x"
      ],
      "execution_count": 59,
      "outputs": [
        {
          "output_type": "execute_result",
          "data": {
            "text/plain": [
              "tensor([[0.4724, 0.7023, 0.4440, 0.5945, 0.8253],\n",
              "        [0.1144, 0.8499, 0.5726, 0.1545, 0.1233],\n",
              "        [0.9133, 0.9968, 0.8209, 0.3488, 0.7747],\n",
              "        [0.5881, 0.7624, 0.3675, 0.0399, 0.8569]])"
            ]
          },
          "metadata": {
            "tags": []
          },
          "execution_count": 59
        }
      ]
    },
    {
      "cell_type": "code",
      "metadata": {
        "id": "eb-9aoXFqixc",
        "colab_type": "code",
        "colab": {
          "base_uri": "https://localhost:8080/",
          "height": 34
        },
        "outputId": "c011f196-771f-4683-a4e1-fe3b9138552e"
      },
      "source": [
        "x.shape"
      ],
      "execution_count": 60,
      "outputs": [
        {
          "output_type": "execute_result",
          "data": {
            "text/plain": [
              "torch.Size([4, 5])"
            ]
          },
          "metadata": {
            "tags": []
          },
          "execution_count": 60
        }
      ]
    },
    {
      "cell_type": "code",
      "metadata": {
        "id": "wKTA3xFAqixf",
        "colab_type": "code",
        "colab": {
          "base_uri": "https://localhost:8080/",
          "height": 151
        },
        "outputId": "f01e0344-5871-4b13-baad-957f458cbc2d"
      },
      "source": [
        "torch.cat((x,x))"
      ],
      "execution_count": 61,
      "outputs": [
        {
          "output_type": "execute_result",
          "data": {
            "text/plain": [
              "tensor([[0.4724, 0.7023, 0.4440, 0.5945, 0.8253],\n",
              "        [0.1144, 0.8499, 0.5726, 0.1545, 0.1233],\n",
              "        [0.9133, 0.9968, 0.8209, 0.3488, 0.7747],\n",
              "        [0.5881, 0.7624, 0.3675, 0.0399, 0.8569],\n",
              "        [0.4724, 0.7023, 0.4440, 0.5945, 0.8253],\n",
              "        [0.1144, 0.8499, 0.5726, 0.1545, 0.1233],\n",
              "        [0.9133, 0.9968, 0.8209, 0.3488, 0.7747],\n",
              "        [0.5881, 0.7624, 0.3675, 0.0399, 0.8569]])"
            ]
          },
          "metadata": {
            "tags": []
          },
          "execution_count": 61
        }
      ]
    },
    {
      "cell_type": "code",
      "metadata": {
        "id": "09OePVeSqixi",
        "colab_type": "code",
        "colab": {
          "base_uri": "https://localhost:8080/",
          "height": 34
        },
        "outputId": "b44170b2-db35-45a8-f45c-8f03a2093936"
      },
      "source": [
        "torch.cat((x,x)).shape"
      ],
      "execution_count": 62,
      "outputs": [
        {
          "output_type": "execute_result",
          "data": {
            "text/plain": [
              "torch.Size([8, 5])"
            ]
          },
          "metadata": {
            "tags": []
          },
          "execution_count": 62
        }
      ]
    },
    {
      "cell_type": "code",
      "metadata": {
        "id": "OGwftNPiqixk",
        "colab_type": "code",
        "colab": {
          "base_uri": "https://localhost:8080/",
          "height": 218
        },
        "outputId": "f51d13ed-762c-490a-8995-0504c278ee8d"
      },
      "source": [
        "torch.cat((x,x,x))"
      ],
      "execution_count": 63,
      "outputs": [
        {
          "output_type": "execute_result",
          "data": {
            "text/plain": [
              "tensor([[0.4724, 0.7023, 0.4440, 0.5945, 0.8253],\n",
              "        [0.1144, 0.8499, 0.5726, 0.1545, 0.1233],\n",
              "        [0.9133, 0.9968, 0.8209, 0.3488, 0.7747],\n",
              "        [0.5881, 0.7624, 0.3675, 0.0399, 0.8569],\n",
              "        [0.4724, 0.7023, 0.4440, 0.5945, 0.8253],\n",
              "        [0.1144, 0.8499, 0.5726, 0.1545, 0.1233],\n",
              "        [0.9133, 0.9968, 0.8209, 0.3488, 0.7747],\n",
              "        [0.5881, 0.7624, 0.3675, 0.0399, 0.8569],\n",
              "        [0.4724, 0.7023, 0.4440, 0.5945, 0.8253],\n",
              "        [0.1144, 0.8499, 0.5726, 0.1545, 0.1233],\n",
              "        [0.9133, 0.9968, 0.8209, 0.3488, 0.7747],\n",
              "        [0.5881, 0.7624, 0.3675, 0.0399, 0.8569]])"
            ]
          },
          "metadata": {
            "tags": []
          },
          "execution_count": 63
        }
      ]
    },
    {
      "cell_type": "code",
      "metadata": {
        "id": "v1lz-L4aqixm",
        "colab_type": "code",
        "colab": {
          "base_uri": "https://localhost:8080/",
          "height": 151
        },
        "outputId": "0a09b7cf-e9e7-4ab1-9011-28e5d954e26d"
      },
      "source": [
        "torch.cat((x,x), dim = 1)                                  #  this is different from Pandas syntax of using \"pd.concat\""
      ],
      "execution_count": 64,
      "outputs": [
        {
          "output_type": "execute_result",
          "data": {
            "text/plain": [
              "tensor([[0.4724, 0.7023, 0.4440, 0.5945, 0.8253, 0.4724, 0.7023, 0.4440, 0.5945,\n",
              "         0.8253],\n",
              "        [0.1144, 0.8499, 0.5726, 0.1545, 0.1233, 0.1144, 0.8499, 0.5726, 0.1545,\n",
              "         0.1233],\n",
              "        [0.9133, 0.9968, 0.8209, 0.3488, 0.7747, 0.9133, 0.9968, 0.8209, 0.3488,\n",
              "         0.7747],\n",
              "        [0.5881, 0.7624, 0.3675, 0.0399, 0.8569, 0.5881, 0.7624, 0.3675, 0.0399,\n",
              "         0.8569]])"
            ]
          },
          "metadata": {
            "tags": []
          },
          "execution_count": 64
        }
      ]
    },
    {
      "cell_type": "code",
      "metadata": {
        "id": "07I-sTT8qixr",
        "colab_type": "code",
        "colab": {
          "base_uri": "https://localhost:8080/",
          "height": 34
        },
        "outputId": "0bb9a95d-d25e-4585-cccf-f2148948a114"
      },
      "source": [
        "torch.cat((x,x), dim = 1).shape"
      ],
      "execution_count": 65,
      "outputs": [
        {
          "output_type": "execute_result",
          "data": {
            "text/plain": [
              "torch.Size([4, 10])"
            ]
          },
          "metadata": {
            "tags": []
          },
          "execution_count": 65
        }
      ]
    },
    {
      "cell_type": "code",
      "metadata": {
        "id": "oGM6bzoXqixt",
        "colab_type": "code",
        "colab": {}
      },
      "source": [
        ""
      ],
      "execution_count": 0,
      "outputs": []
    },
    {
      "cell_type": "code",
      "metadata": {
        "id": "EKnVY0kfqixv",
        "colab_type": "code",
        "colab": {}
      },
      "source": [
        "a = torch.randn(4, 4)"
      ],
      "execution_count": 0,
      "outputs": []
    },
    {
      "cell_type": "code",
      "metadata": {
        "id": "zghsjp2Vqixy",
        "colab_type": "code",
        "colab": {
          "base_uri": "https://localhost:8080/",
          "height": 84
        },
        "outputId": "875594ec-8b50-497f-b928-8a8b4180d347"
      },
      "source": [
        "a"
      ],
      "execution_count": 67,
      "outputs": [
        {
          "output_type": "execute_result",
          "data": {
            "text/plain": [
              "tensor([[ 2.5248,  1.4341,  0.3001,  0.8017],\n",
              "        [-0.0828, -2.0754, -0.4569,  1.5441],\n",
              "        [ 0.8952,  0.2963,  1.0984,  0.2713],\n",
              "        [ 0.0280,  1.5051,  1.6794, -1.7711]])"
            ]
          },
          "metadata": {
            "tags": []
          },
          "execution_count": 67
        }
      ]
    },
    {
      "cell_type": "code",
      "metadata": {
        "id": "LcVgyop7qix1",
        "colab_type": "code",
        "colab": {
          "base_uri": "https://localhost:8080/",
          "height": 84
        },
        "outputId": "26db8e9e-5057-4b9e-e607-6805760abdd7"
      },
      "source": [
        "torch.chunk(a, 2)"
      ],
      "execution_count": 68,
      "outputs": [
        {
          "output_type": "execute_result",
          "data": {
            "text/plain": [
              "(tensor([[ 2.5248,  1.4341,  0.3001,  0.8017],\n",
              "         [-0.0828, -2.0754, -0.4569,  1.5441]]),\n",
              " tensor([[ 0.8952,  0.2963,  1.0984,  0.2713],\n",
              "         [ 0.0280,  1.5051,  1.6794, -1.7711]]))"
            ]
          },
          "metadata": {
            "tags": []
          },
          "execution_count": 68
        }
      ]
    },
    {
      "cell_type": "code",
      "metadata": {
        "id": "KSTBtsNjqix2",
        "colab_type": "code",
        "colab": {
          "base_uri": "https://localhost:8080/",
          "height": 134
        },
        "outputId": "dc8dc7bf-6dc6-41c3-a347-c31de346e59e"
      },
      "source": [
        "torch.chunk(a, 2, dim = 1)"
      ],
      "execution_count": 69,
      "outputs": [
        {
          "output_type": "execute_result",
          "data": {
            "text/plain": [
              "(tensor([[ 2.5248,  1.4341],\n",
              "         [-0.0828, -2.0754],\n",
              "         [ 0.8952,  0.2963],\n",
              "         [ 0.0280,  1.5051]]), tensor([[ 0.3001,  0.8017],\n",
              "         [-0.4569,  1.5441],\n",
              "         [ 1.0984,  0.2713],\n",
              "         [ 1.6794, -1.7711]]))"
            ]
          },
          "metadata": {
            "tags": []
          },
          "execution_count": 69
        }
      ]
    },
    {
      "cell_type": "code",
      "metadata": {
        "id": "LUjdcVsqqix3",
        "colab_type": "code",
        "colab": {}
      },
      "source": [
        ""
      ],
      "execution_count": 0,
      "outputs": []
    },
    {
      "cell_type": "code",
      "metadata": {
        "id": "47q0DhUaqix5",
        "colab_type": "code",
        "colab": {
          "base_uri": "https://localhost:8080/",
          "height": 50
        },
        "outputId": "c49cfc56-868d-46b8-aa68-1c84f0b09943"
      },
      "source": [
        "torch.tensor([[11, 12], [23, 24]])                                      # pretty tricky"
      ],
      "execution_count": 70,
      "outputs": [
        {
          "output_type": "execute_result",
          "data": {
            "text/plain": [
              "tensor([[11, 12],\n",
              "        [23, 24]])"
            ]
          },
          "metadata": {
            "tags": []
          },
          "execution_count": 70
        }
      ]
    },
    {
      "cell_type": "markdown",
      "metadata": {
        "id": "S3SJDbKgqix6",
        "colab_type": "text"
      },
      "source": [
        "**The gather function collects elements from a tensor and places it in another tensor using an index argument. The index position is determined by the LongTensor function in PyTorch.**"
      ]
    },
    {
      "cell_type": "code",
      "metadata": {
        "id": "Rlckz_l0qix6",
        "colab_type": "code",
        "colab": {}
      },
      "source": [
        "index = ['numpy.uint8', 'numpy.int16', 'numpy.int32',\n",
        "         'numpy.int', 'numpy.int64', 'numpy.float32',\n",
        "         'numpy.float', 'numpy.float64']\n",
        "\n",
        "values = ['torch.ByteTensor', 'torch.ShortTensor', 'torch.IntTensor',\n",
        "          'torch.LongTensor', 'torch.LongTensor', 'torch.FloatTensor',\n",
        "          'torch.DoubleTensor', 'torch.DoubleTensor']"
      ],
      "execution_count": 0,
      "outputs": []
    },
    {
      "cell_type": "code",
      "metadata": {
        "id": "FvvdIJ4qqix7",
        "colab_type": "code",
        "colab": {
          "base_uri": "https://localhost:8080/",
          "height": 284
        },
        "outputId": "6298b5a7-6132-497d-80dd-8d54b7f735be"
      },
      "source": [
        "NumPy_PyTorch = pd.DataFrame(values, index = index, columns = ['Tensor data type'])\n",
        "\n",
        "NumPy_PyTorch"
      ],
      "execution_count": 72,
      "outputs": [
        {
          "output_type": "execute_result",
          "data": {
            "text/html": [
              "<div>\n",
              "<style scoped>\n",
              "    .dataframe tbody tr th:only-of-type {\n",
              "        vertical-align: middle;\n",
              "    }\n",
              "\n",
              "    .dataframe tbody tr th {\n",
              "        vertical-align: top;\n",
              "    }\n",
              "\n",
              "    .dataframe thead th {\n",
              "        text-align: right;\n",
              "    }\n",
              "</style>\n",
              "<table border=\"1\" class=\"dataframe\">\n",
              "  <thead>\n",
              "    <tr style=\"text-align: right;\">\n",
              "      <th></th>\n",
              "      <th>Tensor data type</th>\n",
              "    </tr>\n",
              "  </thead>\n",
              "  <tbody>\n",
              "    <tr>\n",
              "      <th>numpy.uint8</th>\n",
              "      <td>torch.ByteTensor</td>\n",
              "    </tr>\n",
              "    <tr>\n",
              "      <th>numpy.int16</th>\n",
              "      <td>torch.ShortTensor</td>\n",
              "    </tr>\n",
              "    <tr>\n",
              "      <th>numpy.int32</th>\n",
              "      <td>torch.IntTensor</td>\n",
              "    </tr>\n",
              "    <tr>\n",
              "      <th>numpy.int</th>\n",
              "      <td>torch.LongTensor</td>\n",
              "    </tr>\n",
              "    <tr>\n",
              "      <th>numpy.int64</th>\n",
              "      <td>torch.LongTensor</td>\n",
              "    </tr>\n",
              "    <tr>\n",
              "      <th>numpy.float32</th>\n",
              "      <td>torch.FloatTensor</td>\n",
              "    </tr>\n",
              "    <tr>\n",
              "      <th>numpy.float</th>\n",
              "      <td>torch.DoubleTensor</td>\n",
              "    </tr>\n",
              "    <tr>\n",
              "      <th>numpy.float64</th>\n",
              "      <td>torch.DoubleTensor</td>\n",
              "    </tr>\n",
              "  </tbody>\n",
              "</table>\n",
              "</div>"
            ],
            "text/plain": [
              "                 Tensor data type\n",
              "numpy.uint8      torch.ByteTensor\n",
              "numpy.int16     torch.ShortTensor\n",
              "numpy.int32       torch.IntTensor\n",
              "numpy.int        torch.LongTensor\n",
              "numpy.int64      torch.LongTensor\n",
              "numpy.float32   torch.FloatTensor\n",
              "numpy.float    torch.DoubleTensor\n",
              "numpy.float64  torch.DoubleTensor"
            ]
          },
          "metadata": {
            "tags": []
          },
          "execution_count": 72
        }
      ]
    },
    {
      "cell_type": "code",
      "metadata": {
        "id": "bupZ4g0fqix9",
        "colab_type": "code",
        "colab": {
          "base_uri": "https://localhost:8080/",
          "height": 50
        },
        "outputId": "602dedca-fc07-4e8c-ca14-01d67569c420"
      },
      "source": [
        "torch.tensor([[11, 12], [23, 24]])"
      ],
      "execution_count": 73,
      "outputs": [
        {
          "output_type": "execute_result",
          "data": {
            "text/plain": [
              "tensor([[11, 12],\n",
              "        [23, 24]])"
            ]
          },
          "metadata": {
            "tags": []
          },
          "execution_count": 73
        }
      ]
    },
    {
      "cell_type": "code",
      "metadata": {
        "id": "deaxYXUqqix-",
        "colab_type": "code",
        "colab": {
          "base_uri": "https://localhost:8080/",
          "height": 50
        },
        "outputId": "0043b80f-10e5-4d80-ab70-47a02d912f3b"
      },
      "source": [
        "torch.LongTensor([[0, 0], [1, 0]])"
      ],
      "execution_count": 74,
      "outputs": [
        {
          "output_type": "execute_result",
          "data": {
            "text/plain": [
              "tensor([[0, 0],\n",
              "        [1, 0]])"
            ]
          },
          "metadata": {
            "tags": []
          },
          "execution_count": 74
        }
      ]
    },
    {
      "cell_type": "markdown",
      "metadata": {
        "id": "ZnP4ZNnftSZ0",
        "colab_type": "text"
      },
      "source": [
        "https://blog.csdn.net/edogawachia/article/details/80515038"
      ]
    },
    {
      "cell_type": "markdown",
      "metadata": {
        "id": "LZjkJqCqtWKT",
        "colab_type": "text"
      },
      "source": [
        "gather在one-hot为输出的多分类问题中，可以把最大值坐标作为index传进去，然后提取到每一行的正确预测结果，这也是gather可能的一个应用"
      ]
    },
    {
      "cell_type": "code",
      "metadata": {
        "id": "hcsCSH-mqiyA",
        "colab_type": "code",
        "colab": {
          "base_uri": "https://localhost:8080/",
          "height": 50
        },
        "outputId": "ae06d087-97e1-45ff-fded-754a512d4b49"
      },
      "source": [
        "torch.gather(torch.tensor([[11, 12], [23, 24]]), \n",
        "             1,\n",
        "             torch.LongTensor([[0, 0], [1, 0]])\n",
        "            )"
      ],
      "execution_count": 75,
      "outputs": [
        {
          "output_type": "execute_result",
          "data": {
            "text/plain": [
              "tensor([[11, 11],\n",
              "        [24, 23]])"
            ]
          },
          "metadata": {
            "tags": []
          },
          "execution_count": 75
        }
      ]
    },
    {
      "cell_type": "markdown",
      "metadata": {
        "id": "I3MkEu7KqiyC",
        "colab_type": "text"
      },
      "source": [
        "**index_select function fetch elements as somewhat gather does**"
      ]
    },
    {
      "cell_type": "code",
      "metadata": {
        "id": "jxrBGM3HqiyC",
        "colab_type": "code",
        "colab": {}
      },
      "source": [
        "a = torch.randn(4, 4) "
      ],
      "execution_count": 0,
      "outputs": []
    },
    {
      "cell_type": "code",
      "metadata": {
        "id": "0_Oe14lsqiyE",
        "colab_type": "code",
        "colab": {
          "base_uri": "https://localhost:8080/",
          "height": 84
        },
        "outputId": "fbffd886-ee3f-41c1-a91c-188bed9b0a0d"
      },
      "source": [
        "a"
      ],
      "execution_count": 77,
      "outputs": [
        {
          "output_type": "execute_result",
          "data": {
            "text/plain": [
              "tensor([[-0.7087,  2.3358, -1.3644, -0.2826],\n",
              "        [-0.1743,  0.3275, -1.1040, -0.3906],\n",
              "        [ 0.5691,  0.6367, -0.4238, -0.0608],\n",
              "        [-0.8128, -1.8839, -0.3759,  0.6366]])"
            ]
          },
          "metadata": {
            "tags": []
          },
          "execution_count": 77
        }
      ]
    },
    {
      "cell_type": "code",
      "metadata": {
        "id": "nu7aJQHPqiyF",
        "colab_type": "code",
        "colab": {}
      },
      "source": [
        "indices = torch.LongTensor([0, 2])"
      ],
      "execution_count": 0,
      "outputs": []
    },
    {
      "cell_type": "code",
      "metadata": {
        "id": "9yz-35y4qiyG",
        "colab_type": "code",
        "colab": {
          "base_uri": "https://localhost:8080/",
          "height": 50
        },
        "outputId": "8986835a-de6a-4c4f-8409-ef13e4cbea95"
      },
      "source": [
        "torch.index_select(a, 0, indices)"
      ],
      "execution_count": 79,
      "outputs": [
        {
          "output_type": "execute_result",
          "data": {
            "text/plain": [
              "tensor([[-0.7087,  2.3358, -1.3644, -0.2826],\n",
              "        [ 0.5691,  0.6367, -0.4238, -0.0608]])"
            ]
          },
          "metadata": {
            "tags": []
          },
          "execution_count": 79
        }
      ]
    },
    {
      "cell_type": "code",
      "metadata": {
        "id": "msMiaUlSqiyH",
        "colab_type": "code",
        "colab": {
          "base_uri": "https://localhost:8080/",
          "height": 84
        },
        "outputId": "c6473146-9684-4adf-a787-a8202485883d"
      },
      "source": [
        "torch.index_select(a, 1, indices)"
      ],
      "execution_count": 80,
      "outputs": [
        {
          "output_type": "execute_result",
          "data": {
            "text/plain": [
              "tensor([[-0.7087, -1.3644],\n",
              "        [-0.1743, -1.1040],\n",
              "        [ 0.5691, -0.4238],\n",
              "        [-0.8128, -0.3759]])"
            ]
          },
          "metadata": {
            "tags": []
          },
          "execution_count": 80
        }
      ]
    },
    {
      "cell_type": "code",
      "metadata": {
        "id": "MOeAXirhqiyI",
        "colab_type": "code",
        "colab": {
          "base_uri": "https://localhost:8080/",
          "height": 84
        },
        "outputId": "cde56cfa-054d-486f-ed5a-a2447c0fc5c0"
      },
      "source": [
        "a[:, [0, 2]]"
      ],
      "execution_count": 81,
      "outputs": [
        {
          "output_type": "execute_result",
          "data": {
            "text/plain": [
              "tensor([[-0.7087, -1.3644],\n",
              "        [-0.1743, -1.1040],\n",
              "        [ 0.5691, -0.4238],\n",
              "        [-0.8128, -0.3759]])"
            ]
          },
          "metadata": {
            "tags": []
          },
          "execution_count": 81
        }
      ]
    },
    {
      "cell_type": "code",
      "metadata": {
        "id": "EXTKy0mbqiyK",
        "colab_type": "code",
        "colab": {}
      },
      "source": [
        ""
      ],
      "execution_count": 0,
      "outputs": []
    },
    {
      "cell_type": "code",
      "metadata": {
        "id": "0EOVoN_5qiyL",
        "colab_type": "code",
        "colab": {
          "base_uri": "https://localhost:8080/",
          "height": 67
        },
        "outputId": "32cb2c42-9502-4385-9440-212314d4975b"
      },
      "source": [
        "torch.nonzero(torch.tensor([10, 00, 23, 0.0, 2, 0]))\n",
        "\n",
        "# torch.nonzero(), a parallel to np.nonzero(); analagous to pd.notnull(), altho not the same, but similar in the concept"
      ],
      "execution_count": 82,
      "outputs": [
        {
          "output_type": "execute_result",
          "data": {
            "text/plain": [
              "tensor([[0],\n",
              "        [2],\n",
              "        [4]])"
            ]
          },
          "metadata": {
            "tags": []
          },
          "execution_count": 82
        }
      ]
    },
    {
      "cell_type": "code",
      "metadata": {
        "id": "W9j_4RXgqiyM",
        "colab_type": "code",
        "colab": {}
      },
      "source": [
        "series = pd.Series([10, 00, 0.0, 2, 0])"
      ],
      "execution_count": 0,
      "outputs": []
    },
    {
      "cell_type": "code",
      "metadata": {
        "id": "GYxw41dpqiyO",
        "colab_type": "code",
        "colab": {
          "base_uri": "https://localhost:8080/",
          "height": 118
        },
        "outputId": "94a6dfcc-6ee6-4ab7-f5a7-71edcc2740ac"
      },
      "source": [
        "series"
      ],
      "execution_count": 84,
      "outputs": [
        {
          "output_type": "execute_result",
          "data": {
            "text/plain": [
              "0    10.0\n",
              "1     0.0\n",
              "2     0.0\n",
              "3     2.0\n",
              "4     0.0\n",
              "dtype: float64"
            ]
          },
          "metadata": {
            "tags": []
          },
          "execution_count": 84
        }
      ]
    },
    {
      "cell_type": "code",
      "metadata": {
        "id": "Mx8rEZcdqiyQ",
        "colab_type": "code",
        "colab": {
          "base_uri": "https://localhost:8080/",
          "height": 34
        },
        "outputId": "d306df8f-fc0a-4643-b1a7-033f147e0f50"
      },
      "source": [
        "np.where(series.notnull())"
      ],
      "execution_count": 85,
      "outputs": [
        {
          "output_type": "execute_result",
          "data": {
            "text/plain": [
              "(array([0, 1, 2, 3, 4]),)"
            ]
          },
          "metadata": {
            "tags": []
          },
          "execution_count": 85
        }
      ]
    },
    {
      "cell_type": "code",
      "metadata": {
        "id": "YZRMUYCQqiyR",
        "colab_type": "code",
        "colab": {}
      },
      "source": [
        ""
      ],
      "execution_count": 0,
      "outputs": []
    },
    {
      "cell_type": "code",
      "metadata": {
        "id": "ziCw1TcmqiyS",
        "colab_type": "code",
        "colab": {
          "base_uri": "https://localhost:8080/",
          "height": 118
        },
        "outputId": "87b789f6-ed27-4a29-fc6d-71ef105259fb"
      },
      "source": [
        "torch.split(torch.tensor([12, 31, 45, 12, 2, 56, 67, 78, 98, 9, 19]), 2)          # so the 2nd arg is for the size of each unit tensor "
      ],
      "execution_count": 86,
      "outputs": [
        {
          "output_type": "execute_result",
          "data": {
            "text/plain": [
              "(tensor([12, 31]),\n",
              " tensor([45, 12]),\n",
              " tensor([ 2, 56]),\n",
              " tensor([67, 78]),\n",
              " tensor([98,  9]),\n",
              " tensor([19]))"
            ]
          },
          "metadata": {
            "tags": []
          },
          "execution_count": 86
        }
      ]
    },
    {
      "cell_type": "code",
      "metadata": {
        "id": "Dr8dAGOvqiyU",
        "colab_type": "code",
        "colab": {
          "base_uri": "https://localhost:8080/",
          "height": 84
        },
        "outputId": "e7c76868-3c9c-4df4-bf59-c0de535cfaa0"
      },
      "source": [
        "torch.split(torch.tensor([12, 31, 45, 12, 2, 56, 67, 78, 98, 9, 19]), 3)         # can be applied on un-even data "
      ],
      "execution_count": 87,
      "outputs": [
        {
          "output_type": "execute_result",
          "data": {
            "text/plain": [
              "(tensor([12, 31, 45]),\n",
              " tensor([12,  2, 56]),\n",
              " tensor([67, 78, 98]),\n",
              " tensor([ 9, 19]))"
            ]
          },
          "metadata": {
            "tags": []
          },
          "execution_count": 87
        }
      ]
    },
    {
      "cell_type": "code",
      "metadata": {
        "id": "ra66EWODqiyV",
        "colab_type": "code",
        "colab": {}
      },
      "source": [
        ""
      ],
      "execution_count": 0,
      "outputs": []
    },
    {
      "cell_type": "code",
      "metadata": {
        "id": "ZmSCzVztqiyX",
        "colab_type": "code",
        "colab": {
          "base_uri": "https://localhost:8080/",
          "height": 84
        },
        "outputId": "d98c3cea-020e-4d7c-d72c-5720bd26c5b1"
      },
      "source": [
        "x"
      ],
      "execution_count": 88,
      "outputs": [
        {
          "output_type": "execute_result",
          "data": {
            "text/plain": [
              "tensor([[0.4724, 0.7023, 0.4440, 0.5945, 0.8253],\n",
              "        [0.1144, 0.8499, 0.5726, 0.1545, 0.1233],\n",
              "        [0.9133, 0.9968, 0.8209, 0.3488, 0.7747],\n",
              "        [0.5881, 0.7624, 0.3675, 0.0399, 0.8569]])"
            ]
          },
          "metadata": {
            "tags": []
          },
          "execution_count": 88
        }
      ]
    },
    {
      "cell_type": "code",
      "metadata": {
        "id": "n9TrcqtWqiyY",
        "colab_type": "code",
        "colab": {
          "base_uri": "https://localhost:8080/",
          "height": 101
        },
        "outputId": "2471bdcd-f3c0-4c28-99ec-82bb231d9059"
      },
      "source": [
        "x.t()"
      ],
      "execution_count": 89,
      "outputs": [
        {
          "output_type": "execute_result",
          "data": {
            "text/plain": [
              "tensor([[0.4724, 0.1144, 0.9133, 0.5881],\n",
              "        [0.7023, 0.8499, 0.9968, 0.7624],\n",
              "        [0.4440, 0.5726, 0.8209, 0.3675],\n",
              "        [0.5945, 0.1545, 0.3488, 0.0399],\n",
              "        [0.8253, 0.1233, 0.7747, 0.8569]])"
            ]
          },
          "metadata": {
            "tags": []
          },
          "execution_count": 89
        }
      ]
    },
    {
      "cell_type": "code",
      "metadata": {
        "id": "VknaUnyxqiyZ",
        "colab_type": "code",
        "colab": {
          "base_uri": "https://localhost:8080/",
          "height": 101
        },
        "outputId": "61ca03d6-d0fe-492f-e570-2bb0cf29d42a"
      },
      "source": [
        "x.transpose(1, 0)"
      ],
      "execution_count": 90,
      "outputs": [
        {
          "output_type": "execute_result",
          "data": {
            "text/plain": [
              "tensor([[0.4724, 0.1144, 0.9133, 0.5881],\n",
              "        [0.7023, 0.8499, 0.9968, 0.7624],\n",
              "        [0.4440, 0.5726, 0.8209, 0.3675],\n",
              "        [0.5945, 0.1545, 0.3488, 0.0399],\n",
              "        [0.8253, 0.1233, 0.7747, 0.8569]])"
            ]
          },
          "metadata": {
            "tags": []
          },
          "execution_count": 90
        }
      ]
    },
    {
      "cell_type": "code",
      "metadata": {
        "id": "qSVm77QPqiya",
        "colab_type": "code",
        "colab": {
          "base_uri": "https://localhost:8080/",
          "height": 101
        },
        "outputId": "c6d30239-7ed6-4924-92fd-0e44e96cabb0"
      },
      "source": [
        "x.transpose(0, 1)"
      ],
      "execution_count": 91,
      "outputs": [
        {
          "output_type": "execute_result",
          "data": {
            "text/plain": [
              "tensor([[0.4724, 0.1144, 0.9133, 0.5881],\n",
              "        [0.7023, 0.8499, 0.9968, 0.7624],\n",
              "        [0.4440, 0.5726, 0.8209, 0.3675],\n",
              "        [0.5945, 0.1545, 0.3488, 0.0399],\n",
              "        [0.8253, 0.1233, 0.7747, 0.8569]])"
            ]
          },
          "metadata": {
            "tags": []
          },
          "execution_count": 91
        }
      ]
    },
    {
      "cell_type": "code",
      "metadata": {
        "id": "yT-Y3w5Cqiyb",
        "colab_type": "code",
        "colab": {}
      },
      "source": [
        ""
      ],
      "execution_count": 0,
      "outputs": []
    },
    {
      "cell_type": "code",
      "metadata": {
        "id": "LB8F-4BIqiye",
        "colab_type": "code",
        "colab": {
          "base_uri": "https://localhost:8080/",
          "height": 84
        },
        "outputId": "25a4d39b-8324-454e-84e7-04d65876fa24"
      },
      "source": [
        "x"
      ],
      "execution_count": 92,
      "outputs": [
        {
          "output_type": "execute_result",
          "data": {
            "text/plain": [
              "tensor([[0.4724, 0.7023, 0.4440, 0.5945, 0.8253],\n",
              "        [0.1144, 0.8499, 0.5726, 0.1545, 0.1233],\n",
              "        [0.9133, 0.9968, 0.8209, 0.3488, 0.7747],\n",
              "        [0.5881, 0.7624, 0.3675, 0.0399, 0.8569]])"
            ]
          },
          "metadata": {
            "tags": []
          },
          "execution_count": 92
        }
      ]
    },
    {
      "cell_type": "code",
      "metadata": {
        "id": "nO2WHSNWqiyg",
        "colab_type": "code",
        "colab": {
          "base_uri": "https://localhost:8080/",
          "height": 101
        },
        "outputId": "3bda7cb5-1ea3-49da-c68a-3f368a3b1a3c"
      },
      "source": [
        "torch.unbind(x, 1)                                         # The unbind function removes a dimension from a tensor"
      ],
      "execution_count": 93,
      "outputs": [
        {
          "output_type": "execute_result",
          "data": {
            "text/plain": [
              "(tensor([0.4724, 0.1144, 0.9133, 0.5881]),\n",
              " tensor([0.7023, 0.8499, 0.9968, 0.7624]),\n",
              " tensor([0.4440, 0.5726, 0.8209, 0.3675]),\n",
              " tensor([0.5945, 0.1545, 0.3488, 0.0399]),\n",
              " tensor([0.8253, 0.1233, 0.7747, 0.8569]))"
            ]
          },
          "metadata": {
            "tags": []
          },
          "execution_count": 93
        }
      ]
    },
    {
      "cell_type": "code",
      "metadata": {
        "id": "rZKWWae3qiyh",
        "colab_type": "code",
        "colab": {
          "base_uri": "https://localhost:8080/",
          "height": 84
        },
        "outputId": "32261566-36f1-40e9-dcae-5c7387d94cf5"
      },
      "source": [
        "torch.unbind(x, 0)"
      ],
      "execution_count": 94,
      "outputs": [
        {
          "output_type": "execute_result",
          "data": {
            "text/plain": [
              "(tensor([0.4724, 0.7023, 0.4440, 0.5945, 0.8253]),\n",
              " tensor([0.1144, 0.8499, 0.5726, 0.1545, 0.1233]),\n",
              " tensor([0.9133, 0.9968, 0.8209, 0.3488, 0.7747]),\n",
              " tensor([0.5881, 0.7624, 0.3675, 0.0399, 0.8569]))"
            ]
          },
          "metadata": {
            "tags": []
          },
          "execution_count": 94
        }
      ]
    }
  ]
}